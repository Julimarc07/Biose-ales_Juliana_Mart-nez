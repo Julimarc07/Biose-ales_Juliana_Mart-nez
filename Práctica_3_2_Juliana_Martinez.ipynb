{
  "nbformat": 4,
  "nbformat_minor": 0,
  "metadata": {
    "colab": {
      "provenance": [],
      "authorship_tag": "ABX9TyPjKPEj7Q99J3ARIgYU+RRb",
      "include_colab_link": true
    },
    "kernelspec": {
      "name": "python3",
      "display_name": "Python 3"
    },
    "language_info": {
      "name": "python"
    }
  },
  "cells": [
    {
      "cell_type": "markdown",
      "metadata": {
        "id": "view-in-github",
        "colab_type": "text"
      },
      "source": [
        "<a href=\"https://colab.research.google.com/github/Julimarc07/Biose-ales_Juliana_Mart-nez/blob/main/Pr%C3%A1ctica_3_2_Juliana_Martinez.ipynb\" target=\"_parent\"><img src=\"https://colab.research.google.com/assets/colab-badge.svg\" alt=\"Open In Colab\"/></a>"
      ]
    },
    {
      "cell_type": "markdown",
      "source": [
        "# **Práctica 3**"
      ],
      "metadata": {
        "id": "hxxz1xGwuy78"
      }
    },
    {
      "cell_type": "markdown",
      "source": [
        "Extracción de datos"
      ],
      "metadata": {
        "id": "2fnKDebvESwd"
      }
    },
    {
      "cell_type": "code",
      "source": [
        "from google.colab import files\n",
        "\n",
        "import numpy as np\n",
        "import pandas as pd\n",
        "import matplotlib.pyplot as plt\n",
        "import seaborn as sns\n",
        "import scipy.io as sio\n",
        "from scipy import stats\n",
        "import os\n",
        "from scipy.stats import mannwhitneyu,levene, kstest, norm\n",
        "\n",
        "uploaded = files.upload()"
      ],
      "metadata": {
        "colab": {
          "base_uri": "https://localhost:8080/",
          "height": 73
        },
        "id": "dk6kmc36u1i4",
        "outputId": "392ed671-687e-4b6f-822e-7a2deef7af11"
      },
      "execution_count": 4,
      "outputs": [
        {
          "output_type": "display_data",
          "data": {
            "text/plain": [
              "<IPython.core.display.HTML object>"
            ],
            "text/html": [
              "\n",
              "     <input type=\"file\" id=\"files-9282ffef-1aa9-4d7c-9292-7f3748d54c91\" name=\"files[]\" multiple disabled\n",
              "        style=\"border:none\" />\n",
              "     <output id=\"result-9282ffef-1aa9-4d7c-9292-7f3748d54c91\">\n",
              "      Upload widget is only available when the cell has been executed in the\n",
              "      current browser session. Please rerun this cell to enable.\n",
              "      </output>\n",
              "      <script>// Copyright 2017 Google LLC\n",
              "//\n",
              "// Licensed under the Apache License, Version 2.0 (the \"License\");\n",
              "// you may not use this file except in compliance with the License.\n",
              "// You may obtain a copy of the License at\n",
              "//\n",
              "//      http://www.apache.org/licenses/LICENSE-2.0\n",
              "//\n",
              "// Unless required by applicable law or agreed to in writing, software\n",
              "// distributed under the License is distributed on an \"AS IS\" BASIS,\n",
              "// WITHOUT WARRANTIES OR CONDITIONS OF ANY KIND, either express or implied.\n",
              "// See the License for the specific language governing permissions and\n",
              "// limitations under the License.\n",
              "\n",
              "/**\n",
              " * @fileoverview Helpers for google.colab Python module.\n",
              " */\n",
              "(function(scope) {\n",
              "function span(text, styleAttributes = {}) {\n",
              "  const element = document.createElement('span');\n",
              "  element.textContent = text;\n",
              "  for (const key of Object.keys(styleAttributes)) {\n",
              "    element.style[key] = styleAttributes[key];\n",
              "  }\n",
              "  return element;\n",
              "}\n",
              "\n",
              "// Max number of bytes which will be uploaded at a time.\n",
              "const MAX_PAYLOAD_SIZE = 100 * 1024;\n",
              "\n",
              "function _uploadFiles(inputId, outputId) {\n",
              "  const steps = uploadFilesStep(inputId, outputId);\n",
              "  const outputElement = document.getElementById(outputId);\n",
              "  // Cache steps on the outputElement to make it available for the next call\n",
              "  // to uploadFilesContinue from Python.\n",
              "  outputElement.steps = steps;\n",
              "\n",
              "  return _uploadFilesContinue(outputId);\n",
              "}\n",
              "\n",
              "// This is roughly an async generator (not supported in the browser yet),\n",
              "// where there are multiple asynchronous steps and the Python side is going\n",
              "// to poll for completion of each step.\n",
              "// This uses a Promise to block the python side on completion of each step,\n",
              "// then passes the result of the previous step as the input to the next step.\n",
              "function _uploadFilesContinue(outputId) {\n",
              "  const outputElement = document.getElementById(outputId);\n",
              "  const steps = outputElement.steps;\n",
              "\n",
              "  const next = steps.next(outputElement.lastPromiseValue);\n",
              "  return Promise.resolve(next.value.promise).then((value) => {\n",
              "    // Cache the last promise value to make it available to the next\n",
              "    // step of the generator.\n",
              "    outputElement.lastPromiseValue = value;\n",
              "    return next.value.response;\n",
              "  });\n",
              "}\n",
              "\n",
              "/**\n",
              " * Generator function which is called between each async step of the upload\n",
              " * process.\n",
              " * @param {string} inputId Element ID of the input file picker element.\n",
              " * @param {string} outputId Element ID of the output display.\n",
              " * @return {!Iterable<!Object>} Iterable of next steps.\n",
              " */\n",
              "function* uploadFilesStep(inputId, outputId) {\n",
              "  const inputElement = document.getElementById(inputId);\n",
              "  inputElement.disabled = false;\n",
              "\n",
              "  const outputElement = document.getElementById(outputId);\n",
              "  outputElement.innerHTML = '';\n",
              "\n",
              "  const pickedPromise = new Promise((resolve) => {\n",
              "    inputElement.addEventListener('change', (e) => {\n",
              "      resolve(e.target.files);\n",
              "    });\n",
              "  });\n",
              "\n",
              "  const cancel = document.createElement('button');\n",
              "  inputElement.parentElement.appendChild(cancel);\n",
              "  cancel.textContent = 'Cancel upload';\n",
              "  const cancelPromise = new Promise((resolve) => {\n",
              "    cancel.onclick = () => {\n",
              "      resolve(null);\n",
              "    };\n",
              "  });\n",
              "\n",
              "  // Wait for the user to pick the files.\n",
              "  const files = yield {\n",
              "    promise: Promise.race([pickedPromise, cancelPromise]),\n",
              "    response: {\n",
              "      action: 'starting',\n",
              "    }\n",
              "  };\n",
              "\n",
              "  cancel.remove();\n",
              "\n",
              "  // Disable the input element since further picks are not allowed.\n",
              "  inputElement.disabled = true;\n",
              "\n",
              "  if (!files) {\n",
              "    return {\n",
              "      response: {\n",
              "        action: 'complete',\n",
              "      }\n",
              "    };\n",
              "  }\n",
              "\n",
              "  for (const file of files) {\n",
              "    const li = document.createElement('li');\n",
              "    li.append(span(file.name, {fontWeight: 'bold'}));\n",
              "    li.append(span(\n",
              "        `(${file.type || 'n/a'}) - ${file.size} bytes, ` +\n",
              "        `last modified: ${\n",
              "            file.lastModifiedDate ? file.lastModifiedDate.toLocaleDateString() :\n",
              "                                    'n/a'} - `));\n",
              "    const percent = span('0% done');\n",
              "    li.appendChild(percent);\n",
              "\n",
              "    outputElement.appendChild(li);\n",
              "\n",
              "    const fileDataPromise = new Promise((resolve) => {\n",
              "      const reader = new FileReader();\n",
              "      reader.onload = (e) => {\n",
              "        resolve(e.target.result);\n",
              "      };\n",
              "      reader.readAsArrayBuffer(file);\n",
              "    });\n",
              "    // Wait for the data to be ready.\n",
              "    let fileData = yield {\n",
              "      promise: fileDataPromise,\n",
              "      response: {\n",
              "        action: 'continue',\n",
              "      }\n",
              "    };\n",
              "\n",
              "    // Use a chunked sending to avoid message size limits. See b/62115660.\n",
              "    let position = 0;\n",
              "    do {\n",
              "      const length = Math.min(fileData.byteLength - position, MAX_PAYLOAD_SIZE);\n",
              "      const chunk = new Uint8Array(fileData, position, length);\n",
              "      position += length;\n",
              "\n",
              "      const base64 = btoa(String.fromCharCode.apply(null, chunk));\n",
              "      yield {\n",
              "        response: {\n",
              "          action: 'append',\n",
              "          file: file.name,\n",
              "          data: base64,\n",
              "        },\n",
              "      };\n",
              "\n",
              "      let percentDone = fileData.byteLength === 0 ?\n",
              "          100 :\n",
              "          Math.round((position / fileData.byteLength) * 100);\n",
              "      percent.textContent = `${percentDone}% done`;\n",
              "\n",
              "    } while (position < fileData.byteLength);\n",
              "  }\n",
              "\n",
              "  // All done.\n",
              "  yield {\n",
              "    response: {\n",
              "      action: 'complete',\n",
              "    }\n",
              "  };\n",
              "}\n",
              "\n",
              "scope.google = scope.google || {};\n",
              "scope.google.colab = scope.google.colab || {};\n",
              "scope.google.colab._files = {\n",
              "  _uploadFiles,\n",
              "  _uploadFilesContinue,\n",
              "};\n",
              "})(self);\n",
              "</script> "
            ]
          },
          "metadata": {}
        },
        {
          "output_type": "stream",
          "name": "stdout",
          "text": [
            "Saving datos_senales_datos_parkinson_cursos.zip to datos_senales_datos_parkinson_cursos.zip\n"
          ]
        }
      ]
    },
    {
      "cell_type": "code",
      "source": [
        "import zipfile\n",
        "with zipfile.ZipFile(\"datos_senales_datos_parkinson_cursos.zip\", 'r') as zip_ref:\n",
        "    zip_ref.extractall(\"datos\")"
      ],
      "metadata": {
        "id": "6qYQTVp-wJn7"
      },
      "execution_count": 5,
      "outputs": []
    },
    {
      "cell_type": "code",
      "source": [
        "directorio_actual = \"/content/datos\"\n",
        "print(directorio_actual)"
      ],
      "metadata": {
        "colab": {
          "base_uri": "https://localhost:8080/"
        },
        "id": "A5_6U1rn6GqB",
        "outputId": "717e83af-7da3-4751-84fe-5dd23be0bd2a"
      },
      "execution_count": 8,
      "outputs": [
        {
          "output_type": "stream",
          "name": "stdout",
          "text": [
            "/content/datos\n"
          ]
        }
      ]
    },
    {
      "cell_type": "code",
      "source": [
        "# Archivos de cada carpeta\n",
        "archivos_control = os.listdir(directorio_actual + \"/control\")\n",
        "print(f'Hay {len(archivos_control)} archivos control')\n",
        "\n",
        "archivos_parkinson = os.listdir(directorio_actual + \"/parkinson\")\n",
        "print(f'Hay {len(archivos_parkinson)} archivos parkinson')"
      ],
      "metadata": {
        "colab": {
          "base_uri": "https://localhost:8080/"
        },
        "id": "HFq4Wmta6MMq",
        "outputId": "63bf84a4-b839-48fb-a7bf-bca8941fded1"
      },
      "execution_count": 9,
      "outputs": [
        {
          "output_type": "stream",
          "name": "stdout",
          "text": [
            "Hay 36 archivos control\n",
            "Hay 23 archivos parkinson\n"
          ]
        }
      ]
    },
    {
      "cell_type": "markdown",
      "source": [
        "Para archivos de control"
      ],
      "metadata": {
        "id": "0Z-NOL_E9eeP"
      }
    },
    {
      "cell_type": "code",
      "source": [
        "for archivo in archivos_control:\n",
        "    path_subjecti = os.path.join(directorio_actual, \"control\", archivo)\n",
        "    data = sio.loadmat(path_subjecti)\n",
        "    data = data['data']\n",
        "\n",
        "    print(f'\\nArchivo: {archivo}')\n",
        "    print(f'Tipo de variable cargada: {str(type(data))}')\n",
        "    print(f'Dimensiones de los datos cargados: {str(data.shape)}')\n",
        "    print(f'Número de dimensiones: {str(data.ndim)}')\n",
        "    print(f'Tamaño: {str(data.size)}')\n",
        "    print(f'Tamaño de memoria (bytes): {str(data.nbytes)}')"
      ],
      "metadata": {
        "colab": {
          "base_uri": "https://localhost:8080/"
        },
        "id": "mvj7scgj6PfS",
        "outputId": "c35b47db-0016-4803-9824-90c2b98e7781"
      },
      "execution_count": 10,
      "outputs": [
        {
          "output_type": "stream",
          "name": "stdout",
          "text": [
            "\n",
            "Archivo: C034_EP_reposo.mat\n",
            "Tipo de variable cargada: <class 'numpy.ndarray'>\n",
            "Dimensiones de los datos cargados: (8, 2000, 173)\n",
            "Número de dimensiones: 3\n",
            "Tamaño: 2768000\n",
            "Tamaño de memoria (bytes): 22144000\n",
            "\n",
            "Archivo: C023_EP_reposo.mat\n",
            "Tipo de variable cargada: <class 'numpy.ndarray'>\n",
            "Dimensiones de los datos cargados: (8, 2000, 206)\n",
            "Número de dimensiones: 3\n",
            "Tamaño: 3296000\n",
            "Tamaño de memoria (bytes): 26368000\n",
            "\n",
            "Archivo: C021_EP_reposo.mat\n",
            "Tipo de variable cargada: <class 'numpy.ndarray'>\n",
            "Dimensiones de los datos cargados: (8, 2000, 180)\n",
            "Número de dimensiones: 3\n",
            "Tamaño: 2880000\n",
            "Tamaño de memoria (bytes): 23040000\n",
            "\n",
            "Archivo: C007_EP_reposo.mat\n",
            "Tipo de variable cargada: <class 'numpy.ndarray'>\n",
            "Dimensiones de los datos cargados: (8, 2000, 173)\n",
            "Número de dimensiones: 3\n",
            "Tamaño: 2768000\n",
            "Tamaño de memoria (bytes): 22144000\n",
            "\n",
            "Archivo: C010_EP_reposo.mat\n",
            "Tipo de variable cargada: <class 'numpy.ndarray'>\n",
            "Dimensiones de los datos cargados: (8, 2000, 136)\n",
            "Número de dimensiones: 3\n",
            "Tamaño: 2176000\n",
            "Tamaño de memoria (bytes): 17408000\n",
            "\n",
            "Archivo: C044_EP_reposo.mat\n",
            "Tipo de variable cargada: <class 'numpy.ndarray'>\n",
            "Dimensiones de los datos cargados: (8, 2000, 258)\n",
            "Número de dimensiones: 3\n",
            "Tamaño: 4128000\n",
            "Tamaño de memoria (bytes): 33024000\n",
            "\n",
            "Archivo: C002_EP_reposo.mat\n",
            "Tipo de variable cargada: <class 'numpy.ndarray'>\n",
            "Dimensiones de los datos cargados: (8, 2000, 176)\n",
            "Número de dimensiones: 3\n",
            "Tamaño: 2816000\n",
            "Tamaño de memoria (bytes): 22528000\n",
            "\n",
            "Archivo: C005_EP_reposo_Repetido.mat\n",
            "Tipo de variable cargada: <class 'numpy.ndarray'>\n",
            "Dimensiones de los datos cargados: (8, 2000, 149)\n",
            "Número de dimensiones: 3\n",
            "Tamaño: 2384000\n",
            "Tamaño de memoria (bytes): 19072000\n",
            "\n",
            "Archivo: C033R_EP_reposo.mat\n",
            "Tipo de variable cargada: <class 'numpy.ndarray'>\n",
            "Dimensiones de los datos cargados: (8, 2000, 189)\n",
            "Número de dimensiones: 3\n",
            "Tamaño: 3024000\n",
            "Tamaño de memoria (bytes): 24192000\n",
            "\n",
            "Archivo: C036_EP_reposo.mat\n",
            "Tipo de variable cargada: <class 'numpy.ndarray'>\n",
            "Dimensiones de los datos cargados: (8, 2000, 147)\n",
            "Número de dimensiones: 3\n",
            "Tamaño: 2352000\n",
            "Tamaño de memoria (bytes): 18816000\n",
            "\n",
            "Archivo: C015_EP_reposo.mat\n",
            "Tipo de variable cargada: <class 'numpy.ndarray'>\n",
            "Dimensiones de los datos cargados: (8, 2000, 140)\n",
            "Número de dimensiones: 3\n",
            "Tamaño: 2240000\n",
            "Tamaño de memoria (bytes): 17920000\n",
            "\n",
            "Archivo: C001R_EP_reposo.mat\n",
            "Tipo de variable cargada: <class 'numpy.ndarray'>\n",
            "Dimensiones de los datos cargados: (8, 2000, 180)\n",
            "Número de dimensiones: 3\n",
            "Tamaño: 2880000\n",
            "Tamaño de memoria (bytes): 23040000\n",
            "\n",
            "Archivo: C018_EP_reposo.mat\n",
            "Tipo de variable cargada: <class 'numpy.ndarray'>\n",
            "Dimensiones de los datos cargados: (8, 2000, 157)\n",
            "Número de dimensiones: 3\n",
            "Tamaño: 2512000\n",
            "Tamaño de memoria (bytes): 20096000\n",
            "\n",
            "Archivo: C024_EP_reposo.mat\n",
            "Tipo de variable cargada: <class 'numpy.ndarray'>\n",
            "Dimensiones de los datos cargados: (8, 2000, 186)\n",
            "Número de dimensiones: 3\n",
            "Tamaño: 2976000\n",
            "Tamaño de memoria (bytes): 23808000\n",
            "\n",
            "Archivo: C027_EP_reposo.mat\n",
            "Tipo de variable cargada: <class 'numpy.ndarray'>\n",
            "Dimensiones de los datos cargados: (8, 2000, 142)\n",
            "Número de dimensiones: 3\n",
            "Tamaño: 2272000\n",
            "Tamaño de memoria (bytes): 18176000\n",
            "\n",
            "Archivo: C013_EP_reposo.mat\n",
            "Tipo de variable cargada: <class 'numpy.ndarray'>\n",
            "Dimensiones de los datos cargados: (8, 2000, 175)\n",
            "Número de dimensiones: 3\n",
            "Tamaño: 2800000\n",
            "Tamaño de memoria (bytes): 22400000\n",
            "\n",
            "Archivo: C006_EP_reposo.mat\n",
            "Tipo de variable cargada: <class 'numpy.ndarray'>\n",
            "Dimensiones de los datos cargados: (8, 2000, 168)\n",
            "Número de dimensiones: 3\n",
            "Tamaño: 2688000\n",
            "Tamaño de memoria (bytes): 21504000\n",
            "\n",
            "Archivo: C011_EP_reposo.mat\n",
            "Tipo de variable cargada: <class 'numpy.ndarray'>\n",
            "Dimensiones de los datos cargados: (8, 2000, 173)\n",
            "Número de dimensiones: 3\n",
            "Tamaño: 2768000\n",
            "Tamaño de memoria (bytes): 22144000\n",
            "\n",
            "Archivo: C012_EP_reposo.mat\n",
            "Tipo de variable cargada: <class 'numpy.ndarray'>\n",
            "Dimensiones de los datos cargados: (8, 2000, 172)\n",
            "Número de dimensiones: 3\n",
            "Tamaño: 2752000\n",
            "Tamaño de memoria (bytes): 22016000\n",
            "\n",
            "Archivo: C031_EP_reposo.mat\n",
            "Tipo de variable cargada: <class 'numpy.ndarray'>\n",
            "Dimensiones de los datos cargados: (8, 2000, 178)\n",
            "Número de dimensiones: 3\n",
            "Tamaño: 2848000\n",
            "Tamaño de memoria (bytes): 22784000\n",
            "\n",
            "Archivo: C037_EP_reposo.mat\n",
            "Tipo de variable cargada: <class 'numpy.ndarray'>\n",
            "Dimensiones de los datos cargados: (8, 2000, 181)\n",
            "Número de dimensiones: 3\n",
            "Tamaño: 2896000\n",
            "Tamaño de memoria (bytes): 23168000\n",
            "\n",
            "Archivo: C030_EP_reposo.mat\n",
            "Tipo de variable cargada: <class 'numpy.ndarray'>\n",
            "Dimensiones de los datos cargados: (8, 2000, 144)\n",
            "Número de dimensiones: 3\n",
            "Tamaño: 2304000\n",
            "Tamaño de memoria (bytes): 18432000\n",
            "\n",
            "Archivo: C041_EP_reposo.mat\n",
            "Tipo de variable cargada: <class 'numpy.ndarray'>\n",
            "Dimensiones de los datos cargados: (8, 2000, 203)\n",
            "Número de dimensiones: 3\n",
            "Tamaño: 3248000\n",
            "Tamaño de memoria (bytes): 25984000\n",
            "\n",
            "Archivo: C004_EP_reposo.mat\n",
            "Tipo de variable cargada: <class 'numpy.ndarray'>\n",
            "Dimensiones de los datos cargados: (8, 2000, 146)\n",
            "Número de dimensiones: 3\n",
            "Tamaño: 2336000\n",
            "Tamaño de memoria (bytes): 18688000\n",
            "\n",
            "Archivo: C032_EP_reposo.mat\n",
            "Tipo de variable cargada: <class 'numpy.ndarray'>\n",
            "Dimensiones de los datos cargados: (8, 2000, 163)\n",
            "Número de dimensiones: 3\n",
            "Tamaño: 2608000\n",
            "Tamaño de memoria (bytes): 20864000\n",
            "\n",
            "Archivo: C046_EP_reposo.mat\n",
            "Tipo de variable cargada: <class 'numpy.ndarray'>\n",
            "Dimensiones de los datos cargados: (8, 2000, 164)\n",
            "Número de dimensiones: 3\n",
            "Tamaño: 2624000\n",
            "Tamaño de memoria (bytes): 20992000\n",
            "\n",
            "Archivo: C020_EP_reposo.mat\n",
            "Tipo de variable cargada: <class 'numpy.ndarray'>\n",
            "Dimensiones de los datos cargados: (8, 2000, 166)\n",
            "Número de dimensiones: 3\n",
            "Tamaño: 2656000\n",
            "Tamaño de memoria (bytes): 21248000\n",
            "\n",
            "Archivo: C045_EP_reposo.mat\n",
            "Tipo de variable cargada: <class 'numpy.ndarray'>\n",
            "Dimensiones de los datos cargados: (8, 2000, 161)\n",
            "Número de dimensiones: 3\n",
            "Tamaño: 2576000\n",
            "Tamaño de memoria (bytes): 20608000\n",
            "\n",
            "Archivo: C029_EP_reposo.mat\n",
            "Tipo de variable cargada: <class 'numpy.ndarray'>\n",
            "Dimensiones de los datos cargados: (8, 2000, 160)\n",
            "Número de dimensiones: 3\n",
            "Tamaño: 2560000\n",
            "Tamaño de memoria (bytes): 20480000\n",
            "\n",
            "Archivo: C028_EP_reposo.mat\n",
            "Tipo de variable cargada: <class 'numpy.ndarray'>\n",
            "Dimensiones de los datos cargados: (8, 2000, 169)\n",
            "Número de dimensiones: 3\n",
            "Tamaño: 2704000\n",
            "Tamaño de memoria (bytes): 21632000\n",
            "\n",
            "Archivo: C040_EP_reposo.mat\n",
            "Tipo de variable cargada: <class 'numpy.ndarray'>\n",
            "Dimensiones de los datos cargados: (8, 2000, 187)\n",
            "Número de dimensiones: 3\n",
            "Tamaño: 2992000\n",
            "Tamaño de memoria (bytes): 23936000\n",
            "\n",
            "Archivo: C026_EP_reposo.mat\n",
            "Tipo de variable cargada: <class 'numpy.ndarray'>\n",
            "Dimensiones de los datos cargados: (8, 2000, 154)\n",
            "Número de dimensiones: 3\n",
            "Tamaño: 2464000\n",
            "Tamaño de memoria (bytes): 19712000\n",
            "\n",
            "Archivo: C025_EP_reposo.mat\n",
            "Tipo de variable cargada: <class 'numpy.ndarray'>\n",
            "Dimensiones de los datos cargados: (8, 2000, 154)\n",
            "Número de dimensiones: 3\n",
            "Tamaño: 2464000\n",
            "Tamaño de memoria (bytes): 19712000\n",
            "\n",
            "Archivo: C042_EP_reposo.mat\n",
            "Tipo de variable cargada: <class 'numpy.ndarray'>\n",
            "Dimensiones de los datos cargados: (8, 2000, 167)\n",
            "Número de dimensiones: 3\n",
            "Tamaño: 2672000\n",
            "Tamaño de memoria (bytes): 21376000\n",
            "\n",
            "Archivo: C049_EP_reposo.mat\n",
            "Tipo de variable cargada: <class 'numpy.ndarray'>\n",
            "Dimensiones de los datos cargados: (8, 2000, 184)\n",
            "Número de dimensiones: 3\n",
            "Tamaño: 2944000\n",
            "Tamaño de memoria (bytes): 23552000\n",
            "\n",
            "Archivo: C019_EP_reposo.mat\n",
            "Tipo de variable cargada: <class 'numpy.ndarray'>\n",
            "Dimensiones de los datos cargados: (8, 2000, 179)\n",
            "Número de dimensiones: 3\n",
            "Tamaño: 2864000\n",
            "Tamaño de memoria (bytes): 22912000\n"
          ]
        }
      ]
    },
    {
      "cell_type": "markdown",
      "source": [
        "Para archivos de parkinson"
      ],
      "metadata": {
        "id": "Z_Ikm_ZB9q0N"
      }
    },
    {
      "cell_type": "code",
      "source": [
        "for archivo in archivos_parkinson:\n",
        "    path_subjecti = os.path.join(directorio_actual, \"parkinson\", archivo)\n",
        "    data = sio.loadmat(path_subjecti)\n",
        "    data = data['data']\n",
        "\n",
        "    print(f'\\nArchivo: {archivo}')\n",
        "    print(f'Tipo de variable cargada: {str(type(data))}')\n",
        "    print(f'Dimensiones de los datos cargados: {str(data.shape)}')\n",
        "    print(f'Número de dimensiones: {str(data.ndim)}')\n",
        "    print(f'Tamaño: {str(data.size)}')\n",
        "    print(f'Tamaño de memoria (bytes): {str(data.nbytes)}')"
      ],
      "metadata": {
        "colab": {
          "base_uri": "https://localhost:8080/"
        },
        "id": "PPGQGWuv6Tfz",
        "outputId": "57ed2b34-286e-4a6d-ac16-d30f0dc7973c"
      },
      "execution_count": 11,
      "outputs": [
        {
          "output_type": "stream",
          "name": "stdout",
          "text": [
            "\n",
            "Archivo: P012_EP_reposo.mat\n",
            "Tipo de variable cargada: <class 'numpy.ndarray'>\n",
            "Dimensiones de los datos cargados: (8, 2000, 140)\n",
            "Número de dimensiones: 3\n",
            "Tamaño: 2240000\n",
            "Tamaño de memoria (bytes): 17920000\n",
            "\n",
            "Archivo: P004_EP_reposo.mat\n",
            "Tipo de variable cargada: <class 'numpy.ndarray'>\n",
            "Dimensiones de los datos cargados: (8, 2000, 138)\n",
            "Número de dimensiones: 3\n",
            "Tamaño: 2208000\n",
            "Tamaño de memoria (bytes): 17664000\n",
            "\n",
            "Archivo: P018_EP_reposo.mat\n",
            "Tipo de variable cargada: <class 'numpy.ndarray'>\n",
            "Dimensiones de los datos cargados: (8, 2000, 149)\n",
            "Número de dimensiones: 3\n",
            "Tamaño: 2384000\n",
            "Tamaño de memoria (bytes): 19072000\n",
            "\n",
            "Archivo: P041_EP_reposo.mat\n",
            "Tipo de variable cargada: <class 'numpy.ndarray'>\n",
            "Dimensiones de los datos cargados: (8, 2000, 157)\n",
            "Número de dimensiones: 3\n",
            "Tamaño: 2512000\n",
            "Tamaño de memoria (bytes): 20096000\n",
            "\n",
            "Archivo: P032_EP_reposo.mat\n",
            "Tipo de variable cargada: <class 'numpy.ndarray'>\n",
            "Dimensiones de los datos cargados: (8, 2000, 164)\n",
            "Número de dimensiones: 3\n",
            "Tamaño: 2624000\n",
            "Tamaño de memoria (bytes): 20992000\n",
            "\n",
            "Archivo: P017_EP_reposo.mat\n",
            "Tipo de variable cargada: <class 'numpy.ndarray'>\n",
            "Dimensiones de los datos cargados: (8, 2000, 176)\n",
            "Número de dimensiones: 3\n",
            "Tamaño: 2816000\n",
            "Tamaño de memoria (bytes): 22528000\n",
            "\n",
            "Archivo: P030_EP_reposo.mat\n",
            "Tipo de variable cargada: <class 'numpy.ndarray'>\n",
            "Dimensiones de los datos cargados: (8, 2000, 171)\n",
            "Número de dimensiones: 3\n",
            "Tamaño: 2736000\n",
            "Tamaño de memoria (bytes): 21888000\n",
            "\n",
            "Archivo: P046_EP_reposo.mat\n",
            "Tipo de variable cargada: <class 'numpy.ndarray'>\n",
            "Dimensiones de los datos cargados: (8, 2000, 167)\n",
            "Número de dimensiones: 3\n",
            "Tamaño: 2672000\n",
            "Tamaño de memoria (bytes): 21376000\n",
            "\n",
            "Archivo: P048_EP_reposo.mat\n",
            "Tipo de variable cargada: <class 'numpy.ndarray'>\n",
            "Dimensiones de los datos cargados: (8, 2000, 162)\n",
            "Número de dimensiones: 3\n",
            "Tamaño: 2592000\n",
            "Tamaño de memoria (bytes): 20736000\n",
            "\n",
            "Archivo: P026_EP_reposo.mat\n",
            "Tipo de variable cargada: <class 'numpy.ndarray'>\n",
            "Dimensiones de los datos cargados: (8, 2000, 142)\n",
            "Número de dimensiones: 3\n",
            "Tamaño: 2272000\n",
            "Tamaño de memoria (bytes): 18176000\n",
            "\n",
            "Archivo: P007_EP_reposo.mat\n",
            "Tipo de variable cargada: <class 'numpy.ndarray'>\n",
            "Dimensiones de los datos cargados: (8, 2000, 153)\n",
            "Número de dimensiones: 3\n",
            "Tamaño: 2448000\n",
            "Tamaño de memoria (bytes): 19584000\n",
            "\n",
            "Archivo: P013_EP_reposo.mat\n",
            "Tipo de variable cargada: <class 'numpy.ndarray'>\n",
            "Dimensiones de los datos cargados: (8, 2000, 143)\n",
            "Número de dimensiones: 3\n",
            "Tamaño: 2288000\n",
            "Tamaño de memoria (bytes): 18304000\n",
            "\n",
            "Archivo: P034_EP_reposo.mat\n",
            "Tipo de variable cargada: <class 'numpy.ndarray'>\n",
            "Dimensiones de los datos cargados: (8, 2000, 159)\n",
            "Número de dimensiones: 3\n",
            "Tamaño: 2544000\n",
            "Tamaño de memoria (bytes): 20352000\n",
            "\n",
            "Archivo: P033_EP_reposo.mat\n",
            "Tipo de variable cargada: <class 'numpy.ndarray'>\n",
            "Dimensiones de los datos cargados: (8, 2000, 154)\n",
            "Número de dimensiones: 3\n",
            "Tamaño: 2464000\n",
            "Tamaño de memoria (bytes): 19712000\n",
            "\n",
            "Archivo: P025_EP_reposo.mat\n",
            "Tipo de variable cargada: <class 'numpy.ndarray'>\n",
            "Dimensiones de los datos cargados: (8, 2000, 154)\n",
            "Número de dimensiones: 3\n",
            "Tamaño: 2464000\n",
            "Tamaño de memoria (bytes): 19712000\n",
            "\n",
            "Archivo: P005_EP_reposo.mat\n",
            "Tipo de variable cargada: <class 'numpy.ndarray'>\n",
            "Dimensiones de los datos cargados: (8, 2000, 174)\n",
            "Número de dimensiones: 3\n",
            "Tamaño: 2784000\n",
            "Tamaño de memoria (bytes): 22272000\n",
            "\n",
            "Archivo: P001_EP_reposo.mat\n",
            "Tipo de variable cargada: <class 'numpy.ndarray'>\n",
            "Dimensiones de los datos cargados: (8, 2000, 143)\n",
            "Número de dimensiones: 3\n",
            "Tamaño: 2288000\n",
            "Tamaño de memoria (bytes): 18304000\n",
            "\n",
            "Archivo: P049_EP_reposo.mat\n",
            "Tipo de variable cargada: <class 'numpy.ndarray'>\n",
            "Dimensiones de los datos cargados: (8, 2000, 170)\n",
            "Número de dimensiones: 3\n",
            "Tamaño: 2720000\n",
            "Tamaño de memoria (bytes): 21760000\n",
            "\n",
            "Archivo: P016_EP_reposo.mat\n",
            "Tipo de variable cargada: <class 'numpy.ndarray'>\n",
            "Dimensiones de los datos cargados: (8, 2000, 150)\n",
            "Número de dimensiones: 3\n",
            "Tamaño: 2400000\n",
            "Tamaño de memoria (bytes): 19200000\n",
            "\n",
            "Archivo: P028_EP_reposo.mat\n",
            "Tipo de variable cargada: <class 'numpy.ndarray'>\n",
            "Dimensiones de los datos cargados: (8, 2000, 174)\n",
            "Número de dimensiones: 3\n",
            "Tamaño: 2784000\n",
            "Tamaño de memoria (bytes): 22272000\n",
            "\n",
            "Archivo: P040_EP_reposo.mat\n",
            "Tipo de variable cargada: <class 'numpy.ndarray'>\n",
            "Dimensiones de los datos cargados: (8, 2000, 198)\n",
            "Número de dimensiones: 3\n",
            "Tamaño: 3168000\n",
            "Tamaño de memoria (bytes): 25344000\n",
            "\n",
            "Archivo: P020_EP_reposo.mat\n",
            "Tipo de variable cargada: <class 'numpy.ndarray'>\n",
            "Dimensiones de los datos cargados: (8, 2000, 140)\n",
            "Número de dimensiones: 3\n",
            "Tamaño: 2240000\n",
            "Tamaño de memoria (bytes): 17920000\n",
            "\n",
            "Archivo: P015_EP_reposo.mat\n",
            "Tipo de variable cargada: <class 'numpy.ndarray'>\n",
            "Dimensiones de los datos cargados: (8, 2000, 147)\n",
            "Número de dimensiones: 3\n",
            "Tamaño: 2352000\n",
            "Tamaño de memoria (bytes): 18816000\n"
          ]
        }
      ]
    },
    {
      "cell_type": "markdown",
      "source": [
        "**1. Implemente una función que reciba una señal de múltiples canales y épocas y calcule la Energía de promedio de cada canal.**"
      ],
      "metadata": {
        "id": "oxtgM82evzbb"
      }
    },
    {
      "cell_type": "code",
      "source": [
        "def energiaPromedio(vector):\n",
        "  canales, puntos, epocas = vector.shape\n",
        "\n",
        "  energia_epocas = np.sum(vector**2,axis=1)\n",
        "\n",
        "  energia_prom = np.mean(energia_epocas,axis=1)\n",
        "\n",
        "  return energia_prom"
      ],
      "metadata": {
        "id": "ggfXO4kgyCID"
      },
      "execution_count": 12,
      "outputs": []
    },
    {
      "cell_type": "markdown",
      "source": [
        "**2. Calcule la energía de cada canal promediada por épocas para cada sujeto, esto para ambos grupos poblacionales. Guarde esta información en un DataFrame de columnas ‘canal’ y filas ‘#sujeto’ con los valores de energía calculados, un DataFrame para cada grupo poblacional**"
      ],
      "metadata": {
        "id": "MSrPNaR1y7uQ"
      }
    },
    {
      "cell_type": "markdown",
      "source": [
        "Calcular la energía promedio por sujeto y por canal"
      ],
      "metadata": {
        "id": "FZZicYz2zAOA"
      }
    },
    {
      "cell_type": "code",
      "source": [
        "def energia_prom_sujetos(path):\n",
        "  archivos = os.listdir(path)\n",
        "\n",
        "  #Matriz para almacenar E prom de cada sujeto\n",
        "  matriz_energias = np.zeros((len(archivos),8))\n",
        "\n",
        "  for i, archivo in enumerate(archivos):\n",
        "    #Cargar archivo .mat\n",
        "\n",
        "    data = sio.loadmat(os.path.join(path,archivo))['data']\n",
        "    #print(\"Las llaves son \"+ str(data.keys()))    #__header__: bytes, __version__:str, __globals__:lista, data:diccionario\n",
        "\n",
        "    #Calcular E prom para canal\n",
        "    energias_promedio = energiaPromedio(data)\n",
        "\n",
        "    #Almacenar E prom\n",
        "    matriz_energias[i,:] = energias_promedio\n",
        "\n",
        "  return matriz_energias"
      ],
      "metadata": {
        "id": "2--TlF7dyCzm"
      },
      "execution_count": 13,
      "outputs": []
    },
    {
      "cell_type": "code",
      "source": [
        "directorio_base = \"/content/datos\"\n",
        "path_control = os.path.join(directorio_base, \"control\")\n",
        "path_parkinson = os.path.join(directorio_base, \"parkinson\")\n",
        "\n",
        "#Energías prom por canal y sujeto\n",
        "energia_controles = energia_prom_sujetos(path_control)\n",
        "energia_parkinson = energia_prom_sujetos(path_parkinson)\n",
        "\n",
        "print(\"Matriz energías controles:\", energia_controles.shape)\n",
        "print(\"Matriz energías parkinson:\", energia_parkinson.shape)"
      ],
      "metadata": {
        "colab": {
          "base_uri": "https://localhost:8080/"
        },
        "id": "GBL3mxC4yLQe",
        "outputId": "0b754995-8f68-4655-af17-5bc4b41175ce"
      },
      "execution_count": 17,
      "outputs": [
        {
          "output_type": "stream",
          "name": "stdout",
          "text": [
            "Matriz energías controles: (36, 8)\n",
            "Matriz energías parkinson: (23, 8)\n"
          ]
        }
      ]
    },
    {
      "cell_type": "markdown",
      "source": [
        "Construcción de DataFrames"
      ],
      "metadata": {
        "id": "7zDcDtLpDL0q"
      }
    },
    {
      "cell_type": "code",
      "source": [
        "import re\n",
        "archivos_control = os.listdir(path_control)\n",
        "archivos_parkinson = os.listdir(path_parkinson)\n",
        "num_canales=8\n",
        "# Creación de DataFrames para ambos grupos\n",
        "#print(energia_controles)\n",
        "dfcontrol = pd.DataFrame(energia_controles, columns=['Canal 1','Canal 2','Canal 3','Canal 4','Canal 5','Canal 6','Canal 7','Canal 8'])\n",
        "dfparkinson = pd.DataFrame(energia_parkinson, columns=['Canal 1','Canal 2','Canal 3','Canal 4','Canal 5','Canal 6','Canal 7','Canal 8'])\n",
        "\n",
        "#Agregar columna sujeto\n",
        "dfcontrol['sujeto'] = archivos_control\n",
        "dfparkinson['sujeto'] = archivos_parkinson\n",
        "\n",
        "dfparkinson.set_index('sujeto',inplace=True)\n",
        "dfcontrol.set_index('sujeto',inplace=True)\n",
        "\n",
        "dfcontrol.index = dfcontrol.index.str.extract(r'(\\d+)')[0].dropna()\n",
        "dfparkinson.index = dfparkinson.index.str.extract(r'(\\d+)')[0].dropna()\n",
        "\n",
        "# Convertir los índices a tipo numérico (int)\n",
        "dfcontrol.index = pd.to_numeric(dfcontrol.index, errors='coerce').astype(int)\n",
        "dfparkinson.index = pd.to_numeric(dfparkinson.index, errors='coerce').astype(int)\n",
        "\n",
        "dfcontrol.index.name = '# Sujeto'\n",
        "dfparkinson.index.name = '# Sujeto'\n",
        "\n",
        "# Ordenar los DataFrames por el índice en orden ascendente\n",
        "dfcontrol.sort_index(inplace=True)\n",
        "dfparkinson.sort_index(inplace=True)\n",
        "\n",
        "print(\"Controles:\")\n",
        "print(dfcontrol.head())\n",
        "print(\"\\nParkinson:\")\n",
        "print(dfparkinson.head())"
      ],
      "metadata": {
        "colab": {
          "base_uri": "https://localhost:8080/"
        },
        "id": "KsdZNhhzyOcb",
        "outputId": "ba4cc35d-bd88-418d-ac1d-e56c6f5b45e9"
      },
      "execution_count": 20,
      "outputs": [
        {
          "output_type": "stream",
          "name": "stdout",
          "text": [
            "Controles:\n",
            "               Canal 1       Canal 2       Canal 3       Canal 4  \\\n",
            "# Sujeto                                                           \n",
            "1         21465.650358  20985.907912  22760.149588  18505.640284   \n",
            "2         15966.402868  17617.810248  20804.937129  19654.400017   \n",
            "4         14148.673322  18283.999666  28749.932148  14270.726911   \n",
            "5         35311.301696  34916.686010  38800.429029  35427.031127   \n",
            "6         18510.829979  19738.489375  20911.792748  21828.254399   \n",
            "\n",
            "               Canal 5        Canal 6        Canal 7        Canal 8  \n",
            "# Sujeto                                                             \n",
            "1         29730.163026   25244.158073   22781.327587   24658.599512  \n",
            "2         16678.982063   93894.049009   66862.496275   75685.125872  \n",
            "4         28787.445978   14661.417740   15940.154095   19499.898656  \n",
            "5         35905.472869  106598.128152  106885.575966  112520.750636  \n",
            "6         23351.992649   53086.059766   37495.972475   43067.095504  \n",
            "\n",
            "Parkinson:\n",
            "               Canal 1       Canal 2       Canal 3       Canal 4  \\\n",
            "# Sujeto                                                           \n",
            "1         12438.243570  11261.175800  10819.634775   9489.784462   \n",
            "4         17995.660058  12001.601821  12286.344400  14785.908284   \n",
            "5         38092.102574  43575.379457  41979.994799  41715.287990   \n",
            "7         23742.325612  22070.007569  24540.315612  21803.936448   \n",
            "12        48574.518921  51806.529769  73171.952374  59707.699631   \n",
            "\n",
            "               Canal 5        Canal 6        Canal 7        Canal 8  \n",
            "# Sujeto                                                             \n",
            "1         12091.060945   22798.213463   23700.620349   25606.065340  \n",
            "4         17058.433161   63983.449318   53715.460772   66403.639479  \n",
            "5         46513.737045  251649.394709  179345.438488  262361.180410  \n",
            "7         22594.339745  128314.264805  128888.485633  152799.284248  \n",
            "12        56552.175747  287105.761622  222745.793414  353312.298104  \n"
          ]
        }
      ]
    },
    {
      "cell_type": "markdown",
      "source": [
        "**3. Determine si existe diferencia estadística entre canales de cada grupo de sujetos a través de una prueba t. Compruebe los supuestos necesarios para realizar una prueba t, esto es: Normalidad de la variable, independencia (se asume que los grupos son independientes), y homocedasticidad (use una prueba de Levene), finalmente realice la prueba t para determinar si existen diferencias entre los canales entre grupos de sujetos. De no cumplirse los requisitos, realice entonces un análisis no paramétrico (prueba U de Mann-Whitney).**"
      ],
      "metadata": {
        "id": "X04YK4LKv0dg"
      }
    },
    {
      "cell_type": "markdown",
      "source": [
        "Este numeral tiene como objetivo identificar los canales que entregan información diferencial entre pacientes Sanos y con enfermedad de Parkinson."
      ],
      "metadata": {
        "id": "XZZenc1J0ikH"
      }
    },
    {
      "cell_type": "markdown",
      "source": [
        "*Normalidad (Kolmogorox-Smirrov)*"
      ],
      "metadata": {
        "id": "mYIoPPg3zK7Z"
      }
    },
    {
      "cell_type": "code",
      "source": [
        "\n",
        "for i in range(1,num_canales+1):\n",
        "\n",
        "  canal_control = dfcontrol[f'Canal {i}']\n",
        "  canal_parkinson = dfparkinson[f'Canal {i}']\n",
        "\n",
        "  stat_control,p_value_control = kstest(canal_control, 'norm')\n",
        "  stat_parkinson,p_value_parkinson = kstest(canal_parkinson, 'norm')\n",
        "\n",
        "  print(f'\\nCanal {i}')\n",
        "  print('Control: Estadístico = {stat_control}, p-valor = {round(p_value_control,3)}')\n",
        "\n",
        "  if p_value_control<0.05:\n",
        "    print(\"     Rechaza hipótesis nula: Los datos NO siguen una distribución normal.\")\n",
        "  else:\n",
        "    print(\"     No se rechaza hipótesis nula: Los datos siguen una distribución normal.\")\n",
        "\n",
        "\n",
        "  print(f'Parkinson: Estadístico = {stat_parkinson}, p-valor = {round(p_value_parkinson,3)}')\n",
        "\n",
        "  if p_value_parkinson<0.05:\n",
        "    print(\"     Rechaza hipótesis nula: Los datos NO siguen una distribución normal.\")\n",
        "  else:\n",
        "    print(\"     No se rechaza hipótesis nula: Los datos siguen una distribución normal.\")"
      ],
      "metadata": {
        "colab": {
          "base_uri": "https://localhost:8080/"
        },
        "id": "gF-1v8Rtzequ",
        "outputId": "1b4ac58f-04c3-44d4-81bb-ba90522d9a0b"
      },
      "execution_count": 21,
      "outputs": [
        {
          "output_type": "stream",
          "name": "stdout",
          "text": [
            "\n",
            "Canal 1\n",
            "Control: Estadístico = {stat_control}, p-valor = {round(p_value_control,3)}\n",
            "     Rechaza hipótesis nula: Los datos NO siguen una distribución normal.\n",
            "Parkinson: Estadístico = 1.0, p-valor = 0.0\n",
            "     Rechaza hipótesis nula: Los datos NO siguen una distribución normal.\n",
            "\n",
            "Canal 2\n",
            "Control: Estadístico = {stat_control}, p-valor = {round(p_value_control,3)}\n",
            "     Rechaza hipótesis nula: Los datos NO siguen una distribución normal.\n",
            "Parkinson: Estadístico = 1.0, p-valor = 0.0\n",
            "     Rechaza hipótesis nula: Los datos NO siguen una distribución normal.\n",
            "\n",
            "Canal 3\n",
            "Control: Estadístico = {stat_control}, p-valor = {round(p_value_control,3)}\n",
            "     Rechaza hipótesis nula: Los datos NO siguen una distribución normal.\n",
            "Parkinson: Estadístico = 1.0, p-valor = 0.0\n",
            "     Rechaza hipótesis nula: Los datos NO siguen una distribución normal.\n",
            "\n",
            "Canal 4\n",
            "Control: Estadístico = {stat_control}, p-valor = {round(p_value_control,3)}\n",
            "     Rechaza hipótesis nula: Los datos NO siguen una distribución normal.\n",
            "Parkinson: Estadístico = 1.0, p-valor = 0.0\n",
            "     Rechaza hipótesis nula: Los datos NO siguen una distribución normal.\n",
            "\n",
            "Canal 5\n",
            "Control: Estadístico = {stat_control}, p-valor = {round(p_value_control,3)}\n",
            "     Rechaza hipótesis nula: Los datos NO siguen una distribución normal.\n",
            "Parkinson: Estadístico = 1.0, p-valor = 0.0\n",
            "     Rechaza hipótesis nula: Los datos NO siguen una distribución normal.\n",
            "\n",
            "Canal 6\n",
            "Control: Estadístico = {stat_control}, p-valor = {round(p_value_control,3)}\n",
            "     Rechaza hipótesis nula: Los datos NO siguen una distribución normal.\n",
            "Parkinson: Estadístico = 1.0, p-valor = 0.0\n",
            "     Rechaza hipótesis nula: Los datos NO siguen una distribución normal.\n",
            "\n",
            "Canal 7\n",
            "Control: Estadístico = {stat_control}, p-valor = {round(p_value_control,3)}\n",
            "     Rechaza hipótesis nula: Los datos NO siguen una distribución normal.\n",
            "Parkinson: Estadístico = 1.0, p-valor = 0.0\n",
            "     Rechaza hipótesis nula: Los datos NO siguen una distribución normal.\n",
            "\n",
            "Canal 8\n",
            "Control: Estadístico = {stat_control}, p-valor = {round(p_value_control,3)}\n",
            "     Rechaza hipótesis nula: Los datos NO siguen una distribución normal.\n",
            "Parkinson: Estadístico = 1.0, p-valor = 0.0\n",
            "     Rechaza hipótesis nula: Los datos NO siguen una distribución normal.\n"
          ]
        }
      ]
    },
    {
      "cell_type": "markdown",
      "source": [
        "*Homocedasticidad (Levene)*\n",
        "\n",
        "Dado que no se cumple el criterio de normalidad, se emplea el test de Levene."
      ],
      "metadata": {
        "id": "o0DSVPK6zkVW"
      }
    },
    {
      "cell_type": "code",
      "source": [
        "\n",
        "for i in range(1, num_canales+1):\n",
        "\n",
        "  canal_control = dfcontrol[f'Canal {i}']\n",
        "  canal_parkinson = dfparkinson[f'Canal {i}']\n",
        "\n",
        "  stat_levene,p_value_levene = levene(canal_control, canal_parkinson)\n",
        "\n",
        "  print(f'\\nCanal {i}: Estadístico = {round(stat_levene,3)}, p-valor = {round(p_value_levene,3)}')\n",
        "  if p_value_levene<0.05:\n",
        "    print('Se rechaza la hipostesis nula: La varianza difiere para los diferentes grupos')\n",
        "  else:\n",
        "    print('No se rechaza la hipotesis nula: La varianza es igual para los diferentes grupos ')\n"
      ],
      "metadata": {
        "colab": {
          "base_uri": "https://localhost:8080/"
        },
        "id": "tjtzGdnTzhOQ",
        "outputId": "8b4b34aa-5895-440f-8522-d94f22261183"
      },
      "execution_count": 22,
      "outputs": [
        {
          "output_type": "stream",
          "name": "stdout",
          "text": [
            "\n",
            "Canal 1: Estadístico = 0.021, p-valor = 0.885\n",
            "No se rechaza la hipotesis nula: La varianza es igual para los diferentes grupos \n",
            "\n",
            "Canal 2: Estadístico = 0.003, p-valor = 0.959\n",
            "No se rechaza la hipotesis nula: La varianza es igual para los diferentes grupos \n",
            "\n",
            "Canal 3: Estadístico = 0.001, p-valor = 0.978\n",
            "No se rechaza la hipotesis nula: La varianza es igual para los diferentes grupos \n",
            "\n",
            "Canal 4: Estadístico = 0.095, p-valor = 0.759\n",
            "No se rechaza la hipotesis nula: La varianza es igual para los diferentes grupos \n",
            "\n",
            "Canal 5: Estadístico = 0.015, p-valor = 0.905\n",
            "No se rechaza la hipotesis nula: La varianza es igual para los diferentes grupos \n",
            "\n",
            "Canal 6: Estadístico = 0.524, p-valor = 0.472\n",
            "No se rechaza la hipotesis nula: La varianza es igual para los diferentes grupos \n",
            "\n",
            "Canal 7: Estadístico = 0.252, p-valor = 0.618\n",
            "No se rechaza la hipotesis nula: La varianza es igual para los diferentes grupos \n",
            "\n",
            "Canal 8: Estadístico = 0.287, p-valor = 0.594\n",
            "No se rechaza la hipotesis nula: La varianza es igual para los diferentes grupos \n"
          ]
        }
      ]
    },
    {
      "cell_type": "markdown",
      "source": [
        "Las pruebas realizadas en cada uno de los canales, al comparar pacientes sanos y pacientes con Parkinson, muestran que las varianzas son homogéneas entre ambos grupos. Esto indica que los datos cumplen con la condición de homocedasticidad, es decir, que ambos conjuntos presentan una variabilidad similar en sus mediciones."
      ],
      "metadata": {
        "id": "mdfboaQUzz_S"
      }
    },
    {
      "cell_type": "markdown",
      "source": [
        "*Independencia* (se asume que los grupos son independientes)"
      ],
      "metadata": {
        "id": "j4Wvn6jHz0VH"
      }
    },
    {
      "cell_type": "markdown",
      "source": [
        "No se puede realizar la prueba t ya que no se cumplen los tres requisitos (la prueba de normalidad dice que los datos no presentan una distribución normal). Por lo tanto se realiza la *Prueba U de Mann-Whitney*"
      ],
      "metadata": {
        "id": "CXfA9JfAz5-Q"
      }
    },
    {
      "cell_type": "markdown",
      "source": [
        "*Prueba U de Mann-Whitney*"
      ],
      "metadata": {
        "id": "P9bqe9O8z8fX"
      }
    },
    {
      "cell_type": "code",
      "source": [
        "for i in range(1, num_canales+1):\n",
        "\n",
        "  canal_control = dfcontrol[f'Canal {i}']\n",
        "  canal_parkinson = dfparkinson[f'Canal {i}']\n",
        "\n",
        "  stat,p_value = mannwhitneyu(canal_control, canal_parkinson)\n",
        "\n",
        "  print(f'\\nCanal {i}: Estadístico = {stat}, p-valor = {round(p_value,3)}')\n",
        "  if p_value<0.05:\n",
        "    print('Se rechaza la hipótesis nula: hay diferencias significativas entre los grupos.')\n",
        "  else:\n",
        "    print('No se rechaza la hipótesis nula: no hay diferencias significativas entre los grupos.')"
      ],
      "metadata": {
        "colab": {
          "base_uri": "https://localhost:8080/"
        },
        "id": "UWwMk1QZ0Gbk",
        "outputId": "43ad66ff-e4c3-4ebe-86d0-914c70327b24"
      },
      "execution_count": 23,
      "outputs": [
        {
          "output_type": "stream",
          "name": "stdout",
          "text": [
            "\n",
            "Canal 1: Estadístico = 360.0, p-valor = 0.406\n",
            "No se rechaza la hipótesis nula: no hay diferencias significativas entre los grupos.\n",
            "\n",
            "Canal 2: Estadístico = 377.0, p-valor = 0.571\n",
            "No se rechaza la hipótesis nula: no hay diferencias significativas entre los grupos.\n",
            "\n",
            "Canal 3: Estadístico = 366.0, p-valor = 0.46\n",
            "No se rechaza la hipótesis nula: no hay diferencias significativas entre los grupos.\n",
            "\n",
            "Canal 4: Estadístico = 337.0, p-valor = 0.234\n",
            "No se rechaza la hipótesis nula: no hay diferencias significativas entre los grupos.\n",
            "\n",
            "Canal 5: Estadístico = 376.0, p-valor = 0.56\n",
            "No se rechaza la hipótesis nula: no hay diferencias significativas entre los grupos.\n",
            "\n",
            "Canal 6: Estadístico = 344.0, p-valor = 0.28\n",
            "No se rechaza la hipótesis nula: no hay diferencias significativas entre los grupos.\n",
            "\n",
            "Canal 7: Estadístico = 313.0, p-valor = 0.118\n",
            "No se rechaza la hipótesis nula: no hay diferencias significativas entre los grupos.\n",
            "\n",
            "Canal 8: Estadístico = 321.0, p-valor = 0.151\n",
            "No se rechaza la hipótesis nula: no hay diferencias significativas entre los grupos.\n"
          ]
        }
      ]
    },
    {
      "cell_type": "markdown",
      "source": [
        "Los análisis realizados con la prueba U de Mann-Whitney evidencian que ninguno de los canales permite diferenciar estadísticamente entre sujetos sanos y pacientes con Parkinson. Esto implica que, bajo la estrategia estadística aplicada y considerando la energía promedio como métrica, no se observan diferencias significativas en las señales de EEG entre los grupos. Una explicación posible es el tamaño reducido de la muestra, lo cual limita la capacidad para detectar variaciones sutiles frente a la variabilidad natural de cada grupo; disponer de un mayor número de participantes podría fortalecer la potencia estadística y facilitar la identificación de diferencias. También debe tenerse en cuenta que no se dispone de información sobre la etapa de progresión de la enfermedad en cada paciente, lo cual podría influir en los resultados [1]."
      ],
      "metadata": {
        "id": "LSMysLKA0AsC"
      }
    },
    {
      "cell_type": "markdown",
      "source": [
        "**Conclusión**"
      ],
      "metadata": {
        "id": "Vx-u5LRvv7nl"
      }
    },
    {
      "cell_type": "markdown",
      "source": [
        "El análisis mostró que los datos no siguen una distribución normal, por lo que se aplicó la prueba no paramétrica de Mann-Whitney. Los resultados indican que no hay diferencias significativas en la energía promedio de los canales entre pacientes con Parkinson y controles, lo que podría deberse al tamaño reducido de la muestra o a que los cambios característicos de la enfermedad se expresan en otras métricas o dominios de la señal."
      ],
      "metadata": {
        "id": "dsww1ACKCU6g"
      }
    },
    {
      "cell_type": "markdown",
      "source": [
        "**Referencias**"
      ],
      "metadata": {
        "id": "Soo-U9fYv-bC"
      }
    },
    {
      "cell_type": "markdown",
      "source": [
        "[1] Larson, M. J., & Carbine, K. A. (2017). Sample size calculations in human electrophysiology (EEG and ERP) studies: A systematic review and recommendations for increased rigor. International Journal of Psychophysiology: Official Journal of the International Organization of Psychophysiology, 111, 33–41. https://doi.org/10.1016/j.ijpsycho.2016.06.015\n"
      ],
      "metadata": {
        "id": "SyhwqO1IB3tM"
      }
    }
  ]
}