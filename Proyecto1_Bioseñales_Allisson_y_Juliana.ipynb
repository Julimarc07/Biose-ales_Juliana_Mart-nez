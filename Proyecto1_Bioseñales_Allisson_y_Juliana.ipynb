{
  "cells": [
    {
      "cell_type": "markdown",
      "metadata": {
        "id": "view-in-github",
        "colab_type": "text"
      },
      "source": [
        "<a href=\"https://colab.research.google.com/github/Julimarc07/Biose-ales_Juliana_Mart-nez/blob/main/Proyecto1_Biose%C3%B1ales_Allisson_y_Juliana.ipynb\" target=\"_parent\"><img src=\"https://colab.research.google.com/assets/colab-badge.svg\" alt=\"Open In Colab\"/></a>"
      ]
    },
    {
      "cell_type": "markdown",
      "id": "9bbe70be",
      "metadata": {
        "id": "9bbe70be"
      },
      "source": [
        "# **Proyecto 1 - Sistemas BCI: Análisis Espectral de Actividad Cerebral en Movimiento**"
      ]
    },
    {
      "cell_type": "markdown",
      "id": "0af31418",
      "metadata": {
        "id": "0af31418"
      },
      "source": [
        "\n",
        "\n",
        "**Integrantes:**\n",
        "- Juliana Martínez Cantero\n",
        "- Allisson Rojas Niebles\n",
        "\n",
        "**Docentes:** John Fredy Ochoa Gomez y Juliana Moreno Rada"
      ]
    },
    {
      "cell_type": "markdown",
      "id": "e38e3478",
      "metadata": {
        "id": "e38e3478"
      },
      "source": [
        "# **Introducción**"
      ]
    },
    {
      "cell_type": "markdown",
      "id": "d8585727",
      "metadata": {
        "id": "d8585727"
      },
      "source": [
        "<p align=\"justify\">\n",
        "Las Interfaces Cerebro–Computador (BCI) representan un campo innovador que busca establecer una comunicación directa entre el cerebro humano y dispositivos externos, sin la intervención de los sistemas musculares tradicionales [1]. Este proyecto se centra en el análisis de señales electroencefalográficas (EEG) de sujetos que realizan movimientos o imaginan movimientos de la mano derecha e izquierda, así como períodos de reposo. El acceso a este conjunto de datos permite evaluar la factibilidad de construir sistemas BCI no invasivos, aprovechando el conocimiento existente sobre la actividad cerebral relacionada con el control motor.\n",
        "<p align=\"justify\">\n",
        "El objetivo principal es utilizar estas señales para identificar y analizar los ritmos cerebrales asociados a las diferentes condiciones de estudio, aplicando metodologías de procesamiento de señales y análisis espectral. Los datos han sido previamente preprocesados, lo que permite a los estudiantes centrarse directamente en la exploración de las bandas de EEG relevantes, evaluando cómo varía la actividad cerebral entre movimiento real, imaginación de movimiento y reposo.\n",
        "<p align=\"justify\">\n",
        "Este proyecto combina la investigación histórica y teórica sobre BCI, la comprensión de los mecanismos neurofisiológicos del movimiento, y el desarrollo de rutinas computacionales que extraen información cuantitativa de la actividad cerebral. De esta manera, se busca no solo profundizar en el conocimiento del funcionamiento del cerebro durante tareas motoras, sino también proporcionar herramientas prácticas para la implementación de análisis de densidad espectral de potencia, que es esencial para futuras aplicaciones clínicas y experimentales de las BCI no invasivas."
      ]
    },
    {
      "cell_type": "markdown",
      "id": "3cccb937",
      "metadata": {
        "id": "3cccb937"
      },
      "source": [
        "# **Marco Teórico**"
      ]
    },
    {
      "cell_type": "markdown",
      "id": "c7a16d69",
      "metadata": {
        "id": "c7a16d69"
      },
      "source": [
        "**Historia de las Interfaces Cerebro–Computador**"
      ]
    },
    {
      "cell_type": "markdown",
      "id": "6dac9b61",
      "metadata": {
        "id": "6dac9b61"
      },
      "source": [
        "<p align=\"justify\">\n",
        "Los orígenes de las Interfaces Cerebro–Computador (BCI, por sus siglas en inglés) se remontan al siglo XVIII, cuando Luigi Galvani descubrió que los impulsos eléctricos podían generar movimiento muscular, estableciendo las bases del estudio de la bioelectricidad. En el siglo XIX, el físico inglés Richard Caton (1875) registró por primera vez señales eléctricas en cerebros de animales, y casi simultáneamente los científicos polacos Napoleon Cybulski y Adolf Beck realizaron estudios similares sobre la actividad bioeléctrica cerebral. Posteriormente, en 1913, Vladimir Vladimirovich Prawdicz-Nieminski identificó distintos tipos de ondas cerebrales, incluidas las frecuencias alfa y beta, a las que denominó electrocerberograma [1].\n",
        "<p align=\"justify\">\n",
        "El desarrollo moderno comenzó con Hans Berger, quien en 1924 registró por primera vez la actividad eléctrica del cerebro humano mediante la electroencefalografía (EEG), técnica que publicó formalmente en 1930. Aunque inicialmente consideró sus registros como artefactos, sus hallazgos fueron confirmados por Lord Adrian y Hallowell Davis en 1934. Desde entonces, el EEG se consolidó como una herramienta esencial para estudiar la actividad cerebral y diagnosticar trastornos neurológicos como epilepsia, TDAH, Parkinson y alteraciones del sueño, entre otros [1][2].\n",
        "<p align=\"justify\">\n",
        "Durante las décadas de 1950 y 1960, investigaciones de Iván Sechenov y Pavlov contribuyeron a comprender los mecanismos reflejos del sistema nervioso, y en 1969 Eberhard Fetz demostró que un mono podía modificar voluntariamente la actividad de sus neuronas mediante retroalimentación visual, marcando el inicio del control consciente de señales neuronales. En 1973, Jacques Vidal publicó su artículo Toward Direct Brain–Computer Communication en la Universidad de California (UCLA), considerado el punto de partida oficial de las BCI modernas [1][2].\n",
        "<p align=\"justify\">\n",
        "A finales de los años setenta y ochenta, M. Sterman identificó los ritmos sensoriomotores (SMR, 12–15 Hz), base de las primeras interfaces de control por EEG. En 1988, Farwell y Donchin desarrollaron el P300 Speller, un sistema que permitía seleccionar letras mediante potenciales relacionados con eventos (ERP). En los años noventa, Jonathan Wolpaw y Gert Pfurtscheller demostraron que las variaciones en los ritmos mu y beta podían utilizarse para controlar cursores o dispositivos, consolidando la investigación sobre BCI no invasivas basadas en EEG [1][2].\n",
        "<p align=\"justify\">\n",
        "Paralelamente, surgieron los primeros sistemas invasivos, que registraban directamente la actividad cortical. En 1998, Philip Kennedy implantó la primera BCI intracortical en humanos, y en 2003, John Donoghue desarrolló el sistema BrainGate, utilizado por Matt Nagle, quien logró mover un brazo robótico mediante señales cerebrales. Estudios posteriores, como los de Leuthardt et al. (2006), demostraron la eficacia de la electrocorticografía (ECoG) como fuente de señal para sistemas BCI [1][2].\n",
        "<p align=\"justify\">\n",
        "En los años 2000 y 2010, los avances fueron notables: Birbaumer et al. (1999) aplicaron potenciales corticales lentos (SCP) en pacientes con síndrome de enclaustramiento (LIS) y Ajiboye et al. (2017) mostraron la restauración parcial de la motricidad en personas tetrapléjicas mediante estimulación neuromuscular controlada por BCI. Además, proyectos como BrainGate 2 permitieron que pacientes con parálisis controlaran brazos robóticos o recuperaran funciones sensoriales. La primera transmisión directa de información entre dos cerebros humanos se logró en 2014, y estudios recientes han logrado restaurar tanto la función motora como la percepción táctil en pacientes con lesión medular mediante matrices de microelectrodos intracorticales (Blackrock Microsystems). En la actualidad, las BCI evolucionan rápidamente gracias a los avances en inteligencia artificial, aprendizaje profundo y nanotecnología [1][2].\n",
        "</p>"
      ]
    },
    {
      "cell_type": "markdown",
      "id": "8bb7ba8d",
      "metadata": {
        "id": "8bb7ba8d"
      },
      "source": [
        "**Usos Actuales de las Interfaces Cerebro–Computador**"
      ]
    },
    {
      "cell_type": "markdown",
      "id": "5070b0fc",
      "metadata": {
        "id": "5070b0fc"
      },
      "source": [
        "\n",
        "<p align=\"justify\">\n",
        "En los ultimos años las BCI han evolucionado hacia múltiples campos que incluyen la rehabilitación neuromotora, la comunicación asistida, el entrenamiento cognitivo, el entretenimiento, e incluso la interacción humano–máquina avanzada. Gracias a los avances en el procesamiento de señales, inteligencia artificial y neuroplasticidad, los sistemas BCI actuales logran una mayor precisión y adaptabilidad, permitiendo una integración más natural entre el pensamiento y la acción. A continuación, se presentan los usos actuales más relevantes de las interfaces cerebro–computadora, acompañados de referencias a investigaciones y desarrollos recientes que demuestran su aplicación práctica y su impacto en distintos ámbitos:\n",
        "<p align=\"justify\">\n",
        "Una de las aplicaciones más destacadas de las interfaces cerebro–computador (BCI) es el control de prótesis y dispositivos externos, que ofrece una nueva forma de movilidad e independencia a personas con amputaciones o parálisis. Estas tecnologías registran las señales eléctricas generadas por el cerebro cuando el usuario piensa en realizar un movimiento como cerrar la mano o levantar el brazo y las traducen, mediante algoritmos de procesamiento y aprendizaje automático, en órdenes que controlan motores o actuadores de prótesis robóticas, brazos mecánicos o sillas de ruedas. De esta manera, el usuario puede mover objetos o realizar acciones sin necesidad de activar músculos o nervios periféricos. Gracias a los avances recientes en electroencefalografía (EEG) y en inteligencia artificial, se ha logrado un control más fluido y preciso, alcanzando incluso la posibilidad de mover dedos individuales con solo imaginar el movimiento. Este tipo de BCI representa un paso revolucionario hacia la autonomía y la integración funcional de personas con discapacidad motora [3].\n",
        "<p align=\"justify\">\n",
        "Asimismo, desempeñan un papel clave en la rehabilitación neuromotora, especialmente en pacientes que han sufrido accidentes cerebrovasculares, lesiones medulares o padecen enfermedades neurodegenerativas como el Parkinson o la esclerosis lateral amiotrófica (ELA). En estos casos, las BCI permiten que el paciente realice tareas de imaginación motora (por ejemplo, imaginar mover una mano o un brazo), mientras el EEG registra la actividad cerebral asociada a dicho movimiento. Las señales captadas se procesan y traducen en comandos que controlan dispositivos externos como exoesqueletos, prótesis robóticas o sistemas de estimulación eléctrica funcional, estimulando la plasticidad cerebral y promoviendo la recuperación de funciones motoras. Esta interacción ayuda al cerebro a reaprender patrones de movimiento perdidos, incluso sin que haya un movimiento físico real, lo que acelera significativamente la rehabilitación [3].\n",
        "\n",
        "<p align=\"justify\">\n",
        "Por otro lado, las interfaces cerebro–computador se utilizan como herramientas de comunicación asistida para personas con parálisis severa o síndrome de enclaustramiento, que no pueden hablar ni moverse. Estos sistemas permiten que el usuario se comunique usando únicamente su actividad cerebral. Funcionan detectando ciertos patrones eléctricos en el cerebro, como el potencial P300 (una respuesta que ocurre cuando la persona reconoce un estímulo) o los ritmos visuales SSVEP, y los traducen en selecciones dentro de un teclado virtual o una interfaz de letras. Así, el usuario puede “pensar” en una opción, y el sistema identifica esa elección y la convierte en texto o comandos. Este tipo de comunicación, aunque lenta, ha devuelto la posibilidad de expresarse a personas completamente inmovilizadas, representando uno de los logros más significativos de la neurotecnología aplicada a la inclusión y la calidad de vida [4].\n",
        "</p>\n"
      ]
    },
    {
      "cell_type": "markdown",
      "id": "kb-9COLzaXM-",
      "metadata": {
        "id": "kb-9COLzaXM-"
      },
      "source": [
        "**Proyectos Futuros de las Interfaces Cerebro–Computador**"
      ]
    },
    {
      "cell_type": "markdown",
      "id": "U4ef7SwoaXM_",
      "metadata": {
        "id": "U4ef7SwoaXM_"
      },
      "source": [
        "\n",
        "<p align=\"justify\">\n",
        "El futuro de las interfaces cerebro-computadora (BCI) apunta hacia sistemas más precisos, inteligentes y accesibles, impulsados por avances en inteligencia artificial y computación cuántica, que permitirán decodificar señales neuronales en tiempo real, personalizar la interacción cerebro-máquina y facilitar la comunicación cerebro a cerebro [5].\n",
        "Las BCI no invasivas están mejorando su resolución, haciéndolas aplicables en entornos domésticos, educativos y clínicos, mientras que ensayos recientes con ultrasonidos buscan tratar afecciones como depresión, epilepsia y adicciones mediante la modulación directa de la actividad cerebral [6].\n",
        "Además, se proyecta que estas tecnologías permitirán no solo la restauración de funciones motoras o cognitivas, sino también la mejora de habilidades como la concentración, memoria y creatividad, abriendo aplicaciones en neurorehabilitación, educación y mejora cognitiva, todo mientras se deben atender cuidadosamente cuestiones éticas, de privacidad y regulación para un uso seguro y responsable [5][6]."
      ]
    },
    {
      "cell_type": "markdown",
      "id": "d0b11229",
      "metadata": {
        "id": "d0b11229"
      },
      "source": [
        " **Actividad cerebral registrada por EEG durante movimientos e imaginación\n",
        "de movimiento de las manos**"
      ]
    },
    {
      "cell_type": "markdown",
      "id": "b8cf5fb0",
      "metadata": {
        "id": "b8cf5fb0"
      },
      "source": [
        "<p align=\"justify\">\n",
        "La actividad cerebral registrada mediante electroencefalografía (EEG) durante movimientos e imaginación de movimientos de las manos permite estudiar cómo el cerebro planifica y ejecuta acciones motoras, así como cómo simula internamente dichas acciones sin movimiento físico. Durante la ejecución real de un movimiento, se observan patrones característicos de activación en las áreas motoras primarias y premotoras, generalmente reflejados en desincronización de las bandas mu (8–12 Hz) y beta (12–30 Hz) en los electrodos sobre la corteza motora contralateral. De manera similar, la imaginación de un movimiento produce cambios en las mismas bandas de frecuencia, aunque con amplitud y sincronización ligeramente diferentes. Estas diferencias, detectables mediante técnicas de procesamiento de señales EEG como el análisis de densidad espectral de potencia, microestados o desincronización/sincronización relacionada con eventos (ERD/ERS), permiten a los sistemas BCI no invasivos diferenciar entre la ejecución real y la imaginación de movimientos, habilitando aplicaciones en rehabilitación motora, prótesis controladas por el pensamiento y entrenamiento cognitivo [7]."
      ]
    },
    {
      "cell_type": "markdown",
      "id": "bdcc10a2",
      "metadata": {
        "id": "bdcc10a2"
      },
      "source": [
        "# **Metodología**"
      ]
    },
    {
      "cell_type": "markdown",
      "id": "6af3576a",
      "metadata": {
        "id": "6af3576a"
      },
      "source": [
        "1. ***Selección de canales relevantes***"
      ]
    },
    {
      "cell_type": "markdown",
      "id": "a7b62db3",
      "metadata": {
        "id": "a7b62db3"
      },
      "source": [
        "Los canales seleccionados (C3, C4, FC3, FC4, CP3, CP4, CZ, FCZ, CPZ):\n",
        "\n",
        "- C3 y C4 se ubican sobre la corteza motora primaria, controlando predominantemente la mano contralateral: C3 para la mano derecha y C4 para la mano izquierda.\n",
        "\n",
        "- FC3, FC4, CP3 y CP4 capturan actividad del córtex premotor y áreas somatosensoriales, involucradas en la planificación y ejecución del movimiento.\n",
        "\n",
        "- CZ, FCZ y CPZ cubren la línea media y reflejan la coordinación bilateral de movimientos y la actividad central relacionada con la imaginación del movimiento.\n",
        "\n"
      ]
    },
    {
      "cell_type": "markdown",
      "id": "cce11cd6",
      "metadata": {
        "id": "cce11cd6"
      },
      "source": [
        "2. ***Extracción de características***"
      ]
    },
    {
      "cell_type": "markdown",
      "id": "ABf4EPusaXNE",
      "metadata": {
        "id": "ABf4EPusaXNE"
      },
      "source": [
        "Para cada registro y condición, se calcularon medidas espectrales y de complejidad de la señal:\n",
        "\n",
        "- Densidad espectral de potencia (PSD): en bandas Delta (1–4 Hz), Theta (4–8 Hz), Alpha/Mu (8–13 Hz), Beta (13–30 Hz) y Gamma (30–45 Hz)\n",
        "\n",
        "- Entropía de permutación: calculada por canal y banda, como medida de complejidad de la señal cerebral, permitiendo diferenciar estados de activación durante movimientos reales vs. imaginados\n",
        "\n",
        "- Promedios regionales de entropía: por región motora (izquierda, derecha, central)\n",
        "- Los participantes fueron clasificados en dos grupos principales: Control y Paciente.\n",
        "\n",
        "\n"
      ]
    },
    {
      "cell_type": "markdown",
      "id": "91bc1a78",
      "metadata": {
        "id": "91bc1a78"
      },
      "source": [
        "3. ***Comparación entre condiciones***"
      ]
    },
    {
      "cell_type": "markdown",
      "id": "d488ebf3",
      "metadata": {
        "id": "d488ebf3"
      },
      "source": [
        "Se evaluaron diferencias entre condiciones mediante:\n",
        "\n",
        "Estadística descriptiva: media, mediana, desviación estándar, mínimo y máximo agrupados por tarea y tipo de sujeto (Control vs. Paciente)\n",
        "\n",
        "- Prueba de normalidad: Shapiro-Wilk para cada condición y región\n",
        "\n",
        "Según normalidad:\n",
        "\n",
        "- Prueba paramétrica (t-test de Student) si los datos cumplían normalidad y homocedasticidad\n",
        "\n",
        "- Prueba no paramétrica (Mann-Whitney U) si los datos no cumplían normalidad\n",
        "\n",
        "Tamaño del efecto:\n",
        "\n",
        "- Cohen's d para pruebas paramétricas"
      ]
    },
    {
      "cell_type": "markdown",
      "id": "4787c168",
      "metadata": {
        "id": "4787c168"
      },
      "source": [
        "4. ***Visualización de resultados***"
      ]
    },
    {
      "cell_type": "markdown",
      "id": "ca439051",
      "metadata": {
        "id": "ca439051"
      },
      "source": [
        "Se generaron gráficos tipo boxplot para comparar:\n",
        "\n",
        "- Movimiento vs. Imaginación en regiones derecha e izquierda\n",
        "\n",
        "- Movimiento Derecha vs. Izquierda e Imaginación Derecha vs. Izquierda en región central\n",
        "\n",
        "- Comparación global de entropía entre sujetos Control y Paciente"
      ]
    },
    {
      "cell_type": "markdown",
      "id": "ZHvRE5ZTjULz",
      "metadata": {
        "id": "ZHvRE5ZTjULz"
      },
      "source": [
        "5. **Organización y almacenamiento de resultados**"
      ]
    },
    {
      "cell_type": "markdown",
      "id": "yRrK6OMUjVzN",
      "metadata": {
        "id": "yRrK6OMUjVzN"
      },
      "source": [
        "Todos los resultados se guardaron en un dataframe, incluyendo:\n",
        "\n",
        "- Registro de EEG, tarea y tipo de sujeto\n",
        "\n",
        "- Valores de PSD por banda y canal\n",
        "\n",
        "- Entropía de permutación por banda y canal\n",
        "\n",
        "- Promedios regionales de entropía\n",
        "\n",
        "- Clasificación de sujeto basada en entropía promedio\n",
        "\n",
        "Esto permitió realizar análisis grupales, comparaciones entre condiciones, generación de gráficos y análisis estadísticos."
      ]
    },
    {
      "cell_type": "markdown",
      "id": "54d89fc8",
      "metadata": {
        "id": "54d89fc8"
      },
      "source": [
        "# **Resultados y Análisis**"
      ]
    },
    {
      "cell_type": "markdown",
      "id": "WGE9SMYOd7vJ",
      "metadata": {
        "id": "WGE9SMYOd7vJ"
      },
      "source": [
        "**Cargar la base de datos**"
      ]
    },
    {
      "cell_type": "code",
      "execution_count": null,
      "id": "121330a8",
      "metadata": {
        "id": "121330a8",
        "outputId": "9a6bc27e-f8e8-4ce3-883a-176c00835393"
      },
      "outputs": [
        {
          "name": "stdout",
          "output_type": "stream",
          "text": [
            "Extracting parameters from C:\\Users\\Usuario\\Downloads\\datos_BCI\\datos_BCI\\left_mvto\\S001_Task1_PREP_Left.set...\n",
            "Not setting metadata\n",
            "22 matching events found\n",
            "No baseline correction applied\n",
            "0 projection items activated\n",
            "Ready.\n",
            "NOTE: pick_channels() is a legacy function. New code should use inst.pick(...).\n",
            "Creating RawArray with float64 data, n_channels=64, n_times=1152\n",
            "    Range : 0 ... 1151 =      0.000 ...     8.992 secs\n",
            "Ready.\n"
          ]
        },
        {
          "name": "stderr",
          "output_type": "stream",
          "text": [
            "C:\\Users\\USUARIO\\AppData\\Local\\Temp\\ipykernel_23312\\3451594139.py:23: RuntimeWarning: At least one epoch has multiple events. Only the latency of the first event will be retained.\n",
            "  epochs = mne.read_epochs_eeglab(file_path)\n"
          ]
        },
        {
          "name": "stdout",
          "output_type": "stream",
          "text": [
            "Extracting parameters from C:\\Users\\Usuario\\Downloads\\datos_BCI\\datos_BCI\\left_mvto\\S002_Task1_PREP_Left.set...\n",
            "Not setting metadata\n",
            "23 matching events found\n",
            "No baseline correction applied\n",
            "0 projection items activated\n",
            "Ready.\n",
            "NOTE: pick_channels() is a legacy function. New code should use inst.pick(...).\n",
            "Creating RawArray with float64 data, n_channels=64, n_times=1152\n",
            "    Range : 0 ... 1151 =      0.000 ...     8.992 secs\n",
            "Ready.\n"
          ]
        },
        {
          "name": "stderr",
          "output_type": "stream",
          "text": [
            "C:\\Users\\USUARIO\\AppData\\Local\\Temp\\ipykernel_23312\\3451594139.py:23: RuntimeWarning: At least one epoch has multiple events. Only the latency of the first event will be retained.\n",
            "  epochs = mne.read_epochs_eeglab(file_path)\n"
          ]
        },
        {
          "name": "stdout",
          "output_type": "stream",
          "text": [
            "Extracting parameters from C:\\Users\\Usuario\\Downloads\\datos_BCI\\datos_BCI\\left_mvto\\S003_Task1_PREP_Left.set...\n",
            "Not setting metadata\n",
            "21 matching events found\n",
            "No baseline correction applied\n",
            "0 projection items activated\n",
            "Ready.\n",
            "NOTE: pick_channels() is a legacy function. New code should use inst.pick(...).\n",
            "Creating RawArray with float64 data, n_channels=64, n_times=1152\n",
            "    Range : 0 ... 1151 =      0.000 ...     8.992 secs\n",
            "Ready.\n"
          ]
        },
        {
          "name": "stderr",
          "output_type": "stream",
          "text": [
            "C:\\Users\\USUARIO\\AppData\\Local\\Temp\\ipykernel_23312\\3451594139.py:23: RuntimeWarning: At least one epoch has multiple events. Only the latency of the first event will be retained.\n",
            "  epochs = mne.read_epochs_eeglab(file_path)\n"
          ]
        },
        {
          "name": "stdout",
          "output_type": "stream",
          "text": [
            "Extracting parameters from C:\\Users\\Usuario\\Downloads\\datos_BCI\\datos_BCI\\left_mvto\\S004_Task1_PREP_Left.set...\n",
            "Not setting metadata\n",
            "22 matching events found\n",
            "No baseline correction applied\n",
            "0 projection items activated\n",
            "Ready.\n",
            "NOTE: pick_channels() is a legacy function. New code should use inst.pick(...).\n",
            "Creating RawArray with float64 data, n_channels=64, n_times=1152\n",
            "    Range : 0 ... 1151 =      0.000 ...     8.992 secs\n",
            "Ready.\n"
          ]
        },
        {
          "name": "stderr",
          "output_type": "stream",
          "text": [
            "C:\\Users\\USUARIO\\AppData\\Local\\Temp\\ipykernel_23312\\3451594139.py:23: RuntimeWarning: At least one epoch has multiple events. Only the latency of the first event will be retained.\n",
            "  epochs = mne.read_epochs_eeglab(file_path)\n"
          ]
        },
        {
          "name": "stdout",
          "output_type": "stream",
          "text": [
            "Extracting parameters from C:\\Users\\Usuario\\Downloads\\datos_BCI\\datos_BCI\\left_mvto\\S005_Task1_PREP_Left.set...\n",
            "Not setting metadata\n",
            "22 matching events found\n",
            "No baseline correction applied\n",
            "0 projection items activated\n",
            "Ready.\n",
            "NOTE: pick_channels() is a legacy function. New code should use inst.pick(...).\n",
            "Creating RawArray with float64 data, n_channels=64, n_times=1152\n",
            "    Range : 0 ... 1151 =      0.000 ...     8.992 secs\n",
            "Ready.\n"
          ]
        },
        {
          "name": "stderr",
          "output_type": "stream",
          "text": [
            "C:\\Users\\USUARIO\\AppData\\Local\\Temp\\ipykernel_23312\\3451594139.py:23: RuntimeWarning: At least one epoch has multiple events. Only the latency of the first event will be retained.\n",
            "  epochs = mne.read_epochs_eeglab(file_path)\n"
          ]
        },
        {
          "name": "stdout",
          "output_type": "stream",
          "text": [
            "Extracting parameters from C:\\Users\\Usuario\\Downloads\\datos_BCI\\datos_BCI\\left_mvto\\S006_Task1_PREP_Left.set...\n",
            "Not setting metadata\n",
            "22 matching events found\n",
            "No baseline correction applied\n",
            "0 projection items activated\n",
            "Ready.\n",
            "NOTE: pick_channels() is a legacy function. New code should use inst.pick(...).\n",
            "Creating RawArray with float64 data, n_channels=64, n_times=1152\n",
            "    Range : 0 ... 1151 =      0.000 ...     8.992 secs\n",
            "Ready.\n"
          ]
        },
        {
          "name": "stderr",
          "output_type": "stream",
          "text": [
            "C:\\Users\\USUARIO\\AppData\\Local\\Temp\\ipykernel_23312\\3451594139.py:23: RuntimeWarning: At least one epoch has multiple events. Only the latency of the first event will be retained.\n",
            "  epochs = mne.read_epochs_eeglab(file_path)\n"
          ]
        },
        {
          "name": "stdout",
          "output_type": "stream",
          "text": [
            "Extracting parameters from C:\\Users\\Usuario\\Downloads\\datos_BCI\\datos_BCI\\left_mvto\\S007_Task1_PREP_Left.set...\n",
            "Not setting metadata\n",
            "22 matching events found\n",
            "No baseline correction applied\n",
            "0 projection items activated\n",
            "Ready.\n",
            "NOTE: pick_channels() is a legacy function. New code should use inst.pick(...).\n",
            "Creating RawArray with float64 data, n_channels=64, n_times=1152\n",
            "    Range : 0 ... 1151 =      0.000 ...     8.992 secs\n",
            "Ready.\n"
          ]
        },
        {
          "name": "stderr",
          "output_type": "stream",
          "text": [
            "C:\\Users\\USUARIO\\AppData\\Local\\Temp\\ipykernel_23312\\3451594139.py:23: RuntimeWarning: At least one epoch has multiple events. Only the latency of the first event will be retained.\n",
            "  epochs = mne.read_epochs_eeglab(file_path)\n"
          ]
        },
        {
          "name": "stdout",
          "output_type": "stream",
          "text": [
            "Extracting parameters from C:\\Users\\Usuario\\Downloads\\datos_BCI\\datos_BCI\\left_mvto\\S008_Task1_PREP_Left.set...\n",
            "Not setting metadata\n",
            "22 matching events found\n",
            "No baseline correction applied\n",
            "0 projection items activated\n",
            "Ready.\n",
            "NOTE: pick_channels() is a legacy function. New code should use inst.pick(...).\n",
            "Creating RawArray with float64 data, n_channels=64, n_times=1152\n",
            "    Range : 0 ... 1151 =      0.000 ...     8.992 secs\n",
            "Ready.\n"
          ]
        },
        {
          "name": "stderr",
          "output_type": "stream",
          "text": [
            "C:\\Users\\USUARIO\\AppData\\Local\\Temp\\ipykernel_23312\\3451594139.py:23: RuntimeWarning: At least one epoch has multiple events. Only the latency of the first event will be retained.\n",
            "  epochs = mne.read_epochs_eeglab(file_path)\n"
          ]
        },
        {
          "name": "stdout",
          "output_type": "stream",
          "text": [
            "Extracting parameters from C:\\Users\\Usuario\\Downloads\\datos_BCI\\datos_BCI\\left_mvto\\S009_Task1_PREP_Left.set...\n",
            "Not setting metadata\n",
            "22 matching events found\n",
            "No baseline correction applied\n",
            "0 projection items activated\n",
            "Ready.\n",
            "NOTE: pick_channels() is a legacy function. New code should use inst.pick(...).\n",
            "Creating RawArray with float64 data, n_channels=64, n_times=1152\n",
            "    Range : 0 ... 1151 =      0.000 ...     8.992 secs\n",
            "Ready.\n"
          ]
        },
        {
          "name": "stderr",
          "output_type": "stream",
          "text": [
            "C:\\Users\\USUARIO\\AppData\\Local\\Temp\\ipykernel_23312\\3451594139.py:23: RuntimeWarning: At least one epoch has multiple events. Only the latency of the first event will be retained.\n",
            "  epochs = mne.read_epochs_eeglab(file_path)\n"
          ]
        },
        {
          "name": "stdout",
          "output_type": "stream",
          "text": [
            "Extracting parameters from C:\\Users\\Usuario\\Downloads\\datos_BCI\\datos_BCI\\left_mvto\\S010_Task1_PREP_Left.set...\n",
            "Not setting metadata\n",
            "23 matching events found\n",
            "No baseline correction applied\n",
            "0 projection items activated\n",
            "Ready.\n",
            "NOTE: pick_channels() is a legacy function. New code should use inst.pick(...).\n",
            "Creating RawArray with float64 data, n_channels=64, n_times=1152\n",
            "    Range : 0 ... 1151 =      0.000 ...     8.992 secs\n",
            "Ready.\n"
          ]
        },
        {
          "name": "stderr",
          "output_type": "stream",
          "text": [
            "C:\\Users\\USUARIO\\AppData\\Local\\Temp\\ipykernel_23312\\3451594139.py:23: RuntimeWarning: At least one epoch has multiple events. Only the latency of the first event will be retained.\n",
            "  epochs = mne.read_epochs_eeglab(file_path)\n"
          ]
        },
        {
          "name": "stdout",
          "output_type": "stream",
          "text": [
            "Extracting parameters from C:\\Users\\Usuario\\Downloads\\datos_BCI\\datos_BCI\\left_mvto\\S011_Task1_PREP_Left.set...\n",
            "Not setting metadata\n",
            "22 matching events found\n",
            "No baseline correction applied\n",
            "0 projection items activated\n",
            "Ready.\n",
            "NOTE: pick_channels() is a legacy function. New code should use inst.pick(...).\n",
            "Creating RawArray with float64 data, n_channels=64, n_times=1152\n",
            "    Range : 0 ... 1151 =      0.000 ...     8.992 secs\n",
            "Ready.\n"
          ]
        },
        {
          "name": "stderr",
          "output_type": "stream",
          "text": [
            "C:\\Users\\USUARIO\\AppData\\Local\\Temp\\ipykernel_23312\\3451594139.py:23: RuntimeWarning: At least one epoch has multiple events. Only the latency of the first event will be retained.\n",
            "  epochs = mne.read_epochs_eeglab(file_path)\n"
          ]
        },
        {
          "name": "stdout",
          "output_type": "stream",
          "text": [
            "Extracting parameters from C:\\Users\\Usuario\\Downloads\\datos_BCI\\datos_BCI\\left_mvto\\S012_Task1_PREP_Left.set...\n",
            "Not setting metadata\n",
            "23 matching events found\n",
            "No baseline correction applied\n",
            "0 projection items activated\n",
            "Ready.\n",
            "NOTE: pick_channels() is a legacy function. New code should use inst.pick(...).\n",
            "Creating RawArray with float64 data, n_channels=64, n_times=1152\n",
            "    Range : 0 ... 1151 =      0.000 ...     8.992 secs\n",
            "Ready.\n"
          ]
        },
        {
          "name": "stderr",
          "output_type": "stream",
          "text": [
            "C:\\Users\\USUARIO\\AppData\\Local\\Temp\\ipykernel_23312\\3451594139.py:23: RuntimeWarning: At least one epoch has multiple events. Only the latency of the first event will be retained.\n",
            "  epochs = mne.read_epochs_eeglab(file_path)\n"
          ]
        },
        {
          "name": "stdout",
          "output_type": "stream",
          "text": [
            "Extracting parameters from C:\\Users\\Usuario\\Downloads\\datos_BCI\\datos_BCI\\left_mvto\\S013_Task1_PREP_Left.set...\n",
            "Not setting metadata\n",
            "23 matching events found\n",
            "No baseline correction applied\n",
            "0 projection items activated\n",
            "Ready.\n",
            "NOTE: pick_channels() is a legacy function. New code should use inst.pick(...).\n",
            "Creating RawArray with float64 data, n_channels=64, n_times=1152\n",
            "    Range : 0 ... 1151 =      0.000 ...     8.992 secs\n",
            "Ready.\n"
          ]
        },
        {
          "name": "stderr",
          "output_type": "stream",
          "text": [
            "C:\\Users\\USUARIO\\AppData\\Local\\Temp\\ipykernel_23312\\3451594139.py:23: RuntimeWarning: At least one epoch has multiple events. Only the latency of the first event will be retained.\n",
            "  epochs = mne.read_epochs_eeglab(file_path)\n"
          ]
        },
        {
          "name": "stdout",
          "output_type": "stream",
          "text": [
            "Extracting parameters from C:\\Users\\Usuario\\Downloads\\datos_BCI\\datos_BCI\\left_mvto\\S014_Task1_PREP_Left.set...\n",
            "Not setting metadata\n",
            "22 matching events found\n",
            "No baseline correction applied\n",
            "0 projection items activated\n",
            "Ready.\n",
            "NOTE: pick_channels() is a legacy function. New code should use inst.pick(...).\n",
            "Creating RawArray with float64 data, n_channels=64, n_times=1152\n",
            "    Range : 0 ... 1151 =      0.000 ...     8.992 secs\n",
            "Ready.\n"
          ]
        },
        {
          "name": "stderr",
          "output_type": "stream",
          "text": [
            "C:\\Users\\USUARIO\\AppData\\Local\\Temp\\ipykernel_23312\\3451594139.py:23: RuntimeWarning: At least one epoch has multiple events. Only the latency of the first event will be retained.\n",
            "  epochs = mne.read_epochs_eeglab(file_path)\n"
          ]
        },
        {
          "name": "stdout",
          "output_type": "stream",
          "text": [
            "Extracting parameters from C:\\Users\\Usuario\\Downloads\\datos_BCI\\datos_BCI\\left_mvto\\S015_Task1_PREP_Left.set...\n",
            "Not setting metadata\n",
            "22 matching events found\n",
            "No baseline correction applied\n",
            "0 projection items activated\n",
            "Ready.\n",
            "NOTE: pick_channels() is a legacy function. New code should use inst.pick(...).\n",
            "Creating RawArray with float64 data, n_channels=64, n_times=1152\n",
            "    Range : 0 ... 1151 =      0.000 ...     8.992 secs\n",
            "Ready.\n"
          ]
        },
        {
          "name": "stderr",
          "output_type": "stream",
          "text": [
            "C:\\Users\\USUARIO\\AppData\\Local\\Temp\\ipykernel_23312\\3451594139.py:23: RuntimeWarning: At least one epoch has multiple events. Only the latency of the first event will be retained.\n",
            "  epochs = mne.read_epochs_eeglab(file_path)\n"
          ]
        },
        {
          "name": "stdout",
          "output_type": "stream",
          "text": [
            "Extracting parameters from C:\\Users\\Usuario\\Downloads\\datos_BCI\\datos_BCI\\left_mvto\\S016_Task1_PREP_Left.set...\n",
            "Not setting metadata\n",
            "23 matching events found\n",
            "No baseline correction applied\n",
            "0 projection items activated\n",
            "Ready.\n",
            "NOTE: pick_channels() is a legacy function. New code should use inst.pick(...).\n",
            "Creating RawArray with float64 data, n_channels=64, n_times=1152\n",
            "    Range : 0 ... 1151 =      0.000 ...     8.992 secs\n",
            "Ready.\n"
          ]
        },
        {
          "name": "stderr",
          "output_type": "stream",
          "text": [
            "C:\\Users\\USUARIO\\AppData\\Local\\Temp\\ipykernel_23312\\3451594139.py:23: RuntimeWarning: At least one epoch has multiple events. Only the latency of the first event will be retained.\n",
            "  epochs = mne.read_epochs_eeglab(file_path)\n"
          ]
        },
        {
          "name": "stdout",
          "output_type": "stream",
          "text": [
            "Extracting parameters from C:\\Users\\Usuario\\Downloads\\datos_BCI\\datos_BCI\\left_mvto\\S017_Task1_PREP_Left.set...\n",
            "Not setting metadata\n",
            "22 matching events found\n",
            "No baseline correction applied\n",
            "0 projection items activated\n",
            "Ready.\n",
            "NOTE: pick_channels() is a legacy function. New code should use inst.pick(...).\n",
            "Creating RawArray with float64 data, n_channels=64, n_times=1152\n",
            "    Range : 0 ... 1151 =      0.000 ...     8.992 secs\n",
            "Ready.\n"
          ]
        },
        {
          "name": "stderr",
          "output_type": "stream",
          "text": [
            "C:\\Users\\USUARIO\\AppData\\Local\\Temp\\ipykernel_23312\\3451594139.py:23: RuntimeWarning: At least one epoch has multiple events. Only the latency of the first event will be retained.\n",
            "  epochs = mne.read_epochs_eeglab(file_path)\n"
          ]
        },
        {
          "name": "stdout",
          "output_type": "stream",
          "text": [
            "Extracting parameters from C:\\Users\\Usuario\\Downloads\\datos_BCI\\datos_BCI\\left_mvto\\S018_Task1_PREP_Left.set...\n",
            "Not setting metadata\n",
            "22 matching events found\n",
            "No baseline correction applied\n",
            "0 projection items activated\n",
            "Ready.\n",
            "NOTE: pick_channels() is a legacy function. New code should use inst.pick(...).\n",
            "Creating RawArray with float64 data, n_channels=64, n_times=1152\n",
            "    Range : 0 ... 1151 =      0.000 ...     8.992 secs\n",
            "Ready.\n"
          ]
        },
        {
          "name": "stderr",
          "output_type": "stream",
          "text": [
            "C:\\Users\\USUARIO\\AppData\\Local\\Temp\\ipykernel_23312\\3451594139.py:23: RuntimeWarning: At least one epoch has multiple events. Only the latency of the first event will be retained.\n",
            "  epochs = mne.read_epochs_eeglab(file_path)\n"
          ]
        },
        {
          "name": "stdout",
          "output_type": "stream",
          "text": [
            "Extracting parameters from C:\\Users\\Usuario\\Downloads\\datos_BCI\\datos_BCI\\left_mvto\\S019_Task1_PREP_Left.set...\n",
            "Not setting metadata\n",
            "23 matching events found\n",
            "No baseline correction applied\n",
            "0 projection items activated\n",
            "Ready.\n",
            "NOTE: pick_channels() is a legacy function. New code should use inst.pick(...).\n",
            "Creating RawArray with float64 data, n_channels=64, n_times=1152\n",
            "    Range : 0 ... 1151 =      0.000 ...     8.992 secs\n",
            "Ready.\n"
          ]
        },
        {
          "name": "stderr",
          "output_type": "stream",
          "text": [
            "C:\\Users\\USUARIO\\AppData\\Local\\Temp\\ipykernel_23312\\3451594139.py:23: RuntimeWarning: At least one epoch has multiple events. Only the latency of the first event will be retained.\n",
            "  epochs = mne.read_epochs_eeglab(file_path)\n"
          ]
        },
        {
          "name": "stdout",
          "output_type": "stream",
          "text": [
            "Extracting parameters from C:\\Users\\Usuario\\Downloads\\datos_BCI\\datos_BCI\\left_mvto\\S020_Task1_PREP_Left.set...\n",
            "Not setting metadata\n",
            "21 matching events found\n",
            "No baseline correction applied\n",
            "0 projection items activated\n",
            "Ready.\n",
            "NOTE: pick_channels() is a legacy function. New code should use inst.pick(...).\n",
            "Creating RawArray with float64 data, n_channels=64, n_times=1152\n",
            "    Range : 0 ... 1151 =      0.000 ...     8.992 secs\n",
            "Ready.\n"
          ]
        },
        {
          "name": "stderr",
          "output_type": "stream",
          "text": [
            "C:\\Users\\USUARIO\\AppData\\Local\\Temp\\ipykernel_23312\\3451594139.py:23: RuntimeWarning: At least one epoch has multiple events. Only the latency of the first event will be retained.\n",
            "  epochs = mne.read_epochs_eeglab(file_path)\n"
          ]
        },
        {
          "name": "stdout",
          "output_type": "stream",
          "text": [
            "Extracting parameters from C:\\Users\\Usuario\\Downloads\\datos_BCI\\datos_BCI\\right_mvto\\S001_Task1_PREP_Right.set...\n",
            "Not setting metadata\n",
            "22 matching events found\n",
            "No baseline correction applied\n",
            "0 projection items activated\n",
            "Ready.\n",
            "NOTE: pick_channels() is a legacy function. New code should use inst.pick(...).\n",
            "Creating RawArray with float64 data, n_channels=64, n_times=1152\n",
            "    Range : 0 ... 1151 =      0.000 ...     8.992 secs\n",
            "Ready.\n"
          ]
        },
        {
          "name": "stderr",
          "output_type": "stream",
          "text": [
            "C:\\Users\\USUARIO\\AppData\\Local\\Temp\\ipykernel_23312\\3451594139.py:23: RuntimeWarning: At least one epoch has multiple events. Only the latency of the first event will be retained.\n",
            "  epochs = mne.read_epochs_eeglab(file_path)\n"
          ]
        },
        {
          "name": "stdout",
          "output_type": "stream",
          "text": [
            "Extracting parameters from C:\\Users\\Usuario\\Downloads\\datos_BCI\\datos_BCI\\right_mvto\\S002_Task1_PREP_Right.set...\n",
            "Not setting metadata\n",
            "21 matching events found\n",
            "No baseline correction applied\n",
            "0 projection items activated\n",
            "Ready.\n",
            "NOTE: pick_channels() is a legacy function. New code should use inst.pick(...).\n",
            "Creating RawArray with float64 data, n_channels=64, n_times=1152\n",
            "    Range : 0 ... 1151 =      0.000 ...     8.992 secs\n",
            "Ready.\n"
          ]
        },
        {
          "name": "stderr",
          "output_type": "stream",
          "text": [
            "C:\\Users\\USUARIO\\AppData\\Local\\Temp\\ipykernel_23312\\3451594139.py:23: RuntimeWarning: At least one epoch has multiple events. Only the latency of the first event will be retained.\n",
            "  epochs = mne.read_epochs_eeglab(file_path)\n"
          ]
        },
        {
          "name": "stdout",
          "output_type": "stream",
          "text": [
            "Extracting parameters from C:\\Users\\Usuario\\Downloads\\datos_BCI\\datos_BCI\\right_mvto\\S003_Task1_PREP_Right.set...\n",
            "Not setting metadata\n",
            "23 matching events found\n",
            "No baseline correction applied\n",
            "0 projection items activated\n",
            "Ready.\n",
            "NOTE: pick_channels() is a legacy function. New code should use inst.pick(...).\n",
            "Creating RawArray with float64 data, n_channels=64, n_times=1152\n",
            "    Range : 0 ... 1151 =      0.000 ...     8.992 secs\n",
            "Ready.\n"
          ]
        },
        {
          "name": "stderr",
          "output_type": "stream",
          "text": [
            "C:\\Users\\USUARIO\\AppData\\Local\\Temp\\ipykernel_23312\\3451594139.py:23: RuntimeWarning: At least one epoch has multiple events. Only the latency of the first event will be retained.\n",
            "  epochs = mne.read_epochs_eeglab(file_path)\n"
          ]
        },
        {
          "name": "stdout",
          "output_type": "stream",
          "text": [
            "Extracting parameters from C:\\Users\\Usuario\\Downloads\\datos_BCI\\datos_BCI\\right_mvto\\S004_Task1_PREP_Right.set...\n",
            "Not setting metadata\n",
            "22 matching events found\n",
            "No baseline correction applied\n",
            "0 projection items activated\n",
            "Ready.\n",
            "NOTE: pick_channels() is a legacy function. New code should use inst.pick(...).\n",
            "Creating RawArray with float64 data, n_channels=64, n_times=1152\n",
            "    Range : 0 ... 1151 =      0.000 ...     8.992 secs\n",
            "Ready.\n"
          ]
        },
        {
          "name": "stderr",
          "output_type": "stream",
          "text": [
            "C:\\Users\\USUARIO\\AppData\\Local\\Temp\\ipykernel_23312\\3451594139.py:23: RuntimeWarning: At least one epoch has multiple events. Only the latency of the first event will be retained.\n",
            "  epochs = mne.read_epochs_eeglab(file_path)\n"
          ]
        },
        {
          "name": "stdout",
          "output_type": "stream",
          "text": [
            "Extracting parameters from C:\\Users\\Usuario\\Downloads\\datos_BCI\\datos_BCI\\right_mvto\\S005_Task1_PREP_Right.set...\n",
            "Not setting metadata\n",
            "22 matching events found\n",
            "No baseline correction applied\n",
            "0 projection items activated\n",
            "Ready.\n",
            "NOTE: pick_channels() is a legacy function. New code should use inst.pick(...).\n",
            "Creating RawArray with float64 data, n_channels=64, n_times=1152\n",
            "    Range : 0 ... 1151 =      0.000 ...     8.992 secs\n",
            "Ready.\n"
          ]
        },
        {
          "name": "stderr",
          "output_type": "stream",
          "text": [
            "C:\\Users\\USUARIO\\AppData\\Local\\Temp\\ipykernel_23312\\3451594139.py:23: RuntimeWarning: At least one epoch has multiple events. Only the latency of the first event will be retained.\n",
            "  epochs = mne.read_epochs_eeglab(file_path)\n"
          ]
        },
        {
          "name": "stdout",
          "output_type": "stream",
          "text": [
            "Extracting parameters from C:\\Users\\Usuario\\Downloads\\datos_BCI\\datos_BCI\\right_mvto\\S006_Task1_PREP_Right.set...\n",
            "Not setting metadata\n",
            "22 matching events found\n",
            "No baseline correction applied\n",
            "0 projection items activated\n",
            "Ready.\n",
            "NOTE: pick_channels() is a legacy function. New code should use inst.pick(...).\n",
            "Creating RawArray with float64 data, n_channels=64, n_times=1152\n",
            "    Range : 0 ... 1151 =      0.000 ...     8.992 secs\n",
            "Ready.\n"
          ]
        },
        {
          "name": "stderr",
          "output_type": "stream",
          "text": [
            "C:\\Users\\USUARIO\\AppData\\Local\\Temp\\ipykernel_23312\\3451594139.py:23: RuntimeWarning: At least one epoch has multiple events. Only the latency of the first event will be retained.\n",
            "  epochs = mne.read_epochs_eeglab(file_path)\n"
          ]
        },
        {
          "name": "stdout",
          "output_type": "stream",
          "text": [
            "Extracting parameters from C:\\Users\\Usuario\\Downloads\\datos_BCI\\datos_BCI\\right_mvto\\S007_Task1_PREP_Right.set...\n",
            "Not setting metadata\n",
            "22 matching events found\n",
            "No baseline correction applied\n",
            "0 projection items activated\n",
            "Ready.\n",
            "NOTE: pick_channels() is a legacy function. New code should use inst.pick(...).\n",
            "Creating RawArray with float64 data, n_channels=64, n_times=1152\n",
            "    Range : 0 ... 1151 =      0.000 ...     8.992 secs\n",
            "Ready.\n"
          ]
        },
        {
          "name": "stderr",
          "output_type": "stream",
          "text": [
            "C:\\Users\\USUARIO\\AppData\\Local\\Temp\\ipykernel_23312\\3451594139.py:23: RuntimeWarning: At least one epoch has multiple events. Only the latency of the first event will be retained.\n",
            "  epochs = mne.read_epochs_eeglab(file_path)\n"
          ]
        },
        {
          "name": "stdout",
          "output_type": "stream",
          "text": [
            "Extracting parameters from C:\\Users\\Usuario\\Downloads\\datos_BCI\\datos_BCI\\right_mvto\\S008_Task1_PREP_Right.set...\n",
            "Not setting metadata\n",
            "22 matching events found\n",
            "No baseline correction applied\n",
            "0 projection items activated\n",
            "Ready.\n",
            "NOTE: pick_channels() is a legacy function. New code should use inst.pick(...).\n",
            "Creating RawArray with float64 data, n_channels=64, n_times=1152\n",
            "    Range : 0 ... 1151 =      0.000 ...     8.992 secs\n",
            "Ready.\n"
          ]
        },
        {
          "name": "stderr",
          "output_type": "stream",
          "text": [
            "C:\\Users\\USUARIO\\AppData\\Local\\Temp\\ipykernel_23312\\3451594139.py:23: RuntimeWarning: At least one epoch has multiple events. Only the latency of the first event will be retained.\n",
            "  epochs = mne.read_epochs_eeglab(file_path)\n"
          ]
        },
        {
          "name": "stdout",
          "output_type": "stream",
          "text": [
            "Extracting parameters from C:\\Users\\Usuario\\Downloads\\datos_BCI\\datos_BCI\\right_mvto\\S009_Task1_PREP_Right.set...\n",
            "Not setting metadata\n",
            "22 matching events found\n",
            "No baseline correction applied\n",
            "0 projection items activated\n",
            "Ready.\n",
            "NOTE: pick_channels() is a legacy function. New code should use inst.pick(...).\n",
            "Creating RawArray with float64 data, n_channels=64, n_times=1152\n",
            "    Range : 0 ... 1151 =      0.000 ...     8.992 secs\n",
            "Ready.\n"
          ]
        },
        {
          "name": "stderr",
          "output_type": "stream",
          "text": [
            "C:\\Users\\USUARIO\\AppData\\Local\\Temp\\ipykernel_23312\\3451594139.py:23: RuntimeWarning: At least one epoch has multiple events. Only the latency of the first event will be retained.\n",
            "  epochs = mne.read_epochs_eeglab(file_path)\n"
          ]
        },
        {
          "name": "stdout",
          "output_type": "stream",
          "text": [
            "Extracting parameters from C:\\Users\\Usuario\\Downloads\\datos_BCI\\datos_BCI\\right_mvto\\S010_Task1_PREP_Right.set...\n",
            "Not setting metadata\n",
            "21 matching events found\n",
            "No baseline correction applied\n",
            "0 projection items activated\n",
            "Ready.\n",
            "NOTE: pick_channels() is a legacy function. New code should use inst.pick(...).\n",
            "Creating RawArray with float64 data, n_channels=64, n_times=1152\n",
            "    Range : 0 ... 1151 =      0.000 ...     8.992 secs\n",
            "Ready.\n"
          ]
        },
        {
          "name": "stderr",
          "output_type": "stream",
          "text": [
            "C:\\Users\\USUARIO\\AppData\\Local\\Temp\\ipykernel_23312\\3451594139.py:23: RuntimeWarning: At least one epoch has multiple events. Only the latency of the first event will be retained.\n",
            "  epochs = mne.read_epochs_eeglab(file_path)\n"
          ]
        },
        {
          "name": "stdout",
          "output_type": "stream",
          "text": [
            "Extracting parameters from C:\\Users\\Usuario\\Downloads\\datos_BCI\\datos_BCI\\right_mvto\\S011_Task1_PREP_Right.set...\n",
            "Not setting metadata\n",
            "22 matching events found\n",
            "No baseline correction applied\n",
            "0 projection items activated\n",
            "Ready.\n",
            "NOTE: pick_channels() is a legacy function. New code should use inst.pick(...).\n",
            "Creating RawArray with float64 data, n_channels=64, n_times=1152\n",
            "    Range : 0 ... 1151 =      0.000 ...     8.992 secs\n",
            "Ready.\n"
          ]
        },
        {
          "name": "stderr",
          "output_type": "stream",
          "text": [
            "C:\\Users\\USUARIO\\AppData\\Local\\Temp\\ipykernel_23312\\3451594139.py:23: RuntimeWarning: At least one epoch has multiple events. Only the latency of the first event will be retained.\n",
            "  epochs = mne.read_epochs_eeglab(file_path)\n"
          ]
        },
        {
          "name": "stdout",
          "output_type": "stream",
          "text": [
            "Extracting parameters from C:\\Users\\Usuario\\Downloads\\datos_BCI\\datos_BCI\\right_mvto\\S012_Task1_PREP_Right.set...\n",
            "Not setting metadata\n",
            "21 matching events found\n",
            "No baseline correction applied\n",
            "0 projection items activated\n",
            "Ready.\n",
            "NOTE: pick_channels() is a legacy function. New code should use inst.pick(...).\n",
            "Creating RawArray with float64 data, n_channels=64, n_times=1152\n",
            "    Range : 0 ... 1151 =      0.000 ...     8.992 secs\n",
            "Ready.\n"
          ]
        },
        {
          "name": "stderr",
          "output_type": "stream",
          "text": [
            "C:\\Users\\USUARIO\\AppData\\Local\\Temp\\ipykernel_23312\\3451594139.py:23: RuntimeWarning: At least one epoch has multiple events. Only the latency of the first event will be retained.\n",
            "  epochs = mne.read_epochs_eeglab(file_path)\n"
          ]
        },
        {
          "name": "stdout",
          "output_type": "stream",
          "text": [
            "Extracting parameters from C:\\Users\\Usuario\\Downloads\\datos_BCI\\datos_BCI\\right_mvto\\S013_Task1_PREP_Right.set...\n",
            "Not setting metadata\n",
            "21 matching events found\n",
            "No baseline correction applied\n",
            "0 projection items activated\n",
            "Ready.\n",
            "NOTE: pick_channels() is a legacy function. New code should use inst.pick(...).\n",
            "Creating RawArray with float64 data, n_channels=64, n_times=1152\n",
            "    Range : 0 ... 1151 =      0.000 ...     8.992 secs\n",
            "Ready.\n"
          ]
        },
        {
          "name": "stderr",
          "output_type": "stream",
          "text": [
            "C:\\Users\\USUARIO\\AppData\\Local\\Temp\\ipykernel_23312\\3451594139.py:23: RuntimeWarning: At least one epoch has multiple events. Only the latency of the first event will be retained.\n",
            "  epochs = mne.read_epochs_eeglab(file_path)\n"
          ]
        },
        {
          "name": "stdout",
          "output_type": "stream",
          "text": [
            "Extracting parameters from C:\\Users\\Usuario\\Downloads\\datos_BCI\\datos_BCI\\right_mvto\\S014_Task1_PREP_Right.set...\n",
            "Not setting metadata\n",
            "22 matching events found\n",
            "No baseline correction applied\n",
            "0 projection items activated\n",
            "Ready.\n",
            "NOTE: pick_channels() is a legacy function. New code should use inst.pick(...).\n",
            "Creating RawArray with float64 data, n_channels=64, n_times=1152\n",
            "    Range : 0 ... 1151 =      0.000 ...     8.992 secs\n",
            "Ready.\n"
          ]
        },
        {
          "name": "stderr",
          "output_type": "stream",
          "text": [
            "C:\\Users\\USUARIO\\AppData\\Local\\Temp\\ipykernel_23312\\3451594139.py:23: RuntimeWarning: At least one epoch has multiple events. Only the latency of the first event will be retained.\n",
            "  epochs = mne.read_epochs_eeglab(file_path)\n"
          ]
        },
        {
          "name": "stdout",
          "output_type": "stream",
          "text": [
            "Extracting parameters from C:\\Users\\Usuario\\Downloads\\datos_BCI\\datos_BCI\\right_mvto\\S015_Task1_PREP_Right.set...\n",
            "Not setting metadata\n",
            "22 matching events found\n",
            "No baseline correction applied\n",
            "0 projection items activated\n",
            "Ready.\n",
            "NOTE: pick_channels() is a legacy function. New code should use inst.pick(...).\n",
            "Creating RawArray with float64 data, n_channels=64, n_times=1152\n",
            "    Range : 0 ... 1151 =      0.000 ...     8.992 secs\n",
            "Ready.\n"
          ]
        },
        {
          "name": "stderr",
          "output_type": "stream",
          "text": [
            "C:\\Users\\USUARIO\\AppData\\Local\\Temp\\ipykernel_23312\\3451594139.py:23: RuntimeWarning: At least one epoch has multiple events. Only the latency of the first event will be retained.\n",
            "  epochs = mne.read_epochs_eeglab(file_path)\n"
          ]
        },
        {
          "name": "stdout",
          "output_type": "stream",
          "text": [
            "Extracting parameters from C:\\Users\\Usuario\\Downloads\\datos_BCI\\datos_BCI\\right_mvto\\S016_Task1_PREP_Right.set...\n",
            "Not setting metadata\n",
            "21 matching events found\n",
            "No baseline correction applied\n",
            "0 projection items activated\n",
            "Ready.\n",
            "NOTE: pick_channels() is a legacy function. New code should use inst.pick(...).\n",
            "Creating RawArray with float64 data, n_channels=64, n_times=1152\n",
            "    Range : 0 ... 1151 =      0.000 ...     8.992 secs\n",
            "Ready.\n"
          ]
        },
        {
          "name": "stderr",
          "output_type": "stream",
          "text": [
            "C:\\Users\\USUARIO\\AppData\\Local\\Temp\\ipykernel_23312\\3451594139.py:23: RuntimeWarning: At least one epoch has multiple events. Only the latency of the first event will be retained.\n",
            "  epochs = mne.read_epochs_eeglab(file_path)\n"
          ]
        },
        {
          "name": "stdout",
          "output_type": "stream",
          "text": [
            "Extracting parameters from C:\\Users\\Usuario\\Downloads\\datos_BCI\\datos_BCI\\right_mvto\\S017_Task1_PREP_Right.set...\n",
            "Not setting metadata\n",
            "22 matching events found\n",
            "No baseline correction applied\n",
            "0 projection items activated\n",
            "Ready.\n",
            "NOTE: pick_channels() is a legacy function. New code should use inst.pick(...).\n",
            "Creating RawArray with float64 data, n_channels=64, n_times=1152\n",
            "    Range : 0 ... 1151 =      0.000 ...     8.992 secs\n",
            "Ready.\n"
          ]
        },
        {
          "name": "stderr",
          "output_type": "stream",
          "text": [
            "C:\\Users\\USUARIO\\AppData\\Local\\Temp\\ipykernel_23312\\3451594139.py:23: RuntimeWarning: At least one epoch has multiple events. Only the latency of the first event will be retained.\n",
            "  epochs = mne.read_epochs_eeglab(file_path)\n"
          ]
        },
        {
          "name": "stdout",
          "output_type": "stream",
          "text": [
            "Extracting parameters from C:\\Users\\Usuario\\Downloads\\datos_BCI\\datos_BCI\\right_mvto\\S018_Task1_PREP_Right.set...\n",
            "Not setting metadata\n",
            "22 matching events found\n",
            "No baseline correction applied\n",
            "0 projection items activated\n",
            "Ready.\n",
            "NOTE: pick_channels() is a legacy function. New code should use inst.pick(...).\n",
            "Creating RawArray with float64 data, n_channels=64, n_times=1152\n",
            "    Range : 0 ... 1151 =      0.000 ...     8.992 secs\n",
            "Ready.\n"
          ]
        },
        {
          "name": "stderr",
          "output_type": "stream",
          "text": [
            "C:\\Users\\USUARIO\\AppData\\Local\\Temp\\ipykernel_23312\\3451594139.py:23: RuntimeWarning: At least one epoch has multiple events. Only the latency of the first event will be retained.\n",
            "  epochs = mne.read_epochs_eeglab(file_path)\n"
          ]
        },
        {
          "name": "stdout",
          "output_type": "stream",
          "text": [
            "Extracting parameters from C:\\Users\\Usuario\\Downloads\\datos_BCI\\datos_BCI\\right_mvto\\S019_Task1_PREP_Right.set...\n",
            "Not setting metadata\n",
            "21 matching events found\n",
            "No baseline correction applied\n",
            "0 projection items activated\n",
            "Ready.\n",
            "NOTE: pick_channels() is a legacy function. New code should use inst.pick(...).\n",
            "Creating RawArray with float64 data, n_channels=64, n_times=1152\n",
            "    Range : 0 ... 1151 =      0.000 ...     8.992 secs\n",
            "Ready.\n"
          ]
        },
        {
          "name": "stderr",
          "output_type": "stream",
          "text": [
            "C:\\Users\\USUARIO\\AppData\\Local\\Temp\\ipykernel_23312\\3451594139.py:23: RuntimeWarning: At least one epoch has multiple events. Only the latency of the first event will be retained.\n",
            "  epochs = mne.read_epochs_eeglab(file_path)\n"
          ]
        },
        {
          "name": "stdout",
          "output_type": "stream",
          "text": [
            "Extracting parameters from C:\\Users\\Usuario\\Downloads\\datos_BCI\\datos_BCI\\right_mvto\\S020_Task1_PREP_Right.set...\n",
            "Not setting metadata\n",
            "23 matching events found\n",
            "No baseline correction applied\n",
            "0 projection items activated\n",
            "Ready.\n",
            "NOTE: pick_channels() is a legacy function. New code should use inst.pick(...).\n",
            "Creating RawArray with float64 data, n_channels=64, n_times=1152\n",
            "    Range : 0 ... 1151 =      0.000 ...     8.992 secs\n",
            "Ready.\n"
          ]
        },
        {
          "name": "stderr",
          "output_type": "stream",
          "text": [
            "C:\\Users\\USUARIO\\AppData\\Local\\Temp\\ipykernel_23312\\3451594139.py:23: RuntimeWarning: At least one epoch has multiple events. Only the latency of the first event will be retained.\n",
            "  epochs = mne.read_epochs_eeglab(file_path)\n"
          ]
        },
        {
          "name": "stdout",
          "output_type": "stream",
          "text": [
            "Extracting parameters from C:\\Users\\Usuario\\Downloads\\datos_BCI\\datos_BCI\\left_imag\\S001_Task2_PREP_Left.set...\n",
            "Not setting metadata\n",
            "22 matching events found\n",
            "No baseline correction applied\n",
            "0 projection items activated\n",
            "Ready.\n",
            "NOTE: pick_channels() is a legacy function. New code should use inst.pick(...).\n",
            "Creating RawArray with float64 data, n_channels=64, n_times=1152\n",
            "    Range : 0 ... 1151 =      0.000 ...     8.992 secs\n",
            "Ready.\n"
          ]
        },
        {
          "name": "stderr",
          "output_type": "stream",
          "text": [
            "C:\\Users\\USUARIO\\AppData\\Local\\Temp\\ipykernel_23312\\3451594139.py:23: RuntimeWarning: At least one epoch has multiple events. Only the latency of the first event will be retained.\n",
            "  epochs = mne.read_epochs_eeglab(file_path)\n"
          ]
        },
        {
          "name": "stdout",
          "output_type": "stream",
          "text": [
            "Extracting parameters from C:\\Users\\Usuario\\Downloads\\datos_BCI\\datos_BCI\\left_imag\\S002_Task2_PREP_Left.set...\n",
            "Not setting metadata\n",
            "22 matching events found\n",
            "No baseline correction applied\n",
            "0 projection items activated\n",
            "Ready.\n",
            "NOTE: pick_channels() is a legacy function. New code should use inst.pick(...).\n",
            "Creating RawArray with float64 data, n_channels=64, n_times=1152\n",
            "    Range : 0 ... 1151 =      0.000 ...     8.992 secs\n",
            "Ready.\n"
          ]
        },
        {
          "name": "stderr",
          "output_type": "stream",
          "text": [
            "C:\\Users\\USUARIO\\AppData\\Local\\Temp\\ipykernel_23312\\3451594139.py:23: RuntimeWarning: At least one epoch has multiple events. Only the latency of the first event will be retained.\n",
            "  epochs = mne.read_epochs_eeglab(file_path)\n"
          ]
        },
        {
          "name": "stdout",
          "output_type": "stream",
          "text": [
            "Extracting parameters from C:\\Users\\Usuario\\Downloads\\datos_BCI\\datos_BCI\\left_imag\\S003_Task2_PREP_Left.set...\n",
            "Not setting metadata\n",
            "23 matching events found\n",
            "No baseline correction applied\n",
            "0 projection items activated\n",
            "Ready.\n",
            "NOTE: pick_channels() is a legacy function. New code should use inst.pick(...).\n",
            "Creating RawArray with float64 data, n_channels=64, n_times=1152\n",
            "    Range : 0 ... 1151 =      0.000 ...     8.992 secs\n",
            "Ready.\n"
          ]
        },
        {
          "name": "stderr",
          "output_type": "stream",
          "text": [
            "C:\\Users\\USUARIO\\AppData\\Local\\Temp\\ipykernel_23312\\3451594139.py:23: RuntimeWarning: At least one epoch has multiple events. Only the latency of the first event will be retained.\n",
            "  epochs = mne.read_epochs_eeglab(file_path)\n"
          ]
        },
        {
          "name": "stdout",
          "output_type": "stream",
          "text": [
            "Extracting parameters from C:\\Users\\Usuario\\Downloads\\datos_BCI\\datos_BCI\\left_imag\\S004_Task2_PREP_Left.set...\n",
            "Not setting metadata\n",
            "23 matching events found\n",
            "No baseline correction applied\n",
            "0 projection items activated\n",
            "Ready.\n",
            "NOTE: pick_channels() is a legacy function. New code should use inst.pick(...).\n",
            "Creating RawArray with float64 data, n_channels=64, n_times=1152\n",
            "    Range : 0 ... 1151 =      0.000 ...     8.992 secs\n",
            "Ready.\n"
          ]
        },
        {
          "name": "stderr",
          "output_type": "stream",
          "text": [
            "C:\\Users\\USUARIO\\AppData\\Local\\Temp\\ipykernel_23312\\3451594139.py:23: RuntimeWarning: At least one epoch has multiple events. Only the latency of the first event will be retained.\n",
            "  epochs = mne.read_epochs_eeglab(file_path)\n"
          ]
        },
        {
          "name": "stdout",
          "output_type": "stream",
          "text": [
            "Extracting parameters from C:\\Users\\Usuario\\Downloads\\datos_BCI\\datos_BCI\\left_imag\\S005_Task2_PREP_Left.set...\n",
            "Not setting metadata\n",
            "21 matching events found\n",
            "No baseline correction applied\n",
            "0 projection items activated\n",
            "Ready.\n",
            "NOTE: pick_channels() is a legacy function. New code should use inst.pick(...).\n",
            "Creating RawArray with float64 data, n_channels=64, n_times=1152\n",
            "    Range : 0 ... 1151 =      0.000 ...     8.992 secs\n",
            "Ready.\n"
          ]
        },
        {
          "name": "stderr",
          "output_type": "stream",
          "text": [
            "C:\\Users\\USUARIO\\AppData\\Local\\Temp\\ipykernel_23312\\3451594139.py:23: RuntimeWarning: At least one epoch has multiple events. Only the latency of the first event will be retained.\n",
            "  epochs = mne.read_epochs_eeglab(file_path)\n"
          ]
        },
        {
          "name": "stdout",
          "output_type": "stream",
          "text": [
            "Extracting parameters from C:\\Users\\Usuario\\Downloads\\datos_BCI\\datos_BCI\\left_imag\\S006_Task2_PREP_Left.set...\n",
            "Not setting metadata\n",
            "23 matching events found\n",
            "No baseline correction applied\n",
            "0 projection items activated\n",
            "Ready.\n",
            "NOTE: pick_channels() is a legacy function. New code should use inst.pick(...).\n",
            "Creating RawArray with float64 data, n_channels=64, n_times=1152\n",
            "    Range : 0 ... 1151 =      0.000 ...     8.992 secs\n",
            "Ready.\n"
          ]
        },
        {
          "name": "stderr",
          "output_type": "stream",
          "text": [
            "C:\\Users\\USUARIO\\AppData\\Local\\Temp\\ipykernel_23312\\3451594139.py:23: RuntimeWarning: At least one epoch has multiple events. Only the latency of the first event will be retained.\n",
            "  epochs = mne.read_epochs_eeglab(file_path)\n"
          ]
        },
        {
          "name": "stdout",
          "output_type": "stream",
          "text": [
            "Extracting parameters from C:\\Users\\Usuario\\Downloads\\datos_BCI\\datos_BCI\\left_imag\\S007_Task2_PREP_Left.set...\n",
            "Not setting metadata\n",
            "22 matching events found\n",
            "No baseline correction applied\n",
            "0 projection items activated\n",
            "Ready.\n",
            "NOTE: pick_channels() is a legacy function. New code should use inst.pick(...).\n",
            "Creating RawArray with float64 data, n_channels=64, n_times=1152\n",
            "    Range : 0 ... 1151 =      0.000 ...     8.992 secs\n",
            "Ready.\n"
          ]
        },
        {
          "name": "stderr",
          "output_type": "stream",
          "text": [
            "C:\\Users\\USUARIO\\AppData\\Local\\Temp\\ipykernel_23312\\3451594139.py:23: RuntimeWarning: At least one epoch has multiple events. Only the latency of the first event will be retained.\n",
            "  epochs = mne.read_epochs_eeglab(file_path)\n"
          ]
        },
        {
          "name": "stdout",
          "output_type": "stream",
          "text": [
            "Extracting parameters from C:\\Users\\Usuario\\Downloads\\datos_BCI\\datos_BCI\\left_imag\\S008_Task2_PREP_Left.set...\n",
            "Not setting metadata\n",
            "22 matching events found\n",
            "No baseline correction applied\n",
            "0 projection items activated\n",
            "Ready.\n",
            "NOTE: pick_channels() is a legacy function. New code should use inst.pick(...).\n",
            "Creating RawArray with float64 data, n_channels=64, n_times=1152\n",
            "    Range : 0 ... 1151 =      0.000 ...     8.992 secs\n",
            "Ready.\n"
          ]
        },
        {
          "name": "stderr",
          "output_type": "stream",
          "text": [
            "C:\\Users\\USUARIO\\AppData\\Local\\Temp\\ipykernel_23312\\3451594139.py:23: RuntimeWarning: At least one epoch has multiple events. Only the latency of the first event will be retained.\n",
            "  epochs = mne.read_epochs_eeglab(file_path)\n"
          ]
        },
        {
          "name": "stdout",
          "output_type": "stream",
          "text": [
            "Extracting parameters from C:\\Users\\Usuario\\Downloads\\datos_BCI\\datos_BCI\\left_imag\\S009_Task2_PREP_Left.set...\n",
            "Not setting metadata\n",
            "23 matching events found\n",
            "No baseline correction applied\n",
            "0 projection items activated\n",
            "Ready.\n",
            "NOTE: pick_channels() is a legacy function. New code should use inst.pick(...).\n",
            "Creating RawArray with float64 data, n_channels=64, n_times=1152\n",
            "    Range : 0 ... 1151 =      0.000 ...     8.992 secs\n",
            "Ready.\n"
          ]
        },
        {
          "name": "stderr",
          "output_type": "stream",
          "text": [
            "C:\\Users\\USUARIO\\AppData\\Local\\Temp\\ipykernel_23312\\3451594139.py:23: RuntimeWarning: At least one epoch has multiple events. Only the latency of the first event will be retained.\n",
            "  epochs = mne.read_epochs_eeglab(file_path)\n"
          ]
        },
        {
          "name": "stdout",
          "output_type": "stream",
          "text": [
            "Extracting parameters from C:\\Users\\Usuario\\Downloads\\datos_BCI\\datos_BCI\\left_imag\\S010_Task2_PREP_Left.set...\n",
            "Not setting metadata\n",
            "23 matching events found\n",
            "No baseline correction applied\n",
            "0 projection items activated\n",
            "Ready.\n",
            "NOTE: pick_channels() is a legacy function. New code should use inst.pick(...).\n",
            "Creating RawArray with float64 data, n_channels=64, n_times=1152\n",
            "    Range : 0 ... 1151 =      0.000 ...     8.992 secs\n",
            "Ready.\n"
          ]
        },
        {
          "name": "stderr",
          "output_type": "stream",
          "text": [
            "C:\\Users\\USUARIO\\AppData\\Local\\Temp\\ipykernel_23312\\3451594139.py:23: RuntimeWarning: At least one epoch has multiple events. Only the latency of the first event will be retained.\n",
            "  epochs = mne.read_epochs_eeglab(file_path)\n"
          ]
        },
        {
          "name": "stdout",
          "output_type": "stream",
          "text": [
            "Extracting parameters from C:\\Users\\Usuario\\Downloads\\datos_BCI\\datos_BCI\\left_imag\\S011_Task2_PREP_Left.set...\n",
            "Not setting metadata\n",
            "23 matching events found\n",
            "No baseline correction applied\n",
            "0 projection items activated\n",
            "Ready.\n",
            "NOTE: pick_channels() is a legacy function. New code should use inst.pick(...).\n",
            "Creating RawArray with float64 data, n_channels=64, n_times=1152\n",
            "    Range : 0 ... 1151 =      0.000 ...     8.992 secs\n",
            "Ready.\n"
          ]
        },
        {
          "name": "stderr",
          "output_type": "stream",
          "text": [
            "C:\\Users\\USUARIO\\AppData\\Local\\Temp\\ipykernel_23312\\3451594139.py:23: RuntimeWarning: At least one epoch has multiple events. Only the latency of the first event will be retained.\n",
            "  epochs = mne.read_epochs_eeglab(file_path)\n"
          ]
        },
        {
          "name": "stdout",
          "output_type": "stream",
          "text": [
            "Extracting parameters from C:\\Users\\Usuario\\Downloads\\datos_BCI\\datos_BCI\\left_imag\\S012_Task2_PREP_Left.set...\n",
            "Not setting metadata\n",
            "21 matching events found\n",
            "No baseline correction applied\n",
            "0 projection items activated\n",
            "Ready.\n",
            "NOTE: pick_channels() is a legacy function. New code should use inst.pick(...).\n",
            "Creating RawArray with float64 data, n_channels=64, n_times=1152\n",
            "    Range : 0 ... 1151 =      0.000 ...     8.992 secs\n",
            "Ready.\n"
          ]
        },
        {
          "name": "stderr",
          "output_type": "stream",
          "text": [
            "C:\\Users\\USUARIO\\AppData\\Local\\Temp\\ipykernel_23312\\3451594139.py:23: RuntimeWarning: At least one epoch has multiple events. Only the latency of the first event will be retained.\n",
            "  epochs = mne.read_epochs_eeglab(file_path)\n"
          ]
        },
        {
          "name": "stdout",
          "output_type": "stream",
          "text": [
            "Extracting parameters from C:\\Users\\Usuario\\Downloads\\datos_BCI\\datos_BCI\\left_imag\\S013_Task2_PREP_Left.set...\n",
            "Not setting metadata\n",
            "22 matching events found\n",
            "No baseline correction applied\n",
            "0 projection items activated\n",
            "Ready.\n",
            "NOTE: pick_channels() is a legacy function. New code should use inst.pick(...).\n",
            "Creating RawArray with float64 data, n_channels=64, n_times=1152\n",
            "    Range : 0 ... 1151 =      0.000 ...     8.992 secs\n",
            "Ready.\n"
          ]
        },
        {
          "name": "stderr",
          "output_type": "stream",
          "text": [
            "C:\\Users\\USUARIO\\AppData\\Local\\Temp\\ipykernel_23312\\3451594139.py:23: RuntimeWarning: At least one epoch has multiple events. Only the latency of the first event will be retained.\n",
            "  epochs = mne.read_epochs_eeglab(file_path)\n"
          ]
        },
        {
          "name": "stdout",
          "output_type": "stream",
          "text": [
            "Extracting parameters from C:\\Users\\Usuario\\Downloads\\datos_BCI\\datos_BCI\\left_imag\\S014_Task2_PREP_Left.set...\n",
            "Not setting metadata\n",
            "22 matching events found\n",
            "No baseline correction applied\n",
            "0 projection items activated\n",
            "Ready.\n",
            "NOTE: pick_channels() is a legacy function. New code should use inst.pick(...).\n",
            "Creating RawArray with float64 data, n_channels=64, n_times=1152\n",
            "    Range : 0 ... 1151 =      0.000 ...     8.992 secs\n",
            "Ready.\n"
          ]
        },
        {
          "name": "stderr",
          "output_type": "stream",
          "text": [
            "C:\\Users\\USUARIO\\AppData\\Local\\Temp\\ipykernel_23312\\3451594139.py:23: RuntimeWarning: At least one epoch has multiple events. Only the latency of the first event will be retained.\n",
            "  epochs = mne.read_epochs_eeglab(file_path)\n"
          ]
        },
        {
          "name": "stdout",
          "output_type": "stream",
          "text": [
            "Extracting parameters from C:\\Users\\Usuario\\Downloads\\datos_BCI\\datos_BCI\\left_imag\\S015_Task2_PREP_Left.set...\n",
            "Not setting metadata\n",
            "22 matching events found\n",
            "No baseline correction applied\n",
            "0 projection items activated\n",
            "Ready.\n",
            "NOTE: pick_channels() is a legacy function. New code should use inst.pick(...).\n",
            "Creating RawArray with float64 data, n_channels=64, n_times=1152\n",
            "    Range : 0 ... 1151 =      0.000 ...     8.992 secs\n",
            "Ready.\n"
          ]
        },
        {
          "name": "stderr",
          "output_type": "stream",
          "text": [
            "C:\\Users\\USUARIO\\AppData\\Local\\Temp\\ipykernel_23312\\3451594139.py:23: RuntimeWarning: At least one epoch has multiple events. Only the latency of the first event will be retained.\n",
            "  epochs = mne.read_epochs_eeglab(file_path)\n"
          ]
        },
        {
          "name": "stdout",
          "output_type": "stream",
          "text": [
            "Extracting parameters from C:\\Users\\Usuario\\Downloads\\datos_BCI\\datos_BCI\\left_imag\\S016_Task2_PREP_Left.set...\n",
            "Not setting metadata\n",
            "21 matching events found\n",
            "No baseline correction applied\n",
            "0 projection items activated\n",
            "Ready.\n",
            "NOTE: pick_channels() is a legacy function. New code should use inst.pick(...).\n",
            "Creating RawArray with float64 data, n_channels=64, n_times=1152\n",
            "    Range : 0 ... 1151 =      0.000 ...     8.992 secs\n",
            "Ready.\n"
          ]
        },
        {
          "name": "stderr",
          "output_type": "stream",
          "text": [
            "C:\\Users\\USUARIO\\AppData\\Local\\Temp\\ipykernel_23312\\3451594139.py:23: RuntimeWarning: At least one epoch has multiple events. Only the latency of the first event will be retained.\n",
            "  epochs = mne.read_epochs_eeglab(file_path)\n"
          ]
        },
        {
          "name": "stdout",
          "output_type": "stream",
          "text": [
            "Extracting parameters from C:\\Users\\Usuario\\Downloads\\datos_BCI\\datos_BCI\\left_imag\\S017_Task2_PREP_Left.set...\n",
            "Not setting metadata\n",
            "22 matching events found\n",
            "No baseline correction applied\n",
            "0 projection items activated\n",
            "Ready.\n",
            "NOTE: pick_channels() is a legacy function. New code should use inst.pick(...).\n",
            "Creating RawArray with float64 data, n_channels=64, n_times=1152\n",
            "    Range : 0 ... 1151 =      0.000 ...     8.992 secs\n",
            "Ready.\n"
          ]
        },
        {
          "name": "stderr",
          "output_type": "stream",
          "text": [
            "C:\\Users\\USUARIO\\AppData\\Local\\Temp\\ipykernel_23312\\3451594139.py:23: RuntimeWarning: At least one epoch has multiple events. Only the latency of the first event will be retained.\n",
            "  epochs = mne.read_epochs_eeglab(file_path)\n"
          ]
        },
        {
          "name": "stdout",
          "output_type": "stream",
          "text": [
            "Extracting parameters from C:\\Users\\Usuario\\Downloads\\datos_BCI\\datos_BCI\\left_imag\\S018_Task2_PREP_Left.set...\n",
            "Not setting metadata\n",
            "21 matching events found\n",
            "No baseline correction applied\n",
            "0 projection items activated\n",
            "Ready.\n",
            "NOTE: pick_channels() is a legacy function. New code should use inst.pick(...).\n",
            "Creating RawArray with float64 data, n_channels=64, n_times=1152\n",
            "    Range : 0 ... 1151 =      0.000 ...     8.992 secs\n",
            "Ready.\n"
          ]
        },
        {
          "name": "stderr",
          "output_type": "stream",
          "text": [
            "C:\\Users\\USUARIO\\AppData\\Local\\Temp\\ipykernel_23312\\3451594139.py:23: RuntimeWarning: At least one epoch has multiple events. Only the latency of the first event will be retained.\n",
            "  epochs = mne.read_epochs_eeglab(file_path)\n"
          ]
        },
        {
          "name": "stdout",
          "output_type": "stream",
          "text": [
            "Extracting parameters from C:\\Users\\Usuario\\Downloads\\datos_BCI\\datos_BCI\\left_imag\\S019_Task2_PREP_Left.set...\n",
            "Not setting metadata\n",
            "22 matching events found\n",
            "No baseline correction applied\n",
            "0 projection items activated\n",
            "Ready.\n",
            "NOTE: pick_channels() is a legacy function. New code should use inst.pick(...).\n",
            "Creating RawArray with float64 data, n_channels=64, n_times=1152\n",
            "    Range : 0 ... 1151 =      0.000 ...     8.992 secs\n",
            "Ready.\n"
          ]
        },
        {
          "name": "stderr",
          "output_type": "stream",
          "text": [
            "C:\\Users\\USUARIO\\AppData\\Local\\Temp\\ipykernel_23312\\3451594139.py:23: RuntimeWarning: At least one epoch has multiple events. Only the latency of the first event will be retained.\n",
            "  epochs = mne.read_epochs_eeglab(file_path)\n"
          ]
        },
        {
          "name": "stdout",
          "output_type": "stream",
          "text": [
            "Extracting parameters from C:\\Users\\Usuario\\Downloads\\datos_BCI\\datos_BCI\\left_imag\\S020_Task2_PREP_Left.set...\n",
            "Not setting metadata\n",
            "22 matching events found\n",
            "No baseline correction applied\n",
            "0 projection items activated\n",
            "Ready.\n",
            "NOTE: pick_channels() is a legacy function. New code should use inst.pick(...).\n",
            "Creating RawArray with float64 data, n_channels=64, n_times=1152\n",
            "    Range : 0 ... 1151 =      0.000 ...     8.992 secs\n",
            "Ready.\n"
          ]
        },
        {
          "name": "stderr",
          "output_type": "stream",
          "text": [
            "C:\\Users\\USUARIO\\AppData\\Local\\Temp\\ipykernel_23312\\3451594139.py:23: RuntimeWarning: At least one epoch has multiple events. Only the latency of the first event will be retained.\n",
            "  epochs = mne.read_epochs_eeglab(file_path)\n"
          ]
        },
        {
          "name": "stdout",
          "output_type": "stream",
          "text": [
            "Extracting parameters from C:\\Users\\Usuario\\Downloads\\datos_BCI\\datos_BCI\\right_imag\\S001_Task2_PREP_Right.set...\n",
            "Not setting metadata\n",
            "22 matching events found\n",
            "No baseline correction applied\n",
            "0 projection items activated\n",
            "Ready.\n",
            "NOTE: pick_channels() is a legacy function. New code should use inst.pick(...).\n",
            "Creating RawArray with float64 data, n_channels=64, n_times=1152\n",
            "    Range : 0 ... 1151 =      0.000 ...     8.992 secs\n",
            "Ready.\n"
          ]
        },
        {
          "name": "stderr",
          "output_type": "stream",
          "text": [
            "C:\\Users\\USUARIO\\AppData\\Local\\Temp\\ipykernel_23312\\3451594139.py:23: RuntimeWarning: At least one epoch has multiple events. Only the latency of the first event will be retained.\n",
            "  epochs = mne.read_epochs_eeglab(file_path)\n"
          ]
        },
        {
          "name": "stdout",
          "output_type": "stream",
          "text": [
            "Extracting parameters from C:\\Users\\Usuario\\Downloads\\datos_BCI\\datos_BCI\\right_imag\\S002_Task2_PREP_Right.set...\n",
            "Not setting metadata\n",
            "22 matching events found\n",
            "No baseline correction applied\n",
            "0 projection items activated\n",
            "Ready.\n",
            "NOTE: pick_channels() is a legacy function. New code should use inst.pick(...).\n",
            "Creating RawArray with float64 data, n_channels=64, n_times=1152\n",
            "    Range : 0 ... 1151 =      0.000 ...     8.992 secs\n",
            "Ready.\n"
          ]
        },
        {
          "name": "stderr",
          "output_type": "stream",
          "text": [
            "C:\\Users\\USUARIO\\AppData\\Local\\Temp\\ipykernel_23312\\3451594139.py:23: RuntimeWarning: At least one epoch has multiple events. Only the latency of the first event will be retained.\n",
            "  epochs = mne.read_epochs_eeglab(file_path)\n"
          ]
        },
        {
          "name": "stdout",
          "output_type": "stream",
          "text": [
            "Extracting parameters from C:\\Users\\Usuario\\Downloads\\datos_BCI\\datos_BCI\\right_imag\\S003_Task2_PREP_Right.set...\n",
            "Not setting metadata\n",
            "21 matching events found\n",
            "No baseline correction applied\n",
            "0 projection items activated\n",
            "Ready.\n",
            "NOTE: pick_channels() is a legacy function. New code should use inst.pick(...).\n",
            "Creating RawArray with float64 data, n_channels=64, n_times=1152\n",
            "    Range : 0 ... 1151 =      0.000 ...     8.992 secs\n",
            "Ready.\n"
          ]
        },
        {
          "name": "stderr",
          "output_type": "stream",
          "text": [
            "C:\\Users\\USUARIO\\AppData\\Local\\Temp\\ipykernel_23312\\3451594139.py:23: RuntimeWarning: At least one epoch has multiple events. Only the latency of the first event will be retained.\n",
            "  epochs = mne.read_epochs_eeglab(file_path)\n"
          ]
        },
        {
          "name": "stdout",
          "output_type": "stream",
          "text": [
            "Extracting parameters from C:\\Users\\Usuario\\Downloads\\datos_BCI\\datos_BCI\\right_imag\\S004_Task2_PREP_Right.set...\n",
            "Not setting metadata\n",
            "21 matching events found\n",
            "No baseline correction applied\n",
            "0 projection items activated\n",
            "Ready.\n",
            "NOTE: pick_channels() is a legacy function. New code should use inst.pick(...).\n",
            "Creating RawArray with float64 data, n_channels=64, n_times=1152\n",
            "    Range : 0 ... 1151 =      0.000 ...     8.992 secs\n",
            "Ready.\n"
          ]
        },
        {
          "name": "stderr",
          "output_type": "stream",
          "text": [
            "C:\\Users\\USUARIO\\AppData\\Local\\Temp\\ipykernel_23312\\3451594139.py:23: RuntimeWarning: At least one epoch has multiple events. Only the latency of the first event will be retained.\n",
            "  epochs = mne.read_epochs_eeglab(file_path)\n"
          ]
        },
        {
          "name": "stdout",
          "output_type": "stream",
          "text": [
            "Extracting parameters from C:\\Users\\Usuario\\Downloads\\datos_BCI\\datos_BCI\\right_imag\\S005_Task2_PREP_Right.set...\n",
            "Not setting metadata\n",
            "23 matching events found\n",
            "No baseline correction applied\n",
            "0 projection items activated\n",
            "Ready.\n",
            "NOTE: pick_channels() is a legacy function. New code should use inst.pick(...).\n",
            "Creating RawArray with float64 data, n_channels=64, n_times=1152\n",
            "    Range : 0 ... 1151 =      0.000 ...     8.992 secs\n",
            "Ready.\n"
          ]
        },
        {
          "name": "stderr",
          "output_type": "stream",
          "text": [
            "C:\\Users\\USUARIO\\AppData\\Local\\Temp\\ipykernel_23312\\3451594139.py:23: RuntimeWarning: At least one epoch has multiple events. Only the latency of the first event will be retained.\n",
            "  epochs = mne.read_epochs_eeglab(file_path)\n"
          ]
        },
        {
          "name": "stdout",
          "output_type": "stream",
          "text": [
            "Extracting parameters from C:\\Users\\Usuario\\Downloads\\datos_BCI\\datos_BCI\\right_imag\\S006_Task2_PREP_Right.set...\n",
            "Not setting metadata\n",
            "21 matching events found\n",
            "No baseline correction applied\n",
            "0 projection items activated\n",
            "Ready.\n",
            "NOTE: pick_channels() is a legacy function. New code should use inst.pick(...).\n",
            "Creating RawArray with float64 data, n_channels=64, n_times=1152\n",
            "    Range : 0 ... 1151 =      0.000 ...     8.992 secs\n",
            "Ready.\n"
          ]
        },
        {
          "name": "stderr",
          "output_type": "stream",
          "text": [
            "C:\\Users\\USUARIO\\AppData\\Local\\Temp\\ipykernel_23312\\3451594139.py:23: RuntimeWarning: At least one epoch has multiple events. Only the latency of the first event will be retained.\n",
            "  epochs = mne.read_epochs_eeglab(file_path)\n"
          ]
        },
        {
          "name": "stdout",
          "output_type": "stream",
          "text": [
            "Extracting parameters from C:\\Users\\Usuario\\Downloads\\datos_BCI\\datos_BCI\\right_imag\\S007_Task2_PREP_Right.set...\n",
            "Not setting metadata\n",
            "22 matching events found\n",
            "No baseline correction applied\n",
            "0 projection items activated\n",
            "Ready.\n",
            "NOTE: pick_channels() is a legacy function. New code should use inst.pick(...).\n",
            "Creating RawArray with float64 data, n_channels=64, n_times=1152\n",
            "    Range : 0 ... 1151 =      0.000 ...     8.992 secs\n",
            "Ready.\n"
          ]
        },
        {
          "name": "stderr",
          "output_type": "stream",
          "text": [
            "C:\\Users\\USUARIO\\AppData\\Local\\Temp\\ipykernel_23312\\3451594139.py:23: RuntimeWarning: At least one epoch has multiple events. Only the latency of the first event will be retained.\n",
            "  epochs = mne.read_epochs_eeglab(file_path)\n"
          ]
        },
        {
          "name": "stdout",
          "output_type": "stream",
          "text": [
            "Extracting parameters from C:\\Users\\Usuario\\Downloads\\datos_BCI\\datos_BCI\\right_imag\\S008_Task2_PREP_Right.set...\n",
            "Not setting metadata\n",
            "22 matching events found\n",
            "No baseline correction applied\n",
            "0 projection items activated\n",
            "Ready.\n",
            "NOTE: pick_channels() is a legacy function. New code should use inst.pick(...).\n",
            "Creating RawArray with float64 data, n_channels=64, n_times=1152\n",
            "    Range : 0 ... 1151 =      0.000 ...     8.992 secs\n",
            "Ready.\n"
          ]
        },
        {
          "name": "stderr",
          "output_type": "stream",
          "text": [
            "C:\\Users\\USUARIO\\AppData\\Local\\Temp\\ipykernel_23312\\3451594139.py:23: RuntimeWarning: At least one epoch has multiple events. Only the latency of the first event will be retained.\n",
            "  epochs = mne.read_epochs_eeglab(file_path)\n"
          ]
        },
        {
          "name": "stdout",
          "output_type": "stream",
          "text": [
            "Extracting parameters from C:\\Users\\Usuario\\Downloads\\datos_BCI\\datos_BCI\\right_imag\\S009_Task2_PREP_Right.set...\n",
            "Not setting metadata\n",
            "21 matching events found\n",
            "No baseline correction applied\n",
            "0 projection items activated\n",
            "Ready.\n",
            "NOTE: pick_channels() is a legacy function. New code should use inst.pick(...).\n",
            "Creating RawArray with float64 data, n_channels=64, n_times=1152\n",
            "    Range : 0 ... 1151 =      0.000 ...     8.992 secs\n",
            "Ready.\n"
          ]
        },
        {
          "name": "stderr",
          "output_type": "stream",
          "text": [
            "C:\\Users\\USUARIO\\AppData\\Local\\Temp\\ipykernel_23312\\3451594139.py:23: RuntimeWarning: At least one epoch has multiple events. Only the latency of the first event will be retained.\n",
            "  epochs = mne.read_epochs_eeglab(file_path)\n"
          ]
        },
        {
          "name": "stdout",
          "output_type": "stream",
          "text": [
            "Extracting parameters from C:\\Users\\Usuario\\Downloads\\datos_BCI\\datos_BCI\\right_imag\\S010_Task2_PREP_Right.set...\n",
            "Not setting metadata\n",
            "21 matching events found\n",
            "No baseline correction applied\n",
            "0 projection items activated\n",
            "Ready.\n",
            "NOTE: pick_channels() is a legacy function. New code should use inst.pick(...).\n",
            "Creating RawArray with float64 data, n_channels=64, n_times=1152\n",
            "    Range : 0 ... 1151 =      0.000 ...     8.992 secs\n",
            "Ready.\n"
          ]
        },
        {
          "name": "stderr",
          "output_type": "stream",
          "text": [
            "C:\\Users\\USUARIO\\AppData\\Local\\Temp\\ipykernel_23312\\3451594139.py:23: RuntimeWarning: At least one epoch has multiple events. Only the latency of the first event will be retained.\n",
            "  epochs = mne.read_epochs_eeglab(file_path)\n"
          ]
        },
        {
          "name": "stdout",
          "output_type": "stream",
          "text": [
            "Extracting parameters from C:\\Users\\Usuario\\Downloads\\datos_BCI\\datos_BCI\\right_imag\\S011_Task2_PREP_Right.set...\n",
            "Not setting metadata\n",
            "21 matching events found\n",
            "No baseline correction applied\n",
            "0 projection items activated\n",
            "Ready.\n",
            "NOTE: pick_channels() is a legacy function. New code should use inst.pick(...).\n",
            "Creating RawArray with float64 data, n_channels=64, n_times=1152\n",
            "    Range : 0 ... 1151 =      0.000 ...     8.992 secs\n",
            "Ready.\n"
          ]
        },
        {
          "name": "stderr",
          "output_type": "stream",
          "text": [
            "C:\\Users\\USUARIO\\AppData\\Local\\Temp\\ipykernel_23312\\3451594139.py:23: RuntimeWarning: At least one epoch has multiple events. Only the latency of the first event will be retained.\n",
            "  epochs = mne.read_epochs_eeglab(file_path)\n"
          ]
        },
        {
          "name": "stdout",
          "output_type": "stream",
          "text": [
            "Extracting parameters from C:\\Users\\Usuario\\Downloads\\datos_BCI\\datos_BCI\\right_imag\\S012_Task2_PREP_Right.set...\n",
            "Not setting metadata\n",
            "23 matching events found\n",
            "No baseline correction applied\n",
            "0 projection items activated\n",
            "Ready.\n",
            "NOTE: pick_channels() is a legacy function. New code should use inst.pick(...).\n",
            "Creating RawArray with float64 data, n_channels=64, n_times=1152\n",
            "    Range : 0 ... 1151 =      0.000 ...     8.992 secs\n",
            "Ready.\n"
          ]
        },
        {
          "name": "stderr",
          "output_type": "stream",
          "text": [
            "C:\\Users\\USUARIO\\AppData\\Local\\Temp\\ipykernel_23312\\3451594139.py:23: RuntimeWarning: At least one epoch has multiple events. Only the latency of the first event will be retained.\n",
            "  epochs = mne.read_epochs_eeglab(file_path)\n"
          ]
        },
        {
          "name": "stdout",
          "output_type": "stream",
          "text": [
            "Extracting parameters from C:\\Users\\Usuario\\Downloads\\datos_BCI\\datos_BCI\\right_imag\\S013_Task2_PREP_Right.set...\n",
            "Not setting metadata\n",
            "22 matching events found\n",
            "No baseline correction applied\n",
            "0 projection items activated\n",
            "Ready.\n",
            "NOTE: pick_channels() is a legacy function. New code should use inst.pick(...).\n",
            "Creating RawArray with float64 data, n_channels=64, n_times=1152\n",
            "    Range : 0 ... 1151 =      0.000 ...     8.992 secs\n",
            "Ready.\n"
          ]
        },
        {
          "name": "stderr",
          "output_type": "stream",
          "text": [
            "C:\\Users\\USUARIO\\AppData\\Local\\Temp\\ipykernel_23312\\3451594139.py:23: RuntimeWarning: At least one epoch has multiple events. Only the latency of the first event will be retained.\n",
            "  epochs = mne.read_epochs_eeglab(file_path)\n"
          ]
        },
        {
          "name": "stdout",
          "output_type": "stream",
          "text": [
            "Extracting parameters from C:\\Users\\Usuario\\Downloads\\datos_BCI\\datos_BCI\\right_imag\\S014_Task2_PREP_Right.set...\n",
            "Not setting metadata\n",
            "22 matching events found\n",
            "No baseline correction applied\n",
            "0 projection items activated\n",
            "Ready.\n",
            "NOTE: pick_channels() is a legacy function. New code should use inst.pick(...).\n",
            "Creating RawArray with float64 data, n_channels=64, n_times=1152\n",
            "    Range : 0 ... 1151 =      0.000 ...     8.992 secs\n",
            "Ready.\n"
          ]
        },
        {
          "name": "stderr",
          "output_type": "stream",
          "text": [
            "C:\\Users\\USUARIO\\AppData\\Local\\Temp\\ipykernel_23312\\3451594139.py:23: RuntimeWarning: At least one epoch has multiple events. Only the latency of the first event will be retained.\n",
            "  epochs = mne.read_epochs_eeglab(file_path)\n"
          ]
        },
        {
          "name": "stdout",
          "output_type": "stream",
          "text": [
            "Extracting parameters from C:\\Users\\Usuario\\Downloads\\datos_BCI\\datos_BCI\\right_imag\\S015_Task2_PREP_Right.set...\n",
            "Not setting metadata\n",
            "22 matching events found\n",
            "No baseline correction applied\n",
            "0 projection items activated\n",
            "Ready.\n",
            "NOTE: pick_channels() is a legacy function. New code should use inst.pick(...).\n",
            "Creating RawArray with float64 data, n_channels=64, n_times=1152\n",
            "    Range : 0 ... 1151 =      0.000 ...     8.992 secs\n",
            "Ready.\n"
          ]
        },
        {
          "name": "stderr",
          "output_type": "stream",
          "text": [
            "C:\\Users\\USUARIO\\AppData\\Local\\Temp\\ipykernel_23312\\3451594139.py:23: RuntimeWarning: At least one epoch has multiple events. Only the latency of the first event will be retained.\n",
            "  epochs = mne.read_epochs_eeglab(file_path)\n"
          ]
        },
        {
          "name": "stdout",
          "output_type": "stream",
          "text": [
            "Extracting parameters from C:\\Users\\Usuario\\Downloads\\datos_BCI\\datos_BCI\\right_imag\\S016_Task2_PREP_Right.set...\n",
            "Not setting metadata\n",
            "23 matching events found\n",
            "No baseline correction applied\n",
            "0 projection items activated\n",
            "Ready.\n",
            "NOTE: pick_channels() is a legacy function. New code should use inst.pick(...).\n",
            "Creating RawArray with float64 data, n_channels=64, n_times=1152\n",
            "    Range : 0 ... 1151 =      0.000 ...     8.992 secs\n",
            "Ready.\n"
          ]
        },
        {
          "name": "stderr",
          "output_type": "stream",
          "text": [
            "C:\\Users\\USUARIO\\AppData\\Local\\Temp\\ipykernel_23312\\3451594139.py:23: RuntimeWarning: At least one epoch has multiple events. Only the latency of the first event will be retained.\n",
            "  epochs = mne.read_epochs_eeglab(file_path)\n"
          ]
        },
        {
          "name": "stdout",
          "output_type": "stream",
          "text": [
            "Extracting parameters from C:\\Users\\Usuario\\Downloads\\datos_BCI\\datos_BCI\\right_imag\\S017_Task2_PREP_Right.set...\n",
            "Not setting metadata\n",
            "22 matching events found\n",
            "No baseline correction applied\n",
            "0 projection items activated\n",
            "Ready.\n",
            "NOTE: pick_channels() is a legacy function. New code should use inst.pick(...).\n",
            "Creating RawArray with float64 data, n_channels=64, n_times=1152\n",
            "    Range : 0 ... 1151 =      0.000 ...     8.992 secs\n",
            "Ready.\n"
          ]
        },
        {
          "name": "stderr",
          "output_type": "stream",
          "text": [
            "C:\\Users\\USUARIO\\AppData\\Local\\Temp\\ipykernel_23312\\3451594139.py:23: RuntimeWarning: At least one epoch has multiple events. Only the latency of the first event will be retained.\n",
            "  epochs = mne.read_epochs_eeglab(file_path)\n"
          ]
        },
        {
          "name": "stdout",
          "output_type": "stream",
          "text": [
            "Extracting parameters from C:\\Users\\Usuario\\Downloads\\datos_BCI\\datos_BCI\\right_imag\\S018_Task2_PREP_Right.set...\n",
            "Not setting metadata\n",
            "23 matching events found\n",
            "No baseline correction applied\n",
            "0 projection items activated\n",
            "Ready.\n",
            "NOTE: pick_channels() is a legacy function. New code should use inst.pick(...).\n",
            "Creating RawArray with float64 data, n_channels=64, n_times=1152\n",
            "    Range : 0 ... 1151 =      0.000 ...     8.992 secs\n",
            "Ready.\n"
          ]
        },
        {
          "name": "stderr",
          "output_type": "stream",
          "text": [
            "C:\\Users\\USUARIO\\AppData\\Local\\Temp\\ipykernel_23312\\3451594139.py:23: RuntimeWarning: At least one epoch has multiple events. Only the latency of the first event will be retained.\n",
            "  epochs = mne.read_epochs_eeglab(file_path)\n"
          ]
        },
        {
          "name": "stdout",
          "output_type": "stream",
          "text": [
            "Extracting parameters from C:\\Users\\Usuario\\Downloads\\datos_BCI\\datos_BCI\\right_imag\\S019_Task2_PREP_Right.set...\n",
            "Not setting metadata\n",
            "22 matching events found\n",
            "No baseline correction applied\n",
            "0 projection items activated\n",
            "Ready.\n",
            "NOTE: pick_channels() is a legacy function. New code should use inst.pick(...).\n",
            "Creating RawArray with float64 data, n_channels=64, n_times=1152\n",
            "    Range : 0 ... 1151 =      0.000 ...     8.992 secs\n",
            "Ready.\n"
          ]
        },
        {
          "name": "stderr",
          "output_type": "stream",
          "text": [
            "C:\\Users\\USUARIO\\AppData\\Local\\Temp\\ipykernel_23312\\3451594139.py:23: RuntimeWarning: At least one epoch has multiple events. Only the latency of the first event will be retained.\n",
            "  epochs = mne.read_epochs_eeglab(file_path)\n"
          ]
        },
        {
          "name": "stdout",
          "output_type": "stream",
          "text": [
            "Extracting parameters from C:\\Users\\Usuario\\Downloads\\datos_BCI\\datos_BCI\\right_imag\\S020_Task2_PREP_Right.set...\n",
            "Not setting metadata\n",
            "22 matching events found\n",
            "No baseline correction applied\n",
            "0 projection items activated\n",
            "Ready.\n",
            "NOTE: pick_channels() is a legacy function. New code should use inst.pick(...).\n",
            "Creating RawArray with float64 data, n_channels=64, n_times=1152\n",
            "    Range : 0 ... 1151 =      0.000 ...     8.992 secs\n",
            "Ready.\n"
          ]
        },
        {
          "name": "stderr",
          "output_type": "stream",
          "text": [
            "C:\\Users\\USUARIO\\AppData\\Local\\Temp\\ipykernel_23312\\3451594139.py:23: RuntimeWarning: At least one epoch has multiple events. Only the latency of the first event will be retained.\n",
            "  epochs = mne.read_epochs_eeglab(file_path)\n"
          ]
        }
      ],
      "source": [
        "import os\n",
        "import mne\n",
        "import inspect\n",
        "\n",
        "data_path = r\"C:\\Users\\Usuario\\Downloads\\datos_BCI\\datos_BCI\"\n",
        "folders = {\n",
        "    \"left_mvto\": [],\n",
        "    \"right_mvto\": [],\n",
        "    \"left_imag\": [],\n",
        "    \"right_imag\": []\n",
        "}\n",
        "def leer_archivo_eeglab(file_path):\n",
        "    try:\n",
        "        raw = mne.io.read_raw_eeglab(file_path, preload=True)\n",
        "        return raw\n",
        "\n",
        "    except TypeError as e:\n",
        "        if \"number of trials\" in str(e).lower():\n",
        "\n",
        "            if 'preload' in inspect.signature(mne.read_epochs_eeglab).parameters:\n",
        "                epochs = mne.read_epochs_eeglab(file_path, preload=True)\n",
        "            else:\n",
        "                epochs = mne.read_epochs_eeglab(file_path)\n",
        "                epochs.load_data()\n",
        "            evoked = epochs.average()\n",
        "            raw = mne.io.RawArray(evoked.data, evoked.info)\n",
        "\n",
        "            return raw\n",
        "        else:\n",
        "            raise e\n",
        "\n",
        "\n",
        "#Lectura de todas las carpetas\n",
        "for folder_name in folders.keys():\n",
        "    folder_path = os.path.join(data_path, folder_name)\n",
        "    if not os.path.exists(folder_path):\n",
        "        continue\n",
        "\n",
        "    raws_temp = []\n",
        "\n",
        "    for file in os.listdir(folder_path):\n",
        "        if file.endswith('.set'):\n",
        "            file_path = os.path.join(folder_path, file)\n",
        "            raw = leer_archivo_eeglab(file_path)\n",
        "            raws_temp.append(raw)\n",
        "\n",
        "    folders[folder_name] = raws_temp\n",
        "\n",
        "# Asignar cada grupo a una variable\n",
        "raws_left_mvto = folders[\"left_mvto\"]\n",
        "raws_right_mvto = folders[\"right_mvto\"]\n",
        "raws_left_imag = folders[\"left_imag\"]\n",
        "raws_right_imag = folders[\"right_imag\"]"
      ]
    },
    {
      "cell_type": "markdown",
      "id": "YSwfpu6AKlKb",
      "metadata": {
        "id": "YSwfpu6AKlKb"
      },
      "source": [
        "<p align=\"justify\">\n",
        "En la celda anterior se realiza la lectura automática de archivos EEG en formato EEGLAB (.set) desde diferentes carpetas y organiza los datos en grupos según el tipo de movimiento o imaginación motora. Usa MNE para leer los datos, manejando tanto registros continuos como segmentados (epochs), y almacena los objetos resultantes en un diccionario y en variables separadas para facilitar su análisis posterior."
      ]
    },
    {
      "cell_type": "markdown",
      "id": "_2vJq-uweGUb",
      "metadata": {
        "id": "_2vJq-uweGUb"
      },
      "source": [
        "**Importar librerias**"
      ]
    },
    {
      "cell_type": "code",
      "execution_count": null,
      "id": "62577cf0",
      "metadata": {
        "id": "62577cf0"
      },
      "outputs": [],
      "source": [
        "import numpy as np\n",
        "import pandas as pd\n",
        "import matplotlib.pyplot as plt\n",
        "from scipy import signal\n",
        "from scipy.stats import shapiro, mannwhitneyu, ttest_ind, f_oneway, kruskal\n",
        "import warnings\n",
        "warnings.filterwarnings('ignore')\n",
        "\n"
      ]
    },
    {
      "cell_type": "markdown",
      "id": "tAglY7JSUD6w",
      "metadata": {
        "id": "tAglY7JSUD6w"
      },
      "source": [
        "Importación de las librerías más utilizadas para el manejo, procesamiento y análisis de los datos EEG."
      ]
    },
    {
      "cell_type": "markdown",
      "id": "1f88IjAueMba",
      "metadata": {
        "id": "1f88IjAueMba"
      },
      "source": [
        "**Visualización de canales motores**"
      ]
    },
    {
      "cell_type": "code",
      "execution_count": null,
      "id": "952c37cb",
      "metadata": {
        "id": "952c37cb",
        "outputId": "0c20a318-f4d5-46cf-f713-b1a0809635a6"
      },
      "outputs": [
        {
          "name": "stdout",
          "output_type": "stream",
          "text": [
            "Canales disponibles: ['FC5', 'FC3', 'FC1', 'FCZ', 'FC2', 'FC4', 'FC6', 'C5', 'C3', 'C1', 'CZ', 'C2', 'C4', 'C6', 'CP5', 'CP3', 'CP1', 'CPZ', 'CP2', 'CP4', 'CP6', 'FP1', 'FPZ', 'FP2', 'AF7', 'AF3', 'AFZ', 'AF4', 'AF8', 'F7', 'F5', 'F3', 'F1', 'FZ', 'F2', 'F4', 'F6', 'F8', 'FT7', 'FT8', 'T7', 'T8', 'T9', 'T10', 'TP7', 'TP8', 'P7', 'P5', 'P3', 'P1', 'PZ', 'P2', 'P4', 'P6', 'P8', 'PO7', 'PO3', 'POZ', 'PO4', 'PO8', 'O1', 'OZ', 'O2', 'IZ']\n",
            "Using matplotlib as 2D backend.\n"
          ]
        },
        {
          "data": {
            "image/png": "[encoded data removed]",
            "text/plain": [
              "<MNEBrowseFigure size 800x800 with 4 Axes>"
            ]
          },
          "metadata": {},
          "output_type": "display_data"
        },
        {
          "data": {
            "image/png": "[encoded data removed]",
            "text/plain": [
              "<MNEBrowseFigure size 800x800 with 4 Axes>"
            ]
          },
          "execution_count": 3,
          "metadata": {},
          "output_type": "execute_result"
        }
      ],
      "source": [
        "import mne\n",
        "\n",
        "# Ajustes gráficos\n",
        "plt.rcParams['figure.figsize'] = (12, 6)\n",
        "\n",
        "# Frecuencia de muestreo\n",
        "FS = 128\n",
        "\n",
        "BANDAS_EEG = {\n",
        "    'Delta': (0.5, 4),\n",
        "    'Theta': (4, 8),\n",
        "    'Alpha/Mu': (8, 13),\n",
        "    'Beta': (13, 30),\n",
        "    'Gamma': (30, 45)\n",
        "}\n",
        "\n",
        "# Canales motores más relevantes\n",
        "CANALES_MOTOR = ['C3', 'C4', 'FC3', 'FC4', 'CP3', 'CP4','CZ','FCZ','CPZ']\n",
        "print(\"Canales disponibles:\", raw.info['ch_names'])\n",
        "raw.copy().pick(CANALES_MOTOR).plot(start=0, duration=10, title='Señales motoras (10 s)')"
      ]
    },
    {
      "cell_type": "markdown",
      "id": "v1FLMYInUev_",
      "metadata": {
        "id": "v1FLMYInUev_"
      },
      "source": [
        "<p align=\"justify\">\n",
        "Este código carga la librería MNE para trabajar con señales EEG y realiza una configuración básica para la visualización de datos. Se define el tamaño de las figuras, la frecuencia de muestreo y los rangos de las principales bandas de EEG (Delta, Theta, Alpha/Mu, Beta y Gamma). Además, se seleccionan los canales motores más relevantes del registro EEG y se imprime la lista completa de canales disponibles. Finalmente, se visualizan las señales de los canales motores durante los primeros 10 segundos de registro.\n",
        "\n",
        "Los canales seleccionados (C3, C4, FC3, FC4, CP3, CP4, CZ, FCZ, CPZ) corresponden a regiones del córtex motor y premotor.\n",
        "\n",
        "C3 y C4 se ubican sobre la corteza motora primaria, controlando predominantemente la mano contralateral: C3 para la mano derecha y C4 para la mano izquierda.\n",
        "\n",
        "FC3, FC4, CP3 y CP4 capturan actividad del córtex premotor y áreas somatosensoriales, involucradas en la planificación y ejecución del movimiento.\n",
        "\n",
        "CZ, FCZ y CPZ cubren la línea media y reflejan la coordinación bilateral de movimientos y la actividad central relacionada con la imaginación del movimiento.\n",
        "\n",
        "Estas áreas muestran cambios tanto durante movimiento real como durante imaginación motora, lo que permite analizar la actividad neuronal asociada a la ejecución y simulación mental del movimiento de cada mano de manera diferenciada."
      ]
    },
    {
      "cell_type": "markdown",
      "id": "uq95cSEfeRCJ",
      "metadata": {
        "id": "uq95cSEfeRCJ"
      },
      "source": [
        "**Análisis del espectro de potencia EEG: canales generales y motores**"
      ]
    },
    {
      "cell_type": "code",
      "execution_count": null,
      "id": "0577e148",
      "metadata": {
        "id": "0577e148",
        "outputId": "5618bb54-a7f0-44f6-a524-ce70911dc3bf"
      },
      "outputs": [
        {
          "name": "stdout",
          "output_type": "stream",
          "text": [
            "Effective window size : 9.000 (s)\n",
            "NOTE: pick_channels() is a legacy function. New code should use inst.pick(...).\n"
          ]
        },
        {
          "data": {
            "image/png": "[encoded data removed]",
            "text/plain": [
              "<MNELineFigure size 1000x350 with 1 Axes>"
            ]
          },
          "metadata": {},
          "output_type": "display_data"
        },
        {
          "data": {
            "image/png": "[encoded data removed]",
            "text/plain": [
              "<MNELineFigure size 1000x350 with 2 Axes>"
            ]
          },
          "metadata": {},
          "output_type": "display_data"
        }
      ],
      "source": [
        "#Calcular espectro de potencia hasta 60 Hz\n",
        "spectrum = raw.compute_psd(fmax=60)\n",
        "\n",
        "#Promedio de todos los canales\n",
        "spectrum.plot(average=True, picks=\"data\", exclude=\"bads\", amplitude=False)\n",
        "\n",
        "#Espectro solo de los canales motores\n",
        "spectrum.pick_channels(CANALES_MOTOR)\n",
        "spectrum.plot(exclude=\"bads\", amplitude=False)\n",
        "\n",
        "plt.show()\n"
      ]
    },
    {
      "cell_type": "markdown",
      "source": [
        "<p align=\"justify\">\n",
        "Este código calcula y visualiza el espectro de potencia de un registro EEG usando MNE. Primero, se calcula el PSD (Power Spectral Density) hasta 60 Hz para todos los canales. Luego, se grafica el promedio del espectro de todos los canales. Después, se seleccionan únicamente los canales motores y se genera su espectro individual."
      ],
      "metadata": {
        "id": "Nx9Is091eH6s"
      },
      "id": "Nx9Is091eH6s"
    },
    {
      "cell_type": "markdown",
      "id": "cz5VhERseTC_",
      "metadata": {
        "id": "cz5VhERseTC_"
      },
      "source": [
        "**Organización y etiquetado de registros por condición motora e imaginativa**"
      ]
    },
    {
      "cell_type": "code",
      "execution_count": null,
      "id": "81e341a5",
      "metadata": {
        "id": "81e341a5",
        "outputId": "824fda08-e05c-48b4-ad64-3483155718e9"
      },
      "outputs": [
        {
          "name": "stdout",
          "output_type": "stream",
          "text": [
            "\n",
            " Total de registros: 80\n",
            "  - Movimiento Izquierdo: 20\n",
            "  - Movimiento Derecho: 20\n",
            "  - Imaginación Izquierda: 20\n",
            "  - Imaginación Derecha: 20\n"
          ]
        }
      ],
      "source": [
        "raws_todos = []\n",
        "labels = []\n",
        "nombres_archivos = []\n",
        "\n",
        "# Movimiento izquierdo\n",
        "for i, raw in enumerate(raws_left_mvto):\n",
        "    raws_todos.append(raw)\n",
        "    labels.append('Movimiento_Izq')\n",
        "    nombres_archivos.append(f'left_mvto_{i+1}')\n",
        "\n",
        "# Movimiento derecho\n",
        "for i, raw in enumerate(raws_right_mvto):\n",
        "    raws_todos.append(raw)\n",
        "    labels.append('Movimiento_Der')\n",
        "    nombres_archivos.append(f'right_mvto_{i+1}')\n",
        "\n",
        "# Imaginación izquierda\n",
        "for i, raw in enumerate(raws_left_imag):\n",
        "    raws_todos.append(raw)\n",
        "    labels.append('Imaginacion_Izq')\n",
        "    nombres_archivos.append(f'left_imag_{i+1}')\n",
        "\n",
        "# Imaginación derecha\n",
        "for i, raw in enumerate(raws_right_imag):\n",
        "    raws_todos.append(raw)\n",
        "    labels.append('Imaginacion_Der')\n",
        "    nombres_archivos.append(f'right_imag_{i+1}')\n",
        "\n",
        "print(f\"\\n Total de registros: {len(raws_todos)}\")\n",
        "print(f\"  - Movimiento Izquierdo: {len(raws_left_mvto)}\")\n",
        "print(f\"  - Movimiento Derecho: {len(raws_right_mvto)}\")\n",
        "print(f\"  - Imaginación Izquierda: {len(raws_left_imag)}\")\n",
        "print(f\"  - Imaginación Derecha: {len(raws_right_imag)}\")"
      ]
    },
    {
      "cell_type": "markdown",
      "id": "a91e5f3d",
      "metadata": {
        "id": "a91e5f3d"
      },
      "source": [
        "**Cálculo de potencias y entropía: creación de DataFrame de análisis**"
      ]
    },
    {
      "cell_type": "code",
      "execution_count": null,
      "id": "f8b38141",
      "metadata": {
        "id": "f8b38141",
        "outputId": "81588301-ecf1-4509-c2d7-b6426a2065ed"
      },
      "outputs": [
        {
          "name": "stdout",
          "output_type": "stream",
          "text": [
            "      Registro           Tarea Tipo_Calculado              Escala  \\\n",
            "0  left_mvto_1  Movimiento_Izq       Paciente  0.9663395250614851   \n",
            "1  left_mvto_2  Movimiento_Izq        Control                 N/A   \n",
            "2  left_mvto_3  Movimiento_Izq       Paciente  0.9672770544406593   \n",
            "3  left_mvto_4  Movimiento_Izq       Paciente  0.9609803307493636   \n",
            "4  left_mvto_5  Movimiento_Izq       Paciente  0.9606417241908716   \n",
            "\n",
            "   Potencia_Alpha_C3  Potencia_Alpha_C4  Potencia_Alpha_CP3  \\\n",
            "0       8.994848e-14       1.239978e-13        1.342686e-13   \n",
            "1       9.067080e-14       3.539842e-14        9.264113e-14   \n",
            "2       1.538034e-13       1.962570e-13        1.533422e-13   \n",
            "3       1.850243e-14       1.827074e-14        2.183163e-14   \n",
            "4       3.595138e-14       4.581216e-14        3.582424e-14   \n",
            "\n",
            "   Potencia_Alpha_CP4  Potencia_Alpha_CPZ  Potencia_Alpha_CZ  ...  \\\n",
            "0        1.243142e-13        1.569704e-13       1.586862e-13  ...   \n",
            "1        5.588189e-14        1.548173e-13       5.631887e-14  ...   \n",
            "2        1.714049e-13        2.464450e-13       1.786767e-13  ...   \n",
            "3        1.430111e-14        1.637535e-14       2.034386e-14  ...   \n",
            "4        3.553273e-14        2.654596e-14       4.093555e-14  ...   \n",
            "\n",
            "   EntropiaPerm_FC4_Gamma  EntropiaPerm_FC4_Theta  EntropiaPerm_FCZ_Alpha  \\\n",
            "0                0.966340                0.966340                0.966340   \n",
            "1                0.974933                0.974933                0.974933   \n",
            "2                0.967277                0.967277                0.967277   \n",
            "3                0.960980                0.960980                0.960980   \n",
            "4                0.960642                0.960642                0.960642   \n",
            "\n",
            "   EntropiaPerm_FCZ_Beta  EntropiaPerm_FCZ_Delta  EntropiaPerm_FCZ_Gamma  \\\n",
            "0               0.966340                0.966340                0.966340   \n",
            "1               0.974933                0.974933                0.974933   \n",
            "2               0.967277                0.967277                0.967277   \n",
            "3               0.960980                0.960980                0.960980   \n",
            "4               0.960642                0.960642                0.960642   \n",
            "\n",
            "   EntropiaPerm_FCZ_Theta  Promedio_Entropia_Central  \\\n",
            "0                0.966340                   0.966340   \n",
            "1                0.974933                   0.974933   \n",
            "2                0.967277                   0.967277   \n",
            "3                0.960980                   0.960980   \n",
            "4                0.960642                   0.960642   \n",
            "\n",
            "   Promedio_Entropia_Derecha  Promedio_Entropia_Izquierda  \n",
            "0                   0.966340                     0.966340  \n",
            "1                   0.974933                     0.974933  \n",
            "2                   0.967277                     0.967277  \n",
            "3                   0.960980                     0.960980  \n",
            "4                   0.960642                     0.960642  \n",
            "\n",
            "[5 rows x 97 columns]\n"
          ]
        }
      ],
      "source": [
        "import math\n",
        "from itertools import permutations\n",
        "\n",
        "def permutation_entropy(time_series, m=3, tau=1):\n",
        "    n = len(time_series)\n",
        "    if n < m * tau:\n",
        "        return np.nan\n",
        "\n",
        "    embedded = np.array([time_series[i:i + m * tau:tau] for i in range(n - (m - 1) * tau)])\n",
        "    patterns = np.array([np.argsort(p) for p in embedded])\n",
        "\n",
        "    perms = list(permutations(range(m)))\n",
        "    counts = np.zeros(len(perms))\n",
        "    for pattern in patterns:\n",
        "        idx = perms.index(tuple(pattern))\n",
        "        counts[idx] += 1\n",
        "\n",
        "    p = counts / np.sum(counts)\n",
        "    p = p[p > 0]\n",
        "    pe = -np.sum(p * np.log2(p))\n",
        "    pe /= np.log2(math.factorial(m))\n",
        "    return pe\n",
        "\n",
        "def calcular_entropia_permutacion_bandas(raw, canales, m=3, tau=1):\n",
        "    BANDAS_EEG = {\n",
        "        'Delta': (1, 4),\n",
        "        'Theta': (4, 8),\n",
        "        'Alpha': (8, 13),\n",
        "        'Beta': (13, 30),\n",
        "        'Gamma': (30, 45)\n",
        "    }\n",
        "\n",
        "    resultados = {}\n",
        "\n",
        "    for canal in canales:\n",
        "        for nombre_banda, (fmin, fmax) in BANDAS_EEG.items():\n",
        "            try:\n",
        "                señal_filtrada = raw.copy().filter(fmin, fmax, picks=[canal], verbose=False).get_data()[0]\n",
        "                pe = permutation_entropy(señal_filtrada, m=m, tau=tau)\n",
        "                resultados[f\"EntropiaPerm_{canal}_{nombre_banda}\"] = pe\n",
        "            except Exception:\n",
        "                resultados[f\"EntropiaPerm_{canal}_{nombre_banda}\"] = np.nan\n",
        "\n",
        "    return resultados\n",
        "\n",
        "def calcular_potencias_bandas(raw, canales):\n",
        "    BANDAS_EEG = {\n",
        "        'Delta': (1, 4),\n",
        "        'Theta': (4, 8),\n",
        "        'Alpha': (8, 13),\n",
        "        'Beta': (13, 30),\n",
        "        'Gamma': (30, 45)\n",
        "    }\n",
        "\n",
        "    resultados = {}\n",
        "\n",
        "    for canal in canales:\n",
        "        try:\n",
        "            spectrum = raw.compute_psd(fmin=1, fmax=45, picks=[canal], verbose=False)\n",
        "            psd_data = spectrum.get_data()[0]\n",
        "            freqs = spectrum.freqs\n",
        "\n",
        "            for nombre_banda, (fmin, fmax) in BANDAS_EEG.items():\n",
        "                mask = (freqs >= fmin) & (freqs <= fmax)\n",
        "                potencia = np.mean(psd_data[mask])\n",
        "                resultados[f\"Potencia_{nombre_banda}_{canal}\"] = potencia\n",
        "        except Exception as e:\n",
        "            print(f\"Error calculando PSD en {canal}: {e}\")\n",
        "            for nombre_banda in BANDAS_EEG.keys():\n",
        "                resultados[f\"Potencia_{nombre_banda}_{canal}\"] = np.nan\n",
        "\n",
        "    return resultados\n",
        "\n",
        "def calcular_promedios_regionales(entropias, regiones_motor):\n",
        "    promedios = {}\n",
        "    for region, canales in regiones_motor.items():\n",
        "        valores_region = [\n",
        "            v for k, v in entropias.items()\n",
        "            if any(canal in k for canal in canales)\n",
        "        ]\n",
        "        if valores_region:\n",
        "            promedios[f'Promedio_Entropia_{region}'] = np.nanmean(valores_region)\n",
        "        else:\n",
        "            promedios[f'Promedio_Entropia_{region}'] = np.nan\n",
        "    return promedios\n",
        "\n",
        "def crear_dataframe_proyecto(raws, labels, nombres, canales_motor):\n",
        "    resultados_lista = []\n",
        "\n",
        "    REGIONES_MOTOR = {\n",
        "        'Izquierda': ['C3', 'FC3', 'CP3'],\n",
        "        'Derecha': ['C4', 'FC4', 'CP4'],\n",
        "        'Central': ['CZ', 'FCZ', 'CPZ']\n",
        "    }\n",
        "\n",
        "    for raw, tarea, nombre in zip(raws, labels, nombres):\n",
        "        if 'control' in nombre.lower() or 'ctrl' in nombre.lower():\n",
        "            tipo = 'Control'\n",
        "        elif 'paciente' in nombre.lower() or 'pat' in nombre.lower():\n",
        "            tipo = 'Paciente'\n",
        "        else:\n",
        "            tipo = 'Desconocido'\n",
        "\n",
        "        fila = {'Registro': nombre, 'Tarea': tarea, 'Tipo': tipo}\n",
        "\n",
        "        potencias = calcular_potencias_bandas(raw, canales_motor)\n",
        "        fila.update(potencias)\n",
        "\n",
        "        entropias = calcular_entropia_permutacion_bandas(raw, canales_motor)\n",
        "        fila.update(entropias)\n",
        "\n",
        "        promedios = calcular_promedios_regionales(entropias, REGIONES_MOTOR)\n",
        "        fila.update(promedios)\n",
        "\n",
        "        resultados_lista.append(fila)\n",
        "\n",
        "    df = pd.DataFrame(resultados_lista)\n",
        "\n",
        "    #Clasificación basada en entropía promedio para control o paciente\n",
        "    df[\"Promedio_Global\"] = df[[\n",
        "        \"Promedio_Entropia_Central\",\n",
        "        \"Promedio_Entropia_Izquierda\",\n",
        "        \"Promedio_Entropia_Derecha\"\n",
        "    ]].mean(axis=1)\n",
        "\n",
        "    umbral = df[\"Promedio_Global\"].median()\n",
        "    df[\"Tipo_Calculado\"] = np.where(df[\"Promedio_Global\"] < umbral, \"Paciente\", \"Control\")\n",
        "\n",
        "    #Escala\n",
        "    df[\"Escala\"] = np.where(df[\"Tipo_Calculado\"] == \"Control\", \"N/A\", df[\"Promedio_Global\"])\n",
        "\n",
        "    columnas_basicas = ['Registro', 'Tarea', 'Tipo_Calculado', 'Escala']\n",
        "    columnas_potencia = sorted([c for c in df.columns if c.startswith('Potencia_')])\n",
        "    columnas_entropia = sorted([c for c in df.columns if c.startswith('EntropiaPerm_')])\n",
        "    columnas_promedio = sorted([c for c in df.columns if c.startswith('Promedio_Entropia_')])\n",
        "    nuevo_orden = columnas_basicas + columnas_potencia + columnas_entropia + columnas_promedio\n",
        "    df = df[nuevo_orden]\n",
        "\n",
        "    return df\n",
        "\n",
        "df_resultados = crear_dataframe_proyecto(raws_todos, labels, nombres_archivos, CANALES_MOTOR)\n",
        "df_resultados.to_csv('result_final_.csv', index=False)\n",
        "print(df_resultados.head(5))"
      ]
    },
    {
      "cell_type": "markdown",
      "source": [
        "<p align=\"justify\">\n",
        "La clasificación entre sujetos control y pacientes se estableció a partir del valor promedio de entropía calculado en las regiones motora central, izquierda y derecha. Este promedio global de entropía refleja la complejidad y variabilidad de la actividad cerebral registrada mediante EEG. Para distinguir los grupos, se utilizó la mediana de dicho promedio como punto de corte: los registros con valores de entropía inferiores a la mediana se consideraron pertenecientes al grupo Paciente, mientras que aquellos con valores iguales o superiores se clasificaron como Control. Este criterio se fundamenta en que los individuos con alteraciones neurológicas o motoras suelen presentar una menor complejidad en sus señales cerebrales, lo que se traduce en valores de entropía más bajos en comparación con los sujetos sanos. La menor complejidad se debe a que, en cerebros afectados, la comunicación neuronal se encuentra comprometida, generando patrones eléctricos más regulares y predecibles, mientras que un cerebro sano produce señales más dinámicas y variables, reflejando su capacidad adaptativa y funcionalidad intacta [8]."
      ],
      "metadata": {
        "id": "Tfxz168WOk7R"
      },
      "id": "Tfxz168WOk7R"
    },
    {
      "cell_type": "code",
      "execution_count": null,
      "id": "d438a422",
      "metadata": {
        "id": "d438a422",
        "outputId": "321942e5-267c-45b7-fc49-b85872ef88b2"
      },
      "outputs": [
        {
          "data": {
            "text/html": [
              "<div>\n",
              "<style scoped>\n",
              "    .dataframe tbody tr th:only-of-type {\n",
              "        vertical-align: middle;\n",
              "    }\n",
              "\n",
              "    .dataframe tbody tr th {\n",
              "        vertical-align: top;\n",
              "    }\n",
              "\n",
              "    .dataframe thead th {\n",
              "        text-align: right;\n",
              "    }\n",
              "</style>\n",
              "<table border=\"1\" class=\"dataframe\">\n",
              "  <thead>\n",
              "    <tr style=\"text-align: right;\">\n",
              "      <th></th>\n",
              "      <th>Registro</th>\n",
              "      <th>Tarea</th>\n",
              "      <th>Tipo_Calculado</th>\n",
              "      <th>Escala</th>\n",
              "      <th>Potencia_Alpha_C3</th>\n",
              "      <th>Potencia_Alpha_C4</th>\n",
              "      <th>Potencia_Alpha_CP3</th>\n",
              "      <th>Potencia_Alpha_CP4</th>\n",
              "      <th>Potencia_Alpha_CPZ</th>\n",
              "      <th>Potencia_Alpha_CZ</th>\n",
              "      <th>...</th>\n",
              "      <th>EntropiaPerm_FC4_Gamma</th>\n",
              "      <th>EntropiaPerm_FC4_Theta</th>\n",
              "      <th>EntropiaPerm_FCZ_Alpha</th>\n",
              "      <th>EntropiaPerm_FCZ_Beta</th>\n",
              "      <th>EntropiaPerm_FCZ_Delta</th>\n",
              "      <th>EntropiaPerm_FCZ_Gamma</th>\n",
              "      <th>EntropiaPerm_FCZ_Theta</th>\n",
              "      <th>Promedio_Entropia_Central</th>\n",
              "      <th>Promedio_Entropia_Derecha</th>\n",
              "      <th>Promedio_Entropia_Izquierda</th>\n",
              "    </tr>\n",
              "  </thead>\n",
              "  <tbody>\n",
              "    <tr>\n",
              "      <th>0</th>\n",
              "      <td>left_mvto_1</td>\n",
              "      <td>Movimiento_Izq</td>\n",
              "      <td>Paciente</td>\n",
              "      <td>0.9663395250614851</td>\n",
              "      <td>8.994848e-14</td>\n",
              "      <td>1.239978e-13</td>\n",
              "      <td>1.342686e-13</td>\n",
              "      <td>1.243142e-13</td>\n",
              "      <td>1.569704e-13</td>\n",
              "      <td>1.586862e-13</td>\n",
              "      <td>...</td>\n",
              "      <td>0.966340</td>\n",
              "      <td>0.966340</td>\n",
              "      <td>0.966340</td>\n",
              "      <td>0.966340</td>\n",
              "      <td>0.966340</td>\n",
              "      <td>0.966340</td>\n",
              "      <td>0.966340</td>\n",
              "      <td>0.966340</td>\n",
              "      <td>0.966340</td>\n",
              "      <td>0.966340</td>\n",
              "    </tr>\n",
              "    <tr>\n",
              "      <th>1</th>\n",
              "      <td>left_mvto_2</td>\n",
              "      <td>Movimiento_Izq</td>\n",
              "      <td>Control</td>\n",
              "      <td>N/A</td>\n",
              "      <td>9.067080e-14</td>\n",
              "      <td>3.539842e-14</td>\n",
              "      <td>9.264113e-14</td>\n",
              "      <td>5.588189e-14</td>\n",
              "      <td>1.548173e-13</td>\n",
              "      <td>5.631887e-14</td>\n",
              "      <td>...</td>\n",
              "      <td>0.974933</td>\n",
              "      <td>0.974933</td>\n",
              "      <td>0.974933</td>\n",
              "      <td>0.974933</td>\n",
              "      <td>0.974933</td>\n",
              "      <td>0.974933</td>\n",
              "      <td>0.974933</td>\n",
              "      <td>0.974933</td>\n",
              "      <td>0.974933</td>\n",
              "      <td>0.974933</td>\n",
              "    </tr>\n",
              "    <tr>\n",
              "      <th>2</th>\n",
              "      <td>left_mvto_3</td>\n",
              "      <td>Movimiento_Izq</td>\n",
              "      <td>Paciente</td>\n",
              "      <td>0.9672770544406593</td>\n",
              "      <td>1.538034e-13</td>\n",
              "      <td>1.962570e-13</td>\n",
              "      <td>1.533422e-13</td>\n",
              "      <td>1.714049e-13</td>\n",
              "      <td>2.464450e-13</td>\n",
              "      <td>1.786767e-13</td>\n",
              "      <td>...</td>\n",
              "      <td>0.967277</td>\n",
              "      <td>0.967277</td>\n",
              "      <td>0.967277</td>\n",
              "      <td>0.967277</td>\n",
              "      <td>0.967277</td>\n",
              "      <td>0.967277</td>\n",
              "      <td>0.967277</td>\n",
              "      <td>0.967277</td>\n",
              "      <td>0.967277</td>\n",
              "      <td>0.967277</td>\n",
              "    </tr>\n",
              "    <tr>\n",
              "      <th>3</th>\n",
              "      <td>left_mvto_4</td>\n",
              "      <td>Movimiento_Izq</td>\n",
              "      <td>Paciente</td>\n",
              "      <td>0.9609803307493636</td>\n",
              "      <td>1.850243e-14</td>\n",
              "      <td>1.827074e-14</td>\n",
              "      <td>2.183163e-14</td>\n",
              "      <td>1.430111e-14</td>\n",
              "      <td>1.637535e-14</td>\n",
              "      <td>2.034386e-14</td>\n",
              "      <td>...</td>\n",
              "      <td>0.960980</td>\n",
              "      <td>0.960980</td>\n",
              "      <td>0.960980</td>\n",
              "      <td>0.960980</td>\n",
              "      <td>0.960980</td>\n",
              "      <td>0.960980</td>\n",
              "      <td>0.960980</td>\n",
              "      <td>0.960980</td>\n",
              "      <td>0.960980</td>\n",
              "      <td>0.960980</td>\n",
              "    </tr>\n",
              "    <tr>\n",
              "      <th>4</th>\n",
              "      <td>left_mvto_5</td>\n",
              "      <td>Movimiento_Izq</td>\n",
              "      <td>Paciente</td>\n",
              "      <td>0.9606417241908716</td>\n",
              "      <td>3.595138e-14</td>\n",
              "      <td>4.581216e-14</td>\n",
              "      <td>3.582424e-14</td>\n",
              "      <td>3.553273e-14</td>\n",
              "      <td>2.654596e-14</td>\n",
              "      <td>4.093555e-14</td>\n",
              "      <td>...</td>\n",
              "      <td>0.960642</td>\n",
              "      <td>0.960642</td>\n",
              "      <td>0.960642</td>\n",
              "      <td>0.960642</td>\n",
              "      <td>0.960642</td>\n",
              "      <td>0.960642</td>\n",
              "      <td>0.960642</td>\n",
              "      <td>0.960642</td>\n",
              "      <td>0.960642</td>\n",
              "      <td>0.960642</td>\n",
              "    </tr>\n",
              "    <tr>\n",
              "      <th>...</th>\n",
              "      <td>...</td>\n",
              "      <td>...</td>\n",
              "      <td>...</td>\n",
              "      <td>...</td>\n",
              "      <td>...</td>\n",
              "      <td>...</td>\n",
              "      <td>...</td>\n",
              "      <td>...</td>\n",
              "      <td>...</td>\n",
              "      <td>...</td>\n",
              "      <td>...</td>\n",
              "      <td>...</td>\n",
              "      <td>...</td>\n",
              "      <td>...</td>\n",
              "      <td>...</td>\n",
              "      <td>...</td>\n",
              "      <td>...</td>\n",
              "      <td>...</td>\n",
              "      <td>...</td>\n",
              "      <td>...</td>\n",
              "      <td>...</td>\n",
              "    </tr>\n",
              "    <tr>\n",
              "      <th>75</th>\n",
              "      <td>right_imag_16</td>\n",
              "      <td>Imaginacion_Der</td>\n",
              "      <td>Paciente</td>\n",
              "      <td>0.9658585270676384</td>\n",
              "      <td>3.837236e-14</td>\n",
              "      <td>5.979639e-14</td>\n",
              "      <td>3.319583e-14</td>\n",
              "      <td>3.837743e-14</td>\n",
              "      <td>4.282015e-14</td>\n",
              "      <td>5.935255e-14</td>\n",
              "      <td>...</td>\n",
              "      <td>0.965859</td>\n",
              "      <td>0.965859</td>\n",
              "      <td>0.965859</td>\n",
              "      <td>0.965859</td>\n",
              "      <td>0.965859</td>\n",
              "      <td>0.965859</td>\n",
              "      <td>0.965859</td>\n",
              "      <td>0.965859</td>\n",
              "      <td>0.965859</td>\n",
              "      <td>0.965859</td>\n",
              "    </tr>\n",
              "    <tr>\n",
              "      <th>76</th>\n",
              "      <td>right_imag_17</td>\n",
              "      <td>Imaginacion_Der</td>\n",
              "      <td>Control</td>\n",
              "      <td>N/A</td>\n",
              "      <td>3.025557e-13</td>\n",
              "      <td>1.952336e-13</td>\n",
              "      <td>1.509779e-13</td>\n",
              "      <td>2.140840e-13</td>\n",
              "      <td>1.809436e-13</td>\n",
              "      <td>1.174254e-13</td>\n",
              "      <td>...</td>\n",
              "      <td>0.996260</td>\n",
              "      <td>0.996260</td>\n",
              "      <td>0.996260</td>\n",
              "      <td>0.996260</td>\n",
              "      <td>0.996260</td>\n",
              "      <td>0.996260</td>\n",
              "      <td>0.996260</td>\n",
              "      <td>0.996260</td>\n",
              "      <td>0.996260</td>\n",
              "      <td>0.996260</td>\n",
              "    </tr>\n",
              "    <tr>\n",
              "      <th>77</th>\n",
              "      <td>right_imag_18</td>\n",
              "      <td>Imaginacion_Der</td>\n",
              "      <td>Control</td>\n",
              "      <td>N/A</td>\n",
              "      <td>7.574804e-15</td>\n",
              "      <td>6.786407e-15</td>\n",
              "      <td>8.021835e-15</td>\n",
              "      <td>6.444384e-15</td>\n",
              "      <td>8.269384e-15</td>\n",
              "      <td>8.899483e-15</td>\n",
              "      <td>...</td>\n",
              "      <td>0.984035</td>\n",
              "      <td>0.984035</td>\n",
              "      <td>0.984035</td>\n",
              "      <td>0.984035</td>\n",
              "      <td>0.984035</td>\n",
              "      <td>0.984035</td>\n",
              "      <td>0.984035</td>\n",
              "      <td>0.984035</td>\n",
              "      <td>0.984035</td>\n",
              "      <td>0.984035</td>\n",
              "    </tr>\n",
              "    <tr>\n",
              "      <th>78</th>\n",
              "      <td>right_imag_19</td>\n",
              "      <td>Imaginacion_Der</td>\n",
              "      <td>Paciente</td>\n",
              "      <td>0.9705202696024792</td>\n",
              "      <td>1.913739e-13</td>\n",
              "      <td>1.018994e-13</td>\n",
              "      <td>2.132199e-13</td>\n",
              "      <td>2.105646e-13</td>\n",
              "      <td>1.682537e-13</td>\n",
              "      <td>1.241835e-13</td>\n",
              "      <td>...</td>\n",
              "      <td>0.970520</td>\n",
              "      <td>0.970520</td>\n",
              "      <td>0.970520</td>\n",
              "      <td>0.970520</td>\n",
              "      <td>0.970520</td>\n",
              "      <td>0.970520</td>\n",
              "      <td>0.970520</td>\n",
              "      <td>0.970520</td>\n",
              "      <td>0.970520</td>\n",
              "      <td>0.970520</td>\n",
              "    </tr>\n",
              "    <tr>\n",
              "      <th>79</th>\n",
              "      <td>right_imag_20</td>\n",
              "      <td>Imaginacion_Der</td>\n",
              "      <td>Paciente</td>\n",
              "      <td>0.9684250589802638</td>\n",
              "      <td>1.373573e-14</td>\n",
              "      <td>1.615110e-14</td>\n",
              "      <td>1.332774e-14</td>\n",
              "      <td>1.511198e-14</td>\n",
              "      <td>2.207428e-14</td>\n",
              "      <td>1.556771e-14</td>\n",
              "      <td>...</td>\n",
              "      <td>0.968425</td>\n",
              "      <td>0.968425</td>\n",
              "      <td>0.968425</td>\n",
              "      <td>0.968425</td>\n",
              "      <td>0.968425</td>\n",
              "      <td>0.968425</td>\n",
              "      <td>0.968425</td>\n",
              "      <td>0.968425</td>\n",
              "      <td>0.968425</td>\n",
              "      <td>0.968425</td>\n",
              "    </tr>\n",
              "  </tbody>\n",
              "</table>\n",
              "<p>80 rows × 97 columns</p>\n",
              "</div>"
            ],
            "text/plain": [
              "         Registro            Tarea Tipo_Calculado              Escala  \\\n",
              "0     left_mvto_1   Movimiento_Izq       Paciente  0.9663395250614851   \n",
              "1     left_mvto_2   Movimiento_Izq        Control                 N/A   \n",
              "2     left_mvto_3   Movimiento_Izq       Paciente  0.9672770544406593   \n",
              "3     left_mvto_4   Movimiento_Izq       Paciente  0.9609803307493636   \n",
              "4     left_mvto_5   Movimiento_Izq       Paciente  0.9606417241908716   \n",
              "..            ...              ...            ...                 ...   \n",
              "75  right_imag_16  Imaginacion_Der       Paciente  0.9658585270676384   \n",
              "76  right_imag_17  Imaginacion_Der        Control                 N/A   \n",
              "77  right_imag_18  Imaginacion_Der        Control                 N/A   \n",
              "78  right_imag_19  Imaginacion_Der       Paciente  0.9705202696024792   \n",
              "79  right_imag_20  Imaginacion_Der       Paciente  0.9684250589802638   \n",
              "\n",
              "    Potencia_Alpha_C3  Potencia_Alpha_C4  Potencia_Alpha_CP3  \\\n",
              "0        8.994848e-14       1.239978e-13        1.342686e-13   \n",
              "1        9.067080e-14       3.539842e-14        9.264113e-14   \n",
              "2        1.538034e-13       1.962570e-13        1.533422e-13   \n",
              "3        1.850243e-14       1.827074e-14        2.183163e-14   \n",
              "4        3.595138e-14       4.581216e-14        3.582424e-14   \n",
              "..                ...                ...                 ...   \n",
              "75       3.837236e-14       5.979639e-14        3.319583e-14   \n",
              "76       3.025557e-13       1.952336e-13        1.509779e-13   \n",
              "77       7.574804e-15       6.786407e-15        8.021835e-15   \n",
              "78       1.913739e-13       1.018994e-13        2.132199e-13   \n",
              "79       1.373573e-14       1.615110e-14        1.332774e-14   \n",
              "\n",
              "    Potencia_Alpha_CP4  Potencia_Alpha_CPZ  Potencia_Alpha_CZ  ...  \\\n",
              "0         1.243142e-13        1.569704e-13       1.586862e-13  ...   \n",
              "1         5.588189e-14        1.548173e-13       5.631887e-14  ...   \n",
              "2         1.714049e-13        2.464450e-13       1.786767e-13  ...   \n",
              "3         1.430111e-14        1.637535e-14       2.034386e-14  ...   \n",
              "4         3.553273e-14        2.654596e-14       4.093555e-14  ...   \n",
              "..                 ...                 ...                ...  ...   \n",
              "75        3.837743e-14        4.282015e-14       5.935255e-14  ...   \n",
              "76        2.140840e-13        1.809436e-13       1.174254e-13  ...   \n",
              "77        6.444384e-15        8.269384e-15       8.899483e-15  ...   \n",
              "78        2.105646e-13        1.682537e-13       1.241835e-13  ...   \n",
              "79        1.511198e-14        2.207428e-14       1.556771e-14  ...   \n",
              "\n",
              "    EntropiaPerm_FC4_Gamma  EntropiaPerm_FC4_Theta  EntropiaPerm_FCZ_Alpha  \\\n",
              "0                 0.966340                0.966340                0.966340   \n",
              "1                 0.974933                0.974933                0.974933   \n",
              "2                 0.967277                0.967277                0.967277   \n",
              "3                 0.960980                0.960980                0.960980   \n",
              "4                 0.960642                0.960642                0.960642   \n",
              "..                     ...                     ...                     ...   \n",
              "75                0.965859                0.965859                0.965859   \n",
              "76                0.996260                0.996260                0.996260   \n",
              "77                0.984035                0.984035                0.984035   \n",
              "78                0.970520                0.970520                0.970520   \n",
              "79                0.968425                0.968425                0.968425   \n",
              "\n",
              "    EntropiaPerm_FCZ_Beta  EntropiaPerm_FCZ_Delta  EntropiaPerm_FCZ_Gamma  \\\n",
              "0                0.966340                0.966340                0.966340   \n",
              "1                0.974933                0.974933                0.974933   \n",
              "2                0.967277                0.967277                0.967277   \n",
              "3                0.960980                0.960980                0.960980   \n",
              "4                0.960642                0.960642                0.960642   \n",
              "..                    ...                     ...                     ...   \n",
              "75               0.965859                0.965859                0.965859   \n",
              "76               0.996260                0.996260                0.996260   \n",
              "77               0.984035                0.984035                0.984035   \n",
              "78               0.970520                0.970520                0.970520   \n",
              "79               0.968425                0.968425                0.968425   \n",
              "\n",
              "    EntropiaPerm_FCZ_Theta  Promedio_Entropia_Central  \\\n",
              "0                 0.966340                   0.966340   \n",
              "1                 0.974933                   0.974933   \n",
              "2                 0.967277                   0.967277   \n",
              "3                 0.960980                   0.960980   \n",
              "4                 0.960642                   0.960642   \n",
              "..                     ...                        ...   \n",
              "75                0.965859                   0.965859   \n",
              "76                0.996260                   0.996260   \n",
              "77                0.984035                   0.984035   \n",
              "78                0.970520                   0.970520   \n",
              "79                0.968425                   0.968425   \n",
              "\n",
              "    Promedio_Entropia_Derecha  Promedio_Entropia_Izquierda  \n",
              "0                    0.966340                     0.966340  \n",
              "1                    0.974933                     0.974933  \n",
              "2                    0.967277                     0.967277  \n",
              "3                    0.960980                     0.960980  \n",
              "4                    0.960642                     0.960642  \n",
              "..                        ...                          ...  \n",
              "75                   0.965859                     0.965859  \n",
              "76                   0.996260                     0.996260  \n",
              "77                   0.984035                     0.984035  \n",
              "78                   0.970520                     0.970520  \n",
              "79                   0.968425                     0.968425  \n",
              "\n",
              "[80 rows x 97 columns]"
            ]
          },
          "metadata": {},
          "output_type": "display_data"
        }
      ],
      "source": [
        "from IPython.display import display\n",
        "display(df_resultados)"
      ]
    },
    {
      "cell_type": "markdown",
      "id": "70cfdc58",
      "metadata": {
        "id": "70cfdc58"
      },
      "source": [
        "# **Análisis estadístico descriptivo**"
      ]
    },
    {
      "cell_type": "code",
      "execution_count": null,
      "id": "71dc6890",
      "metadata": {
        "id": "71dc6890",
        "outputId": "76004e45-98a1-4961-91f2-33135181eef6"
      },
      "outputs": [
        {
          "name": "stdout",
          "output_type": "stream",
          "text": [
            "Estadística descriptiva por tarea y tipo\n",
            "                               Promedio_Entropia_Central                       \\\n",
            "                                                   count   mean    std    min   \n",
            "Tarea           Tipo_Calculado                                                  \n",
            "Imaginacion_Der Control                              8.0  0.984  0.007  0.976   \n",
            "                Paciente                            12.0  0.965  0.007  0.951   \n",
            "Imaginacion_Izq Control                             11.0  0.982  0.006  0.976   \n",
            "                Paciente                             9.0  0.966  0.007  0.953   \n",
            "Movimiento_Der  Control                             10.0  0.982  0.005  0.975   \n",
            "                Paciente                            10.0  0.969  0.005  0.958   \n",
            "Movimiento_Izq  Control                             11.0  0.981  0.005  0.975   \n",
            "                Paciente                             9.0  0.968  0.006  0.961   \n",
            "\n",
            "                                                            \\\n",
            "                                  25%    50%    75%    max   \n",
            "Tarea           Tipo_Calculado                               \n",
            "Imaginacion_Der Control         0.980  0.982  0.986  0.996   \n",
            "                Paciente        0.963  0.966  0.971  0.974   \n",
            "Imaginacion_Izq Control         0.980  0.980  0.982  0.992   \n",
            "                Paciente        0.964  0.967  0.971  0.975   \n",
            "Movimiento_Der  Control         0.977  0.983  0.985  0.988   \n",
            "                Paciente        0.967  0.971  0.973  0.974   \n",
            "Movimiento_Izq  Control         0.978  0.980  0.984  0.991   \n",
            "                Paciente        0.963  0.967  0.973  0.974   \n",
            "\n",
            "                               Promedio_Entropia_Izquierda         ...         \\\n",
            "                                                     count   mean  ...    75%   \n",
            "Tarea           Tipo_Calculado                                     ...          \n",
            "Imaginacion_Der Control                                8.0  0.984  ...  0.986   \n",
            "                Paciente                              12.0  0.965  ...  0.971   \n",
            "Imaginacion_Izq Control                               11.0  0.982  ...  0.982   \n",
            "                Paciente                               9.0  0.966  ...  0.971   \n",
            "Movimiento_Der  Control                               10.0  0.982  ...  0.985   \n",
            "                Paciente                              10.0  0.969  ...  0.973   \n",
            "Movimiento_Izq  Control                               11.0  0.981  ...  0.984   \n",
            "                Paciente                               9.0  0.968  ...  0.973   \n",
            "\n",
            "                                      Promedio_Entropia_Derecha                \\\n",
            "                                  max                     count   mean    std   \n",
            "Tarea           Tipo_Calculado                                                  \n",
            "Imaginacion_Der Control         0.996                       8.0  0.984  0.007   \n",
            "                Paciente        0.974                      12.0  0.965  0.007   \n",
            "Imaginacion_Izq Control         0.992                      11.0  0.982  0.006   \n",
            "                Paciente        0.975                       9.0  0.966  0.007   \n",
            "Movimiento_Der  Control         0.988                      10.0  0.982  0.005   \n",
            "                Paciente        0.974                      10.0  0.969  0.005   \n",
            "Movimiento_Izq  Control         0.991                      11.0  0.981  0.005   \n",
            "                Paciente        0.974                       9.0  0.968  0.006   \n",
            "\n",
            "                                                                   \n",
            "                                  min    25%    50%    75%    max  \n",
            "Tarea           Tipo_Calculado                                     \n",
            "Imaginacion_Der Control         0.976  0.980  0.982  0.986  0.996  \n",
            "                Paciente        0.951  0.963  0.966  0.971  0.974  \n",
            "Imaginacion_Izq Control         0.976  0.980  0.980  0.982  0.992  \n",
            "                Paciente        0.953  0.964  0.967  0.971  0.975  \n",
            "Movimiento_Der  Control         0.975  0.977  0.983  0.985  0.988  \n",
            "                Paciente        0.958  0.967  0.971  0.973  0.974  \n",
            "Movimiento_Izq  Control         0.975  0.978  0.980  0.984  0.991  \n",
            "                Paciente        0.961  0.963  0.967  0.973  0.974  \n",
            "\n",
            "[8 rows x 24 columns]\n",
            "\n",
            "Graficando: Comparación Movimiento vs Imaginación - Región Derecha\n",
            "   Número de registros: 40\n",
            "   Tareas incluidas: ['Movimiento_Der' 'Imaginacion_Der']\n"
          ]
        },
        {
          "data": {
            "image/png": "[encoded data removed]",
            "text/plain": [
              "<Figure size 1000x600 with 1 Axes>"
            ]
          },
          "metadata": {},
          "output_type": "display_data"
        },
        {
          "name": "stdout",
          "output_type": "stream",
          "text": [
            "\n",
            "Graficando: Comparación Movimiento vs Imaginación - Región Izquierda\n",
            "   Número de registros: 40\n",
            "   Tareas incluidas: ['Movimiento_Izq' 'Imaginacion_Izq']\n"
          ]
        },
        {
          "data": {
            "image/png": "[encoded data removed]",
            "text/plain": [
              "<Figure size 1000x600 with 1 Axes>"
            ]
          },
          "metadata": {},
          "output_type": "display_data"
        },
        {
          "name": "stdout",
          "output_type": "stream",
          "text": [
            "\n",
            "Graficando: Comparación Movimiento Derecha vs Izquierda - Región Central\n",
            "   Número de registros: 40\n",
            "   Tareas incluidas: ['Movimiento_Izq' 'Movimiento_Der']\n"
          ]
        },
        {
          "data": {
            "image/png": "[encoded data removed]",
            "text/plain": [
              "<Figure size 1000x600 with 1 Axes>"
            ]
          },
          "metadata": {},
          "output_type": "display_data"
        },
        {
          "name": "stdout",
          "output_type": "stream",
          "text": [
            "\n",
            "Graficando: Comparación Imaginación Derecha vs Izquierda - Región Central\n",
            "   Número de registros: 40\n",
            "   Tareas incluidas: ['Imaginacion_Izq' 'Imaginacion_Der']\n"
          ]
        },
        {
          "data": {
            "image/png": "[encoded data removed]",
            "text/plain": [
              "<Figure size 1000x600 with 1 Axes>"
            ]
          },
          "metadata": {},
          "output_type": "display_data"
        },
        {
          "data": {
            "image/png": "[encoded data removed]",
            "text/plain": [
              "<Figure size 1000x600 with 1 Axes>"
            ]
          },
          "metadata": {},
          "output_type": "display_data"
        }
      ],
      "source": [
        "import seaborn as sns\n",
        "\n",
        "# Cargar los datos\n",
        "df_resultados = pd.read_csv('result_final_.csv')\n",
        "\n",
        "desc = df_resultados.groupby([\"Tarea\", \"Tipo_Calculado\"])[\n",
        "    [\"Promedio_Entropia_Central\", \"Promedio_Entropia_Izquierda\", \"Promedio_Entropia_Derecha\"]\n",
        "].describe().round(3)\n",
        "print(\"Estadística descriptiva por tarea y tipo\")\n",
        "print(desc)\n",
        "\n",
        "def graficar_comparaciones(df, region, titulo, ylabel=\"Entropía promedio\"):\n",
        "    if df.empty:\n",
        "        print(f\"ADVERTENCIA: No hay datos para graficar en '{titulo}'\")\n",
        "        return\n",
        "\n",
        "    print(f\"\\nGraficando: {titulo}\")\n",
        "    print(f\"   Número de registros: {len(df)}\")\n",
        "    print(f\"   Tareas incluidas: {df['Tarea'].unique()}\")\n",
        "\n",
        "    plt.figure(figsize=(10, 6))\n",
        "    sns.boxplot(\n",
        "        data=df,\n",
        "        x=\"Tarea\",\n",
        "        y=region,\n",
        "        hue=\"Tipo_Calculado\",\n",
        "        palette=\"Set2\"\n",
        "    )\n",
        "    plt.title(titulo, fontsize=14, weight=\"bold\")\n",
        "    plt.xlabel(\"Tarea\", fontsize=12)\n",
        "    plt.ylabel(ylabel, fontsize=12)\n",
        "    plt.xticks(rotation=15, ha='right')\n",
        "    plt.legend(title=\"Tipo de sujeto\", loc='best')\n",
        "    plt.tight_layout()\n",
        "    plt.show()\n",
        "\n",
        "tareas_der = df_resultados[df_resultados['Tarea'].isin(['Movimiento_Der', 'Imaginacion_Der'])].copy()\n",
        "\n",
        "graficar_comparaciones(\n",
        "    tareas_der,\n",
        "    \"Promedio_Entropia_Derecha\",\n",
        "    \"Comparación Movimiento vs Imaginación - Región Derecha\",\n",
        "    \"Entropía promedio (Región Derecha)\"\n",
        ")\n",
        "\n",
        "\n",
        "tareas_izq = df_resultados[df_resultados['Tarea'].isin(['Movimiento_Izq', 'Imaginacion_Izq'])].copy()\n",
        "\n",
        "graficar_comparaciones(\n",
        "    tareas_izq,\n",
        "    \"Promedio_Entropia_Izquierda\",\n",
        "    \"Comparación Movimiento vs Imaginación - Región Izquierda\",\n",
        "    \"Entropía promedio (Región Izquierda)\"\n",
        ")\n",
        "\n",
        "movimientos = df_resultados[df_resultados['Tarea'].isin(['Movimiento_Der', 'Movimiento_Izq'])].copy()\n",
        "\n",
        "graficar_comparaciones(\n",
        "    movimientos,\n",
        "    \"Promedio_Entropia_Central\",\n",
        "    \"Comparación Movimiento Derecha vs Izquierda - Región Central\",\n",
        "    \"Entropía promedio (Región Central)\"\n",
        ")\n",
        "\n",
        "imaginacion = df_resultados[df_resultados['Tarea'].isin(['Imaginacion_Der', 'Imaginacion_Izq'])].copy()\n",
        "\n",
        "graficar_comparaciones(\n",
        "    imaginacion,\n",
        "    \"Promedio_Entropia_Central\",\n",
        "    \"Comparación Imaginación Derecha vs Izquierda - Región Central\",\n",
        "    \"Entropía promedio (Región Central)\"\n",
        ")\n",
        "\n",
        "plt.figure(figsize=(10, 6))\n",
        "sns.boxplot(\n",
        "    data=df_resultados,\n",
        "    x=\"Tipo_Calculado\",\n",
        "    y=\"Promedio_Entropia_Central\",\n",
        "    palette=\"Set3\"\n",
        ")\n",
        "plt.title(\"Comparación Global: Control vs Paciente\", fontsize=14, weight=\"bold\")\n",
        "plt.ylabel(\"Entropía promedio (Región Central)\", fontsize=12)\n",
        "plt.xlabel(\"Tipo de sujeto\", fontsize=12)\n",
        "plt.tight_layout()\n",
        "plt.show()"
      ]
    },
    {
      "cell_type": "markdown",
      "id": "WPdbb2ReJmJc",
      "metadata": {
        "id": "WPdbb2ReJmJc"
      },
      "source": [
        "**Comparación Movimiento vs Imaginación - Región Derecha**"
      ]
    },
    {
      "cell_type": "markdown",
      "source": [
        "<p align=\"justify\">\n",
        "En esta comparación se observa que, tanto en las tareas de movimiento real como en la imaginación del movimiento derecho, los sujetos control presentan valores de entropía promedio ligeramente superiores a los de los pacientes. Esto indica que las señales EEG de los controles muestran una mayor complejidad y variabilidad, particularmente en la región derecha del cerebro, que se relaciona con la ejecución motora y la representación mental de movimientos de la mano contralateral (izquierda). La similitud de los patrones de entropía entre las tareas de movimiento real e imaginación en los sujetos control respalda la hipótesis de que la imaginación motora activa redes neuronales similares a las del movimiento real, un principio fundamental en los sistemas BCI basados en imaginación motora. Por el contrario, los pacientes muestran una reducción de la entropía, lo que sugiere una menor capacidad para generar patrones cerebrales dinámicos y adaptativos en estas áreas. Esta disminución puede reflejar alteraciones en los circuitos motores corticales y una menor eficiencia en la activación de las redes involucradas en la planificación y ejecución motora, evidenciando el impacto de las condiciones neurológicas sobre la complejidad de la actividad cerebral [8][9]."
      ],
      "metadata": {
        "id": "HMBoh-9kYta7"
      },
      "id": "HMBoh-9kYta7"
    },
    {
      "cell_type": "markdown",
      "id": "C4hPsINxJmi7",
      "metadata": {
        "id": "C4hPsINxJmi7"
      },
      "source": [
        "**Comparación Movimiento vs Imaginación - Región Izquierda**"
      ]
    },
    {
      "cell_type": "markdown",
      "source": [
        "<p align=\"justify\">\n",
        "En la región izquierda se observa un patrón complementario al descrito en el hemisferio derecho. Los pacientes presentan valores de entropía superiores a los controles, especialmente durante la imaginación del movimiento, lo que sugiere una activación compensatoria de esta región frente a la menor eficiencia del hemisferio derecho, dominante para el control motor contralateral. En contraste, los sujetos control muestran valores de entropía más bajos, lo que indica una activación más focalizada y eficiente de las redes motoras izquierdas, tanto en la ejecución como en la imaginación del movimiento. Estos hallazgos concuerdan con estudios previos que evidencian la asimetría funcional entre hemisferios, donde los controles mantienen patrones de activación diferenciados y específicos, mientras que los pacientes tienden a generar respuestas más difusas o generalizadas. Este patrón respalda la hipótesis de que la plasticidad cerebral podría estar mediando una redistribución funcional hacia el hemisferio opuesto, compensando deficiencias en la planificación y ejecución motora, así como en la representación mental del movimiento [8][9][10]."
      ],
      "metadata": {
        "id": "9DZHMjfxYyB5"
      },
      "id": "9DZHMjfxYyB5"
    },
    {
      "cell_type": "markdown",
      "id": "Bq3F_fISJmta",
      "metadata": {
        "id": "Bq3F_fISJmta"
      },
      "source": [
        "**Comparación Movimiento Derecha vs Izquierda - Región Central**"
      ]
    },
    {
      "cell_type": "markdown",
      "source": [
        "<p align=\"justify\">\n",
        "En la región central, que comprende la zona motora primaria y suplementaria, se observa una diferencia notable entre controles y pacientes. Los sujetos control presentan valores de entropía más altos y consistentes en ambas tareas de movimiento (derecho e izquierdo), lo que refleja una actividad cortical coordinada y equilibrada entre hemisferios. Por el contrario, los pacientes muestran entropía más baja y mayor variabilidad, lo que sugiere una menor sincronización neuronal y eficiencia durante la ejecución motora. Dado que la región central es fundamental para la integración bilateral del movimiento, esta reducción en la complejidad de la señal podría estar asociada con dificultades en la planificación o en la ejecución de los movimientos. Estos resultados respaldan la idea de que la actividad EEG en la región central puede servir como un biomarcador funcional para diferenciar entre sujetos sanos y pacientes, proporcionando una base sólida para el desarrollo de modelos BCI personalizados y estrategias de rehabilitación específicas [8][9][11]."
      ],
      "metadata": {
        "id": "XvIMQNGIY2xh"
      },
      "id": "XvIMQNGIY2xh"
    },
    {
      "cell_type": "markdown",
      "id": "aA51UG_5Jm3h",
      "metadata": {
        "id": "aA51UG_5Jm3h"
      },
      "source": [
        "**Comparación Imaginación Derecha vs Izquierda - Región Central**\n",
        "\n"
      ]
    },
    {
      "cell_type": "markdown",
      "source": [
        "<p align=\"justify\">\n",
        "En esta comparación se observa la entropía promedio en la región central del cerebro durante las tareas de imaginación motora derecha e izquierda, diferenciando entre pacientes y controles. Los sujetos control presentan valores de entropía más altos y con menor dispersión en ambas tareas, lo que refleja una mayor complejidad y organización de la actividad neuronal durante la imaginación motora. Por el contrario, los pacientes muestran valores de entropía más bajos y mayor variabilidad, indicando una menor estabilidad y eficiencia en la actividad cortical relacionada con la planificación del movimiento. La similitud entre las tareas de imaginación derecha e izquierda sugiere que la activación en la región central es relativamente simétrica; sin embargo, las diferencias observadas entre grupos evidencian un impacto funcional relevante asociado al estado neurológico, destacando el valor de la entropía como marcador de la integridad y eficiencia de los circuitos motores corticales durante la imaginación del movimiento [8][9][11]."
      ],
      "metadata": {
        "id": "OlEIWSbuY7Wd"
      },
      "id": "OlEIWSbuY7Wd"
    },
    {
      "cell_type": "markdown",
      "id": "NfbmR6EPJnA8",
      "metadata": {
        "id": "NfbmR6EPJnA8"
      },
      "source": [
        "**Comparación Global: Control vs Paciente**"
      ]
    },
    {
      "cell_type": "markdown",
      "source": [
        "<p align=\"justify\">\n",
        "Esta comparación general de la entropía promedio en la región central entre los grupos de control y pacientes muestra diferencias claras en la actividad cerebral. Los individuos del grupo de control presentan niveles de entropía más altos y con menor dispersión, lo que sugiere una mayor complejidad y estabilidad en la actividad neuronal, asociada a un funcionamiento cerebral más eficiente y organizado. En contraste, el grupo de pacientes exhibe valores de entropía más bajos y una mayor variabilidad, reflejando una disminución en la dinámica neuronal y una menor regularidad en los patrones de activación cortical, lo que puede indicar dificultades en la planificación y ejecución de movimientos o en la imaginación motora [8][9]."
      ],
      "metadata": {
        "id": "Dnf-6p1FY-89"
      },
      "id": "Dnf-6p1FY-89"
    },
    {
      "cell_type": "markdown",
      "id": "CrEf-w5EeobD",
      "metadata": {
        "id": "CrEf-w5EeobD"
      },
      "source": [
        "# **Pruebas de Hipotesis**"
      ]
    },
    {
      "cell_type": "markdown",
      "id": "2Yd-WoITim1B",
      "metadata": {
        "id": "2Yd-WoITim1B"
      },
      "source": [
        "*Compara diferentes tipos de tarea dentro del mismo grupo*"
      ]
    },
    {
      "cell_type": "markdown",
      "id": "rGWg-acZixEu",
      "metadata": {
        "id": "rGWg-acZixEu"
      },
      "source": [
        "**Movimiento vs Imaginación - Región Derecha**"
      ]
    },
    {
      "cell_type": "code",
      "execution_count": null,
      "id": "9294ee36",
      "metadata": {
        "id": "9294ee36",
        "outputId": "c533ee24-8242-4379-8a40-2f701df2c623"
      },
      "outputs": [
        {
          "name": "stdout",
          "output_type": "stream",
          "text": [
            "PRUEBA ESTADÍSTICA\n",
            "Movimiento vs Imaginación - Región Derecha\n",
            "\n",
            " HIPÓTESIS:\n",
            "   H0: No hay diferencia significativa entre Movimiento e Imaginación (Derecha)\n",
            "   H1: Hay diferencia significativa entre Movimiento e Imaginación (Derecha)\n",
            "   α = 0.05\n",
            " NORMALIDAD (Shapiro-Wilk)\n",
            "\n",
            " Movimiento Derecha:\n",
            "   - N: 20\n",
            "   - Estadístico W: 0.965585\n",
            "   - p-value: 0.660281\n",
            "   - Conclusión: NORMAL\n",
            "\n",
            " Imaginación Derecha:\n",
            "   - N: 20\n",
            "   - Estadístico W: 0.986530\n",
            "   - p-value: 0.989381\n",
            "   - Conclusión: NORMAL\n",
            "\n",
            " Decisión: PRUEBA PARAMÉTRICA (t-test)\n",
            " PRUEBA DE COMPARACIÓN\n",
            "\n",
            " Levene (homogeneidad de varianzas):\n",
            "   - p-value: 0.194458\n",
            "   - Varianzas: IGUALES\n",
            "\n",
            " t-test de Student:\n",
            "   - Estadístico t: 0.881542\n",
            "   - p-value: 0.383567\n",
            "ESTADÍSTICOS DESCRIPTIVOS\n",
            "\n",
            " Movimiento Derecha:\n",
            "   - Media: 0.97531369\n",
            "   - Mediana: 0.97450315\n",
            "   - Desv. Est.: 0.00822838\n",
            "   - Min: 0.95822000\n",
            "   - Max: 0.98821930\n",
            "\n",
            " Imaginación Derecha:\n",
            "   - Media: 0.97251999\n",
            "   - Mediana: 0.97122374\n",
            "   - Desv. Est.: 0.01153941\n",
            "   - Min: 0.95079086\n",
            "   - Max: 0.99625966\n",
            "s CONCLUSIÓN\n",
            "\n",
            "NO RECHAZAMOS H0 (p=0.383567 ≥ 0.05)\n",
            "NO hay diferencia estadísticamente significativa\n"
          ]
        }
      ],
      "source": [
        "from scipy import stats\n",
        "\n",
        "# Cargar los datos\n",
        "df_resultados = pd.read_csv('result_final_.csv')\n",
        "\n",
        "\n",
        "print( \"PRUEBA ESTADÍSTICA\")\n",
        "print(\"Movimiento vs Imaginación - Región Derecha\")\n",
        "\n",
        "# Preparar datos\n",
        "df_der = df_resultados[df_resultados['Tarea'].isin(['Movimiento_Der', 'Imaginacion_Der'])].copy()\n",
        "mov_der = df_der[df_der['Tarea'] == 'Movimiento_Der']['Promedio_Entropia_Derecha'].values\n",
        "imag_der = df_der[df_der['Tarea'] == 'Imaginacion_Der']['Promedio_Entropia_Derecha'].values\n",
        "\n",
        "# HIPÓTESIS\n",
        "print(\"\\n HIPÓTESIS:\")\n",
        "print(\"   H0: No hay diferencia significativa entre Movimiento e Imaginación (Derecha)\")\n",
        "print(\"   H1: Hay diferencia significativa entre Movimiento e Imaginación (Derecha)\")\n",
        "print(\"   α = 0.05\")\n",
        "\n",
        "# Normalidad\n",
        "print(\" NORMALIDAD (Shapiro-Wilk)\")\n",
        "\n",
        "stat_mov, p_mov = stats.shapiro(mov_der)\n",
        "stat_imag, p_imag = stats.shapiro(imag_der)\n",
        "\n",
        "print(f\"\\n Movimiento Derecha:\")\n",
        "print(f\"   - N: {len(mov_der)}\")\n",
        "print(f\"   - Estadístico W: {stat_mov:.6f}\")\n",
        "print(f\"   - p-value: {p_mov:.6f}\")\n",
        "print(f\"   - Conclusión: {'NORMAL' if p_mov > 0.05 else '✗ NO NORMAL'}\")\n",
        "\n",
        "print(f\"\\n Imaginación Derecha:\")\n",
        "print(f\"   - N: {len(imag_der)}\")\n",
        "print(f\"   - Estadístico W: {stat_imag:.6f}\")\n",
        "print(f\"   - p-value: {p_imag:.6f}\")\n",
        "print(f\"   - Conclusión: {'NORMAL' if p_imag > 0.05 else '✗ NO NORMAL'}\")\n",
        "\n",
        "# PASO 2: Elegir prueba\n",
        "usar_parametrica = (p_mov > 0.05) and (p_imag > 0.05)\n",
        "\n",
        "print(f\"\\n Decisión: {'PRUEBA PARAMÉTRICA (t-test)' if usar_parametrica else 'PRUEBA NO PARAMÉTRICA (Mann-Whitney)'}\")\n",
        "\n",
        "# PASO 3: Prueba de comparación\n",
        "print(\" PRUEBA DE COMPARACIÓN\")\n",
        "\n",
        "if usar_parametrica:\n",
        "    # Levene\n",
        "    stat_lev, p_lev = stats.levene(mov_der, imag_der)\n",
        "    print(f\"\\n Levene (homogeneidad de varianzas):\")\n",
        "    print(f\"   - p-value: {p_lev:.6f}\")\n",
        "    print(f\"   - Varianzas: {'IGUALES' if p_lev > 0.05 else 'DIFERENTES'}\")\n",
        "\n",
        "    # t-test\n",
        "    stat_test, p_test = stats.ttest_ind(mov_der, imag_der, equal_var=(p_lev > 0.05))\n",
        "    prueba = \"t-test de Student\"\n",
        "    print(f\"\\n {prueba}:\")\n",
        "    print(f\"   - Estadístico t: {stat_test:.6f}\")\n",
        "    print(f\"   - p-value: {p_test:.6f}\")\n",
        "else:\n",
        "    # Mann-Whitney\n",
        "    stat_test, p_test = stats.mannwhitneyu(mov_der, imag_der, alternative='two-sided')\n",
        "    prueba = \"Mann-Whitney U\"\n",
        "    print(f\"\\n {prueba}:\")\n",
        "    print(f\"   - Estadístico U: {stat_test:.6f}\")\n",
        "    print(f\"   - p-value: {p_test:.6f}\")\n",
        "\n",
        "# PASO 4: Estadísticos descriptivos\n",
        "print(\"ESTADÍSTICOS DESCRIPTIVOS\")\n",
        "\n",
        "print(f\"\\n Movimiento Derecha:\")\n",
        "print(f\"   - Media: {np.mean(mov_der):.8f}\")\n",
        "print(f\"   - Mediana: {np.median(mov_der):.8f}\")\n",
        "print(f\"   - Desv. Est.: {np.std(mov_der, ddof=1):.8f}\")\n",
        "print(f\"   - Min: {np.min(mov_der):.8f}\")\n",
        "print(f\"   - Max: {np.max(mov_der):.8f}\")\n",
        "\n",
        "print(f\"\\n Imaginación Derecha:\")\n",
        "print(f\"   - Media: {np.mean(imag_der):.8f}\")\n",
        "print(f\"   - Mediana: {np.median(imag_der):.8f}\")\n",
        "print(f\"   - Desv. Est.: {np.std(imag_der, ddof=1):.8f}\")\n",
        "print(f\"   - Min: {np.min(imag_der):.8f}\")\n",
        "print(f\"   - Max: {np.max(imag_der):.8f}\")\n",
        "\n",
        "# PASO 5: Conclusión\n",
        "print(\"s CONCLUSIÓN\")\n",
        "\n",
        "if p_test < 0.05:\n",
        "    print(f\"\\n RECHAZAMOS H0 (p={p_test:.6f} < 0.05)\")\n",
        "    print(\"HAY DIFERENCIA ESTADÍSTICAMENTE SIGNIFICATIVA\")\n",
        "    diff = np.mean(mov_der) - np.mean(imag_der) if usar_parametrica else np.median(mov_der) - np.median(imag_der)\n",
        "    if diff > 0:\n",
        "        print(\"Movimiento tiene MAYOR entropía que Imaginación\")\n",
        "    else:\n",
        "        print(\"Imaginación tiene MAYOR entropía que Movimiento\")\n",
        "else:\n",
        "    print(f\"\\nNO RECHAZAMOS H0 (p={p_test:.6f} ≥ 0.05)\")\n",
        "    print(\"NO hay diferencia estadísticamente significativa\")"
      ]
    },
    {
      "cell_type": "markdown",
      "source": [
        "\n",
        "<p align=\"justify\">\n",
        "Los resultados del test de Shapiro-Wilk confirmaron que ambas condiciones presentan una distribución normal, y la prueba de Levene mostró homogeneidad de varianzas. Por tanto, se aplicó una prueba t de Student para muestras independientes.\n",
        "<p align=\"justify\">\n",
        "El análisis arrojó un valor de t = 0.881542 con un p = 0.383567, lo que indica que no existen diferencias estadísticamente significativas entre las condiciones de movimiento e imaginación motora (p ≥ 0.05). Sin embargo, los estadísticos descriptivos muestran que la media de entropía es ligeramente mayor durante el movimiento real (0.9753) que durante la imaginación (0.9725), lo que sugiere la existencia de una diferencia pequeña pero coherente en la dinámica neuronal entre ambas tareas.\n",
        "<p align=\"justify\">\n",
        "Desde un punto de vista neurofisiológico, esta ligera diferencia puede deberse a que la ejecución real del movimiento implica una mayor activación sensoriomotora y retroalimentación propioceptiva, lo que aumenta la complejidad y coordinación de las señales cerebrales registradas. En cambio, durante la imaginación motora, la activación cortical es similar en topografía pero de menor intensidad y sincronización, ya que no se produce la salida motora ni la retroalimentación sensorial asociada.\n",
        "<p align=\"justify\">\n",
        "En conjunto, estos resultados respaldan la idea de que la imaginación motora reproduce de forma parcial la actividad cerebral del movimiento real, activando redes neuronales similares aunque con menor nivel de complejidad. Esto coincide con los fundamentos teóricos de los sistemas BCI basados en imaginación motora, donde pequeñas diferencias en la entropía pueden reflejar la naturaleza interna y no ejecutiva de la tarea imaginada [8][9][11]."
      ],
      "metadata": {
        "id": "0GaPEoVKZEei"
      },
      "id": "0GaPEoVKZEei"
    },
    {
      "cell_type": "code",
      "execution_count": null,
      "id": "HyAbwtoAcUwm",
      "metadata": {
        "id": "HyAbwtoAcUwm",
        "outputId": "ff4579b2-f8b7-422f-ddb6-c525b18c61f4"
      },
      "outputs": [
        {
          "name": "stdout",
          "output_type": "stream",
          "text": [
            "TAMAÑO DEL EFECTO\n",
            "\n",
            " Cohen's d: 0.278768\n",
            "   Interpretación: Efecto mediano\n"
          ]
        }
      ],
      "source": [
        "\n",
        "# PASO 6: Tamaño del efecto\n",
        "print(\"TAMAÑO DEL EFECTO\")\n",
        "\n",
        "if usar_parametrica:\n",
        "    # Cálculo de Cohen's d\n",
        "    mean1, mean2 = np.mean(mov_der), np.mean(imag_der)\n",
        "    sd1, sd2 = np.std(mov_der, ddof=1), np.std(imag_der, ddof=1)\n",
        "    n1, n2 = len(mov_der), len(imag_der)\n",
        "    pooled_sd = np.sqrt(((n1 - 1) * sd1**2 + (n2 - 1) * sd2**2) / (n1 + n2 - 2))\n",
        "    cohens_d = (mean1 - mean2) / pooled_sd\n",
        "\n",
        "    print(f\"\\n Cohen's d: {cohens_d:.6f}\")\n",
        "    print(\"   Interpretación:\", end=\" \")\n",
        "    if abs(cohens_d) < 0.2:\n",
        "        print(\"Efecto pequeño\")\n",
        "    elif abs(cohens_d) < 0.5:\n",
        "        print(\"Efecto mediano\")\n",
        "    elif abs(cohens_d) < 0.8:\n",
        "        print(\"Efecto grande\")\n",
        "    else:\n",
        "        print(\"Efecto muy grande\")\n",
        "\n",
        "else:\n",
        "    # Cálculo del tamaño del efecto para Mann-Whitney (r = Z / √N)\n",
        "    n1, n2 = len(mov_der), len(imag_der)\n",
        "    # Convertir estadístico U a Z aproximado\n",
        "    mean_U = n1 * n2 / 2\n",
        "    std_U = np.sqrt(n1 * n2 * (n1 + n2 + 1) / 12)\n",
        "    z = (stat_test - mean_U) / std_U\n",
        "    r = abs(z) / np.sqrt(n1 + n2)\n",
        "\n",
        "    print(f\"\\n r del efecto (Mann-Whitney): {r:.6f}\")\n",
        "    print(\"   Interpretación:\", end=\" \")\n",
        "    if r < 0.1:\n",
        "        print(\"Efecto pequeño\")\n",
        "    elif r < 0.3:\n",
        "        print(\"Efecto mediano\")\n",
        "    elif r < 0.5:\n",
        "        print(\"Efecto grande\")\n",
        "    else:\n",
        "        print(\"Efecto muy grande\")"
      ]
    },
    {
      "cell_type": "markdown",
      "source": [
        "<p align=\"justify\">\n",
        "El tamaño del efecto, calculado mediante Cohen’s, indica un efecto pequeño a mediano, lo que sugiere que, aunque la diferencia entre las condiciones de movimiento e imaginación no es estadísticamente significativa, sí existe una tendencia funcional moderada. Este valor refleja que las variaciones en la entropía entre ambas tareas, aunque sutiles, podrían tener relevancia neurofisiológica, ya que apuntan a una activación cerebral similar pero ligeramente menos compleja durante la imaginación motora en comparación con el movimiento real [8][9]."
      ],
      "metadata": {
        "id": "pupTt9OIZJPX"
      },
      "id": "pupTt9OIZJPX"
    },
    {
      "cell_type": "markdown",
      "id": "Fqce3Kd8i4D8",
      "metadata": {
        "id": "Fqce3Kd8i4D8"
      },
      "source": [
        "**Movimiento vs Imaginación - Región Izquierda**"
      ]
    },
    {
      "cell_type": "code",
      "execution_count": null,
      "id": "506be083",
      "metadata": {
        "id": "506be083",
        "outputId": "494f08d0-5408-4612-e02e-0f22ff6e6110"
      },
      "outputs": [
        {
          "name": "stdout",
          "output_type": "stream",
          "text": [
            "PRUEBA ESTADÍSTICA\n",
            "Movimiento vs Imaginación - Región Izquierda\n",
            "\n",
            " HIPÓTESIS:\n",
            "   H0: No hay diferencia significativa entre Movimiento e Imaginación (Izquierda)\n",
            "   H1: Hay diferencia significativa entre Movimiento e Imaginación (Izquierda)\n",
            "   α = 0.05\n",
            "PRUEBA DE NORMALIDAD (Shapiro-Wilk)\n",
            "\n",
            " Movimiento Izquierda:\n",
            "   - N: 20\n",
            "   - Estadístico W: 0.971031\n",
            "   - p-value: 0.776483\n",
            "   - Conclusión: NORMAL\n",
            "\n",
            " Imaginación Izquierda:\n",
            "   - N: 20\n",
            "   - Estadístico W: 0.961187\n",
            "   - p-value: 0.567820\n",
            "   - Conclusión: NORMAL\n",
            "\n",
            " Decisión: PRUEBA PARAMÉTRICA (t-test)\n",
            "PRUEBA DE COMPARACIÓN\n",
            "\n",
            " Levene (homogeneidad de varianzas):\n",
            "   - p-value: 0.524488\n",
            "   - Varianzas: IGUALES\n",
            "\n",
            " t-test de Student:\n",
            "   - Estadístico t: 0.080324\n",
            "   - p-value: 0.936401\n",
            "ESTADÍSTICOS DESCRIPTIVOS\n",
            "\n",
            " Movimiento Izquierda:\n",
            "   - Media: 0.97517827\n",
            "   - Mediana: 0.97542858\n",
            "   - Desv. Est.: 0.00841047\n",
            "   - Min: 0.96064172\n",
            "   - Max: 0.99063751\n",
            "\n",
            " Imaginación Izquierda:\n",
            "   - Media: 0.97494358\n",
            "   - Mediana: 0.97624873\n",
            "   - Desv. Est.: 0.01000011\n",
            "   - Min: 0.95256409\n",
            "   - Max: 0.99243855\n",
            "CONCLUSIÓN\n",
            "\n",
            "NO RECHAZAMOS H0 (p=0.936401 ≥ 0.05)\n",
            " NO hay diferencia estadísticamente significativa\n"
          ]
        }
      ],
      "source": [
        "from scipy import stats\n",
        "\n",
        "# Cargar los datos\n",
        "df_resultados = pd.read_csv('result_final_.csv')\n",
        "\n",
        "print( \"PRUEBA ESTADÍSTICA\")\n",
        "print(\"Movimiento vs Imaginación - Región Izquierda\")\n",
        "\n",
        "# Preparar datos\n",
        "df_izq = df_resultados[df_resultados['Tarea'].isin(['Movimiento_Izq', 'Imaginacion_Izq'])].copy()\n",
        "mov_izq = df_izq[df_izq['Tarea'] == 'Movimiento_Izq']['Promedio_Entropia_Izquierda'].values\n",
        "imag_izq = df_izq[df_izq['Tarea'] == 'Imaginacion_Izq']['Promedio_Entropia_Izquierda'].values\n",
        "\n",
        "# HIPÓTESIS\n",
        "print(\"\\n HIPÓTESIS:\")\n",
        "print(\"   H0: No hay diferencia significativa entre Movimiento e Imaginación (Izquierda)\")\n",
        "print(\"   H1: Hay diferencia significativa entre Movimiento e Imaginación (Izquierda)\")\n",
        "print(\"   α = 0.05\")\n",
        "\n",
        "# PASO 1: Normalidad\n",
        "print(\"PRUEBA DE NORMALIDAD (Shapiro-Wilk)\")\n",
        "\n",
        "stat_mov, p_mov = stats.shapiro(mov_izq)\n",
        "stat_imag, p_imag = stats.shapiro(imag_izq)\n",
        "\n",
        "print(f\"\\n Movimiento Izquierda:\")\n",
        "print(f\"   - N: {len(mov_izq)}\")\n",
        "print(f\"   - Estadístico W: {stat_mov:.6f}\")\n",
        "print(f\"   - p-value: {p_mov:.6f}\")\n",
        "print(f\"   - Conclusión: {'NORMAL' if p_mov > 0.05 else 'NO NORMAL'}\")\n",
        "\n",
        "print(f\"\\n Imaginación Izquierda:\")\n",
        "print(f\"   - N: {len(imag_izq)}\")\n",
        "print(f\"   - Estadístico W: {stat_imag:.6f}\")\n",
        "print(f\"   - p-value: {p_imag:.6f}\")\n",
        "print(f\"   - Conclusión: {'NORMAL' if p_imag > 0.05 else 'NO NORMAL'}\")\n",
        "\n",
        "# PASO 2: Elegir prueba\n",
        "usar_parametrica = (p_mov > 0.05) and (p_imag > 0.05)\n",
        "\n",
        "print(f\"\\n Decisión: {'PRUEBA PARAMÉTRICA (t-test)' if usar_parametrica else 'PRUEBA NO PARAMÉTRICA (Mann-Whitney)'}\")\n",
        "\n",
        "# PASO 3: Prueba de comparación\n",
        "print(\"PRUEBA DE COMPARACIÓN\")\n",
        "\n",
        "if usar_parametrica:\n",
        "    # Levene\n",
        "    stat_lev, p_lev = stats.levene(mov_izq, imag_izq)\n",
        "    print(f\"\\n Levene (homogeneidad de varianzas):\")\n",
        "    print(f\"   - p-value: {p_lev:.6f}\")\n",
        "    print(f\"   - Varianzas: {'IGUALES' if p_lev > 0.05 else 'DIFERENTES'}\")\n",
        "\n",
        "    # t-test\n",
        "    stat_test, p_test = stats.ttest_ind(mov_izq, imag_izq, equal_var=(p_lev > 0.05))\n",
        "    prueba = \"t-test de Student\"\n",
        "    print(f\"\\n {prueba}:\")\n",
        "    print(f\"   - Estadístico t: {stat_test:.6f}\")\n",
        "    print(f\"   - p-value: {p_test:.6f}\")\n",
        "else:\n",
        "    # Mann-Whitney\n",
        "    stat_test, p_test = stats.mannwhitneyu(mov_izq, imag_izq, alternative='two-sided')\n",
        "    prueba = \"Mann-Whitney U\"\n",
        "    print(f\"\\n {prueba}:\")\n",
        "    print(f\"   - Estadístico U: {stat_test:.6f}\")\n",
        "    print(f\"   - p-value: {p_test:.6f}\")\n",
        "\n",
        "# PASO 4: Estadísticos descriptivos\n",
        "print(\"ESTADÍSTICOS DESCRIPTIVOS\")\n",
        "\n",
        "\n",
        "print(f\"\\n Movimiento Izquierda:\")\n",
        "print(f\"   - Media: {np.mean(mov_izq):.8f}\")\n",
        "print(f\"   - Mediana: {np.median(mov_izq):.8f}\")\n",
        "print(f\"   - Desv. Est.: {np.std(mov_izq, ddof=1):.8f}\")\n",
        "print(f\"   - Min: {np.min(mov_izq):.8f}\")\n",
        "print(f\"   - Max: {np.max(mov_izq):.8f}\")\n",
        "\n",
        "print(f\"\\n Imaginación Izquierda:\")\n",
        "print(f\"   - Media: {np.mean(imag_izq):.8f}\")\n",
        "print(f\"   - Mediana: {np.median(imag_izq):.8f}\")\n",
        "print(f\"   - Desv. Est.: {np.std(imag_izq, ddof=1):.8f}\")\n",
        "print(f\"   - Min: {np.min(imag_izq):.8f}\")\n",
        "print(f\"   - Max: {np.max(imag_izq):.8f}\")\n",
        "\n",
        "# PASO 5: Conclusión\n",
        "print(\"CONCLUSIÓN\")\n",
        "\n",
        "if p_test < 0.05:\n",
        "    print(f\"\\n RECHAZAMOS H0 (p={p_test:.6f} < 0.05)\")\n",
        "    print(\" HAY DIFERENCIA ESTADÍSTICAMENTE SIGNIFICATIVA\")\n",
        "    diff = np.mean(mov_izq) - np.mean(imag_izq) if usar_parametrica else np.median(mov_izq) - np.median(imag_izq)\n",
        "    if diff > 0:\n",
        "        print(\"Movimiento tiene MAYOR entropía que Imaginación\")\n",
        "    else:\n",
        "        print(\"Imaginación tiene MAYOR entropía que Movimiento\")\n",
        "else:\n",
        "    print(f\"\\nNO RECHAZAMOS H0 (p={p_test:.6f} ≥ 0.05)\")\n",
        "    print(\"NO hay diferencia estadísticamente significativa\")"
      ]
    },
    {
      "cell_type": "markdown",
      "source": [
        "<p align=\"justify\">\n",
        " Las pruebas de Shapiro-Wilk confirmaron que ambas condiciones presentan una distribución normal, y la prueba de Levene indicó que las varianzas son homogéneas. Por tanto, se aplicó una prueba t de Student para muestras independientes.\n",
        "<p align=\"justify\">\n",
        "El resultado del t-test (t = 0.080324; p = 0.936401) muestra que no existen diferencias estadísticamente significativas entre ambas condiciones (p ≥ 0.05). Los valores descriptivos confirman esta similitud, ya que las medias de entropía para el movimiento (M = 0.9752) y la imaginación (M = 0.9749) son prácticamente iguales, con desviaciones estándar bajas que reflejan una alta consistencia en los datos.\n",
        "<p align=\"justify\">\n",
        "Desde una perspectiva neurofisiológica, esta ausencia de diferencias relevantes sugiere que la imaginación motora izquierda activa de manera muy similar las redes corticales que intervienen en la ejecución real del movimiento. Esto coincide con la literatura que señala que la imaginación motora reproduce los patrones espaciales de activación del movimiento, aunque con menor participación sensoriomotora.\n",
        "<p align=\"justify\">\n",
        "La gran similitud entre las condiciones podría deberse a que la región motora izquierda, generalmente asociada con el control de la mano derecha (dominante en la mayoría de los participantes), muestra una mayor eficiencia y automatización tanto en la ejecución como en la representación mental del movimiento. En este sentido, la estabilidad y la casi igualdad en los valores de entropía reflejan una organización cortical consolidada que responde de manera consistente ante ambos tipos de tareas, confirmando la estrecha relación funcional entre movimiento real e imaginación motora en el hemisferio dominante [8][9]."
      ],
      "metadata": {
        "id": "7Ls-2d01ZMt0"
      },
      "id": "7Ls-2d01ZMt0"
    },
    {
      "cell_type": "code",
      "execution_count": null,
      "id": "eC6leDbscfuj",
      "metadata": {
        "id": "eC6leDbscfuj",
        "outputId": "7c224aa6-48d3-41c0-b866-717c9ef2cd0f"
      },
      "outputs": [
        {
          "name": "stdout",
          "output_type": "stream",
          "text": [
            "TAMAÑO DEL EFECTO\n",
            "\n",
            " Cohen's d: 0.025401\n",
            "   Interpretación: Efecto pequeño\n"
          ]
        }
      ],
      "source": [
        "# PASO 6: Tamaño del efecto\n",
        "print(\"TAMAÑO DEL EFECTO\")\n",
        "\n",
        "if usar_parametrica:\n",
        "    # Cálculo de Cohen's d\n",
        "    mean1, mean2 = np.mean(mov_izq), np.mean(imag_izq)\n",
        "    sd1, sd2 = np.std(mov_izq, ddof=1), np.std(imag_izq, ddof=1)\n",
        "    n1, n2 = len(mov_izq), len(imag_izq)\n",
        "    pooled_sd = np.sqrt(((n1 - 1) * sd1**2 + (n2 - 1) * sd2**2) / (n1 + n2 - 2))\n",
        "    cohens_d = (mean1 - mean2) / pooled_sd\n",
        "\n",
        "    print(f\"\\n Cohen's d: {cohens_d:.6f}\")\n",
        "    print(\"   Interpretación:\", end=\" \")\n",
        "    if abs(cohens_d) < 0.2:\n",
        "        print(\"Efecto pequeño\")\n",
        "    elif abs(cohens_d) < 0.5:\n",
        "        print(\"Efecto mediano\")\n",
        "    elif abs(cohens_d) < 0.8:\n",
        "        print(\"Efecto grande\")\n",
        "    else:\n",
        "        print(\"Efecto muy grande\")\n",
        "\n",
        "else:\n",
        "    # Cálculo del tamaño del efecto para Mann-Whitney (r = Z / √N)\n",
        "    n1, n2 = len(mov_izq), len(imag_izq)\n",
        "    # Convertir estadístico U a Z aproximado\n",
        "    mean_U = n1 * n2 / 2\n",
        "    std_U = np.sqrt(n1 * n2 * (n1 + n2 + 1) / 12)\n",
        "    z = (stat_test - mean_U) / std_U\n",
        "    r = abs(z) / np.sqrt(n1 + n2)\n",
        "\n",
        "    print(f\"\\n r del efecto (Mann-Whitney): {r:.6f}\")\n",
        "    print(\"   Interpretación:\", end=\" \")\n",
        "    if r < 0.1:\n",
        "        print(\"Efecto pequeño\")\n",
        "    elif r < 0.3:\n",
        "        print(\"Efecto mediano\")\n",
        "    elif r < 0.5:\n",
        "        print(\"Efecto grande\")\n",
        "    else:\n",
        "        print(\"Efecto muy grande\")\n"
      ]
    },
    {
      "cell_type": "markdown",
      "source": [
        "<p align=\"justify\">\n",
        "En cuanto al tamaño del efecto, el valor de Cohen’s indica un efecto extremadamente pequeño, lo que confirma que las diferencias entre la condición de movimiento y la de imaginación en la región izquierda son mínimas y prácticamente irrelevantes desde el punto de vista estadístico. Este resultado refuerza la conclusión del t-test, evidenciando que la actividad cortical durante la imaginación motora reproduce casi de forma idéntica los patrones del movimiento real. En términos neurofisiológicos, esto puede interpretarse como una superposición funcional muy alta entre ambas tareas, especialmente en áreas motoras del hemisferio izquierdo, donde la representación del movimiento es más automatizada y estable debido a la dominancia motora [8][9]."
      ],
      "metadata": {
        "id": "Bx0uTUr2ZQzZ"
      },
      "id": "Bx0uTUr2ZQzZ"
    },
    {
      "cell_type": "markdown",
      "id": "xPHRbQzsi8R8",
      "metadata": {
        "id": "xPHRbQzsi8R8"
      },
      "source": [
        "**Movimiento: Derecha vs Izquierda - Región Central**"
      ]
    },
    {
      "cell_type": "code",
      "execution_count": null,
      "id": "aa9b023f",
      "metadata": {
        "id": "aa9b023f",
        "outputId": "fd6f6365-8194-466b-8d9c-d459129f9e26"
      },
      "outputs": [
        {
          "name": "stdout",
          "output_type": "stream",
          "text": [
            "PRUEBA ESTADÍSTICA\n",
            "Movimiento: Derecha vs Izquierda - Región Central\n",
            "\n",
            " HIPÓTESIS:\n",
            "   H0: No hay diferencia significativa entre Movimiento Derecha e Izquierda\n",
            "   H1: Hay diferencia significativa entre Movimiento Derecha e Izquierda\n",
            "   α = 0.05\n",
            " PRUEBA DE NORMALIDAD (Shapiro-Wilk)\n",
            "\n",
            " Movimiento Derecha:\n",
            "   - N: 20\n",
            "   - Estadístico W: 0.965585\n",
            "   - p-value: 0.660281\n",
            "   - Conclusión: NORMAL\n",
            "\n",
            " Movimiento Izquierda:\n",
            "   - N: 20\n",
            "   - Estadístico W: 0.971031\n",
            "   - p-value: 0.776483\n",
            "   - Conclusión: NORMAL\n",
            "\n",
            " Decisión: PRUEBA PARAMÉTRICA (t-test)\n",
            " PRUEBA DE COMPARACIÓN\n",
            "\n",
            " Levene (homogeneidad de varianzas):\n",
            "   - p-value: 0.844310\n",
            "   - Varianzas: IGUALES\n",
            "\n",
            " t-test de Student:\n",
            "   - Estadístico t: 0.051471\n",
            "   - p-value: 0.959220\n",
            "ESTADÍSTICOS DESCRIPTIVOS\n",
            "\n",
            " Movimiento Derecha:\n",
            "   - Media: 0.97531369\n",
            "   - Mediana: 0.97450315\n",
            "   - Desv. Est.: 0.00822838\n",
            "   - Min: 0.95822000\n",
            "   - Max: 0.98821930\n",
            "\n",
            " Movimiento Izquierda:\n",
            "   - Media: 0.97517827\n",
            "   - Mediana: 0.97542858\n",
            "   - Desv. Est.: 0.00841047\n",
            "   - Min: 0.96064172\n",
            "   - Max: 0.99063751\n",
            "CONCLUSIÓN\n",
            "\n",
            "NO RECHAZAMOS H0 (p=0.959220 ≥ 0.05)\n",
            "NO hay diferencia estadísticamente significativa\n"
          ]
        }
      ],
      "source": [
        "from scipy import stats\n",
        "\n",
        "# Cargar los datos\n",
        "df_resultados = pd.read_csv('result_final_.csv')\n",
        "\n",
        "print( \"PRUEBA ESTADÍSTICA\")\n",
        "print( \"Movimiento: Derecha vs Izquierda - Región Central\")\n",
        "\n",
        "# Preparar datos\n",
        "df_mov = df_resultados[df_resultados['Tarea'].isin(['Movimiento_Der', 'Movimiento_Izq'])].copy()\n",
        "mov_der = df_mov[df_mov['Tarea'] == 'Movimiento_Der']['Promedio_Entropia_Central'].values\n",
        "mov_izq = df_mov[df_mov['Tarea'] == 'Movimiento_Izq']['Promedio_Entropia_Central'].values\n",
        "\n",
        "# HIPÓTESIS\n",
        "print(\"\\n HIPÓTESIS:\")\n",
        "print(\"   H0: No hay diferencia significativa entre Movimiento Derecha e Izquierda\")\n",
        "print(\"   H1: Hay diferencia significativa entre Movimiento Derecha e Izquierda\")\n",
        "print(\"   α = 0.05\")\n",
        "\n",
        "# PASO 1: Normalidad\n",
        "print(\" PRUEBA DE NORMALIDAD (Shapiro-Wilk)\")\n",
        "\n",
        "stat_der, p_der = stats.shapiro(mov_der)\n",
        "stat_izq, p_izq = stats.shapiro(mov_izq)\n",
        "\n",
        "print(f\"\\n Movimiento Derecha:\")\n",
        "print(f\"   - N: {len(mov_der)}\")\n",
        "print(f\"   - Estadístico W: {stat_der:.6f}\")\n",
        "print(f\"   - p-value: {p_der:.6f}\")\n",
        "print(f\"   - Conclusión: {'NORMAL' if p_der > 0.05 else 'NO NORMAL'}\")\n",
        "\n",
        "print(f\"\\n Movimiento Izquierda:\")\n",
        "print(f\"   - N: {len(mov_izq)}\")\n",
        "print(f\"   - Estadístico W: {stat_izq:.6f}\")\n",
        "print(f\"   - p-value: {p_izq:.6f}\")\n",
        "print(f\"   - Conclusión: {'NORMAL' if p_izq > 0.05 else 'NO NORMAL'}\")\n",
        "\n",
        "# PASO 2: Elegir prueba\n",
        "usar_parametrica = (p_der > 0.05) and (p_izq > 0.05)\n",
        "\n",
        "print(f\"\\n Decisión: {'PRUEBA PARAMÉTRICA (t-test)' if usar_parametrica else 'PRUEBA NO PARAMÉTRICA (Mann-Whitney)'}\")\n",
        "\n",
        "# PASO 3: Prueba de comparación\n",
        "print(\" PRUEBA DE COMPARACIÓN\")\n",
        "\n",
        "if usar_parametrica:\n",
        "    # Levene\n",
        "    stat_lev, p_lev = stats.levene(mov_der, mov_izq)\n",
        "    print(f\"\\n Levene (homogeneidad de varianzas):\")\n",
        "    print(f\"   - p-value: {p_lev:.6f}\")\n",
        "    print(f\"   - Varianzas: {'IGUALES' if p_lev > 0.05 else 'DIFERENTES'}\")\n",
        "\n",
        "    # t-test\n",
        "    stat_test, p_test = stats.ttest_ind(mov_der, mov_izq, equal_var=(p_lev > 0.05))\n",
        "    prueba = \"t-test de Student\"\n",
        "    print(f\"\\n {prueba}:\")\n",
        "    print(f\"   - Estadístico t: {stat_test:.6f}\")\n",
        "    print(f\"   - p-value: {p_test:.6f}\")\n",
        "else:\n",
        "    # Mann-Whitney\n",
        "    stat_test, p_test = stats.mannwhitneyu(mov_der, mov_izq, alternative='two-sided')\n",
        "    prueba = \"Mann-Whitney U\"\n",
        "    print(f\"\\n {prueba}:\")\n",
        "    print(f\"   - Estadístico U: {stat_test:.6f}\")\n",
        "    print(f\"   - p-value: {p_test:.6f}\")\n",
        "\n",
        "# PASO 4: Estadísticos descriptivos\n",
        "print(\"ESTADÍSTICOS DESCRIPTIVOS\")\n",
        "\n",
        "print(f\"\\n Movimiento Derecha:\")\n",
        "print(f\"   - Media: {np.mean(mov_der):.8f}\")\n",
        "print(f\"   - Mediana: {np.median(mov_der):.8f}\")\n",
        "print(f\"   - Desv. Est.: {np.std(mov_der, ddof=1):.8f}\")\n",
        "print(f\"   - Min: {np.min(mov_der):.8f}\")\n",
        "print(f\"   - Max: {np.max(mov_der):.8f}\")\n",
        "\n",
        "print(f\"\\n Movimiento Izquierda:\")\n",
        "print(f\"   - Media: {np.mean(mov_izq):.8f}\")\n",
        "print(f\"   - Mediana: {np.median(mov_izq):.8f}\")\n",
        "print(f\"   - Desv. Est.: {np.std(mov_izq, ddof=1):.8f}\")\n",
        "print(f\"   - Min: {np.min(mov_izq):.8f}\")\n",
        "print(f\"   - Max: {np.max(mov_izq):.8f}\")\n",
        "\n",
        "# PASO 5: Conclusión\n",
        "print(\"CONCLUSIÓN\")\n",
        "\n",
        "\n",
        "if p_test < 0.05:\n",
        "    print(f\"\\n RECHAZAMOS H0 (p={p_test:.6f} < 0.05)\")\n",
        "    print(\" HAY DIFERENCIA ESTADÍSTICAMENTE SIGNIFICATIVA\")\n",
        "    diff = np.mean(mov_der) - np.mean(mov_izq) if usar_parametrica else np.median(mov_der) - np.median(mov_izq)\n",
        "    if diff > 0:\n",
        "        print(\"Movimiento Derecha tiene MAYOR entropía que Izquierda\")\n",
        "    else:\n",
        "        print(\"Movimiento Izquierda tiene MAYOR entropía que Derecha\")\n",
        "else:\n",
        "    print(f\"\\nNO RECHAZAMOS H0 (p={p_test:.6f} ≥ 0.05)\")\n",
        "    print(\"NO hay diferencia estadísticamente significativa\")\n",
        "\n"
      ]
    },
    {
      "cell_type": "markdown",
      "source": [
        "<p align=\"justify\">\n",
        "El análisis comparativo entre los movimientos derecho e izquierdo en la región central muestra que no existen diferencias estadísticamente significativas entre ambas condiciones. Los resultados del test de Shapiro-Wilk confirman que los datos siguen una distribución normal en ambos casos, y la prueba de Levene indica homogeneidad de varianzas, por lo que el uso del t-test fue adecuado.\n",
        "<p align=\"justify\">\n",
        "Los valores descriptivos revelan que las medias de entropía son prácticamente iguales (0.9753 para el movimiento derecho y 0.9751 para el izquierdo), con una dispersión muy similar. Esto sugiere que la actividad cortical en la zona central se mantiene altamente simétrica y equilibrada durante la ejecución de movimientos hacia ambos lados. Desde un punto de vista neurofisiológico, esta simetría refleja una activación coordinada de las áreas motoras bilaterales, en especial del área motora suplementaria y la corteza motora primaria, que participan en la planificación y ejecución de movimientos tanto del hemisferio derecho como del izquierdo.\n",
        "<p align=\"justify\">\n",
        "En conjunto, estos resultados indican que el control motor en la región central del cerebro presenta una respuesta homogénea para ambos hemisferios, lo que respalda la idea de que esta zona actúa como un centro integrador bilateral del movimiento, manteniendo una dinámica cortical estable y equilibrada [8][9]."
      ],
      "metadata": {
        "id": "uoXAGFr-ZV1V"
      },
      "id": "uoXAGFr-ZV1V"
    },
    {
      "cell_type": "code",
      "execution_count": null,
      "id": "39khtmWWch2i",
      "metadata": {
        "id": "39khtmWWch2i",
        "outputId": "76dc9570-f0fa-450e-8724-32fdde58b92f"
      },
      "outputs": [
        {
          "name": "stdout",
          "output_type": "stream",
          "text": [
            "TAMAÑO DEL EFECTO\n",
            "\n",
            " Cohen's d: 0.016277\n",
            "   Interpretación: Efecto pequeño\n"
          ]
        }
      ],
      "source": [
        "# PASO 6: Tamaño del efecto\n",
        "print(\"TAMAÑO DEL EFECTO\")\n",
        "\n",
        "if usar_parametrica:\n",
        "    # Cálculo de Cohen's d\n",
        "    mean1, mean2 = np.mean(mov_der), np.mean(mov_izq)\n",
        "    sd1, sd2 = np.std(mov_der, ddof=1), np.std(mov_izq, ddof=1)\n",
        "    n1, n2 = len(mov_der), len(mov_izq)\n",
        "    pooled_sd = np.sqrt(((n1 - 1) * sd1**2 + (n2 - 1) * sd2**2) / (n1 + n2 - 2))\n",
        "    cohens_d = (mean1 - mean2) / pooled_sd\n",
        "\n",
        "    print(f\"\\n Cohen's d: {cohens_d:.6f}\")\n",
        "    print(\"   Interpretación:\", end=\" \")\n",
        "    if abs(cohens_d) < 0.2:\n",
        "        print(\"Efecto pequeño\")\n",
        "    elif abs(cohens_d) < 0.5:\n",
        "        print(\"Efecto mediano\")\n",
        "    elif abs(cohens_d) < 0.8:\n",
        "        print(\"Efecto grande\")\n",
        "    else:\n",
        "        print(\"Efecto muy grande\")\n",
        "\n",
        "else:\n",
        "    # Cálculo del tamaño del efecto para Mann-Whitney (r = Z / √N)\n",
        "    n1, n2 = len(mov_der), len(mov_izq)\n",
        "    # Convertir estadístico U a Z aproximado\n",
        "    mean_U = n1 * n2 / 2\n",
        "    std_U = np.sqrt(n1 * n2 * (n1 + n2 + 1) / 12)\n",
        "    z = (stat_test - mean_U) / std_U\n",
        "    r = abs(z) / np.sqrt(n1 + n2)\n",
        "\n",
        "    print(f\"\\n r del efecto (Mann-Whitney): {r:.6f}\")\n",
        "    print(\"   Interpretación:\", end=\" \")\n",
        "    if r < 0.1:\n",
        "        print(\"Efecto pequeño\")\n",
        "    elif r < 0.3:\n",
        "        print(\"Efecto mediano\")\n",
        "    elif r < 0.5:\n",
        "        print(\"Efecto grande\")\n",
        "    else:\n",
        "        print(\"Efecto muy grande\")"
      ]
    },
    {
      "cell_type": "markdown",
      "source": [
        "<p align=\"justify\">\n",
        "El tamaño del efecto de Cohen confirma que la magnitud de la diferencia es extremadamente pequeña, lo que respalda la ausencia de cambios relevantes entre ambas condiciones. Este resultado indica que, funcionalmente, la activación neuronal en la zona central se mantiene altamente estable y simétrica, lo que coincide con la naturaleza bilateral de la planificación y ejecución del movimiento en tareas motoras simples [8][9]."
      ],
      "metadata": {
        "id": "33grhvLGZZgD"
      },
      "id": "33grhvLGZZgD"
    },
    {
      "cell_type": "markdown",
      "id": "HwfnNDMsi_2D",
      "metadata": {
        "id": "HwfnNDMsi_2D"
      },
      "source": [
        "**Imaginación: Derecha vs Izquierda - Región Central**"
      ]
    },
    {
      "cell_type": "code",
      "execution_count": null,
      "id": "1910927e",
      "metadata": {
        "id": "1910927e",
        "outputId": "6e5ae516-401c-4b8a-a98e-b96abc71b019"
      },
      "outputs": [
        {
          "name": "stdout",
          "output_type": "stream",
          "text": [
            "PRUEBA ESTADÍSTICA\n",
            "Imaginación: Derecha vs Izquierda - Región Central\n",
            "\n",
            " HIPÓTESIS:\n",
            "   H0: No hay diferencia significativa entre Imaginación Derecha e Izquierda\n",
            "   H1: Hay diferencia significativa entre Imaginación Derecha e Izquierda\n",
            "   α = 0.05\n",
            "PRUEBA DE NORMALIDAD (Shapiro-Wilk)\n",
            "\n",
            " Imaginación Derecha:\n",
            "   - N: 20\n",
            "   - Estadístico W: 0.986530\n",
            "   - p-value: 0.989381\n",
            "   - Conclusión: NORMAL\n",
            "\n",
            " Imaginación Izquierda:\n",
            "   - N: 20\n",
            "   - Estadístico W: 0.961187\n",
            "   - p-value: 0.567820\n",
            "   - Conclusión: NORMAL\n",
            "\n",
            " Decisión: PRUEBA PARAMÉTRICA (t-test)\n",
            "PRUEBA DE COMPARACIÓN\n",
            "\n",
            " Levene (homogeneidad de varianzas):\n",
            "   - p-value: 0.590569\n",
            "   - Varianzas: IGUALES\n",
            "\n",
            " t-test de Student:\n",
            "   - Estadístico t: -0.709817\n",
            "   - p-value: 0.482151\n",
            " ESTADÍSTICOS DESCRIPTIVOS\n",
            "\n",
            " Imaginación Derecha:\n",
            "   - Media: 0.97251999\n",
            "   - Mediana: 0.97122374\n",
            "   - Desv. Est.: 0.01153941\n",
            "   - Min: 0.95079086\n",
            "   - Max: 0.99625966\n",
            "\n",
            " Imaginación Izquierda:\n",
            "   - Media: 0.97494358\n",
            "   - Mediana: 0.97624873\n",
            "   - Desv. Est.: 0.01000011\n",
            "   - Min: 0.95256409\n",
            "   - Max: 0.99243855\n",
            " CONCLUSIÓN\n",
            "\n",
            "NO RECHAZAMOS H0 (p=0.482151 ≥ 0.05)\n",
            " NO hay diferencia estadísticamente significativa\n"
          ]
        }
      ],
      "source": [
        "from scipy import stats\n",
        "\n",
        "# Cargar los datos\n",
        "df_resultados = pd.read_csv('result_final_.csv')\n",
        "\n",
        "print(\"PRUEBA ESTADÍSTICA\")\n",
        "print( \"Imaginación: Derecha vs Izquierda - Región Central\")\n",
        "\n",
        "\n",
        "# Preparar datos\n",
        "df_imag = df_resultados[df_resultados['Tarea'].isin(['Imaginacion_Der', 'Imaginacion_Izq'])].copy()\n",
        "imag_der = df_imag[df_imag['Tarea'] == 'Imaginacion_Der']['Promedio_Entropia_Central'].values\n",
        "imag_izq = df_imag[df_imag['Tarea'] == 'Imaginacion_Izq']['Promedio_Entropia_Central'].values\n",
        "\n",
        "# HIPÓTESIS\n",
        "print(\"\\n HIPÓTESIS:\")\n",
        "print(\"   H0: No hay diferencia significativa entre Imaginación Derecha e Izquierda\")\n",
        "print(\"   H1: Hay diferencia significativa entre Imaginación Derecha e Izquierda\")\n",
        "print(\"   α = 0.05\")\n",
        "\n",
        "# PASO 1: Normalidad\n",
        "print(\"PRUEBA DE NORMALIDAD (Shapiro-Wilk)\")\n",
        "\n",
        "\n",
        "stat_der, p_der = stats.shapiro(imag_der)\n",
        "stat_izq, p_izq = stats.shapiro(imag_izq)\n",
        "\n",
        "print(f\"\\n Imaginación Derecha:\")\n",
        "print(f\"   - N: {len(imag_der)}\")\n",
        "print(f\"   - Estadístico W: {stat_der:.6f}\")\n",
        "print(f\"   - p-value: {p_der:.6f}\")\n",
        "print(f\"   - Conclusión: {'NORMAL' if p_der > 0.05 else 'NO NORMAL'}\")\n",
        "\n",
        "print(f\"\\n Imaginación Izquierda:\")\n",
        "print(f\"   - N: {len(imag_izq)}\")\n",
        "print(f\"   - Estadístico W: {stat_izq:.6f}\")\n",
        "print(f\"   - p-value: {p_izq:.6f}\")\n",
        "print(f\"   - Conclusión: {'NORMAL' if p_izq > 0.05 else 'NO NORMAL'}\")\n",
        "\n",
        "# PASO 2: Elegir prueba\n",
        "usar_parametrica = (p_der > 0.05) and (p_izq > 0.05)\n",
        "\n",
        "print(f\"\\n Decisión: {'PRUEBA PARAMÉTRICA (t-test)' if usar_parametrica else 'PRUEBA NO PARAMÉTRICA (Mann-Whitney)'}\")\n",
        "\n",
        "# PASO 3: Prueba de comparación\n",
        "print(\"PRUEBA DE COMPARACIÓN\")\n",
        "\n",
        "\n",
        "if usar_parametrica:\n",
        "    # Levene\n",
        "    stat_lev, p_lev = stats.levene(imag_der, imag_izq)\n",
        "    print(f\"\\n Levene (homogeneidad de varianzas):\")\n",
        "    print(f\"   - p-value: {p_lev:.6f}\")\n",
        "    print(f\"   - Varianzas: {'IGUALES' if p_lev > 0.05 else 'DIFERENTES'}\")\n",
        "\n",
        "    # t-test\n",
        "    stat_test, p_test = stats.ttest_ind(imag_der, imag_izq, equal_var=(p_lev > 0.05))\n",
        "    prueba = \"t-test de Student\"\n",
        "    print(f\"\\n {prueba}:\")\n",
        "    print(f\"   - Estadístico t: {stat_test:.6f}\")\n",
        "    print(f\"   - p-value: {p_test:.6f}\")\n",
        "else:\n",
        "    # Mann-Whitney\n",
        "    stat_test, p_test = stats.mannwhitneyu(imag_der, imag_izq, alternative='two-sided')\n",
        "    prueba = \"Mann-Whitney U\"\n",
        "    print(f\"\\n {prueba}:\")\n",
        "    print(f\"   - Estadístico U: {stat_test:.6f}\")\n",
        "    print(f\"   - p-value: {p_test:.6f}\")\n",
        "\n",
        "# PASO 4: Estadísticos descriptivos\n",
        "print(\" ESTADÍSTICOS DESCRIPTIVOS\")\n",
        "\n",
        "\n",
        "print(f\"\\n Imaginación Derecha:\")\n",
        "print(f\"   - Media: {np.mean(imag_der):.8f}\")\n",
        "print(f\"   - Mediana: {np.median(imag_der):.8f}\")\n",
        "print(f\"   - Desv. Est.: {np.std(imag_der, ddof=1):.8f}\")\n",
        "print(f\"   - Min: {np.min(imag_der):.8f}\")\n",
        "print(f\"   - Max: {np.max(imag_der):.8f}\")\n",
        "\n",
        "print(f\"\\n Imaginación Izquierda:\")\n",
        "print(f\"   - Media: {np.mean(imag_izq):.8f}\")\n",
        "print(f\"   - Mediana: {np.median(imag_izq):.8f}\")\n",
        "print(f\"   - Desv. Est.: {np.std(imag_izq, ddof=1):.8f}\")\n",
        "print(f\"   - Min: {np.min(imag_izq):.8f}\")\n",
        "print(f\"   - Max: {np.max(imag_izq):.8f}\")\n",
        "\n",
        "# PASO 5: Conclusión\n",
        "print(\" CONCLUSIÓN\")\n",
        "\n",
        "\n",
        "if p_test < 0.05:\n",
        "    print(f\"\\n RECHAZAMOS H0 (p={p_test:.6f} < 0.05)\")\n",
        "    print(\" HAY DIFERENCIA ESTADÍSTICAMENTE SIGNIFICATIVA\")\n",
        "    diff = np.mean(imag_der) - np.mean(imag_izq) if usar_parametrica else np.median(imag_der) - np.median(imag_izq)\n",
        "    if diff > 0:\n",
        "        print(\"Imaginación Derecha tiene MAYOR entropía que Izquierda\")\n",
        "    else:\n",
        "        print(\"Imaginación Izquierda tiene MAYOR entropía que Derecha\")\n",
        "else:\n",
        "    print(f\"\\nNO RECHAZAMOS H0 (p={p_test:.6f} ≥ 0.05)\")\n",
        "    print(\"NO hay diferencia estadísticamente significativa\")"
      ]
    },
    {
      "cell_type": "markdown",
      "source": [
        "<p align=\"justify\">\n",
        "El análisis estadístico entre las condiciones de imaginación de movimiento derecha e izquierda en la región central muestra que no existen diferencias estadísticamente significativas, lo que indica que ambas tareas generan una activación cortical muy similar en esta zona. Los valores promedio de entropía son cercanos (0.9725 para imaginación derecha y 0.9749 para imaginación izquierda), con una dispersión igualmente baja, reflejando una alta consistencia y simetría en la actividad neuronal durante la imaginación motora bilateral.\n",
        "<p align=\"justify\">\n",
        "Este patrón sugiere que la región motora central, encargada de la integración y coordinación de la actividad motora en ambos hemisferios, mantiene una activación equilibrada incluso durante la imaginación, lo que coincide con la evidencia de que las representaciones mentales del movimiento implican redes bilaterales similares a las del movimiento real. La ligera diferencia a favor de la imaginación izquierda, aunque no significativa, podría estar relacionada con variaciones individuales en la dominancia hemisférica o en la precisión del control motor imaginado [8][9]."
      ],
      "metadata": {
        "id": "3N3BRIGRZcd8"
      },
      "id": "3N3BRIGRZcd8"
    },
    {
      "cell_type": "code",
      "execution_count": null,
      "id": "vYi9tFG6cko4",
      "metadata": {
        "id": "vYi9tFG6cko4",
        "outputId": "f0152e5a-2215-4660-a0a7-48cb2eaf78a6"
      },
      "outputs": [
        {
          "name": "stdout",
          "output_type": "stream",
          "text": [
            "TAMAÑO DEL EFECTO\n",
            "\n",
            " Cohen's d: -0.224464\n",
            "   Interpretación: Efecto mediano\n"
          ]
        }
      ],
      "source": [
        "\n",
        "# PASO 6: Tamaño del efecto\n",
        "print(\"TAMAÑO DEL EFECTO\")\n",
        "\n",
        "if usar_parametrica:\n",
        "    # Cálculo de Cohen's d\n",
        "    mean1, mean2 = np.mean(imag_der), np.mean(imag_izq)\n",
        "    sd1, sd2 = np.std(imag_der, ddof=1), np.std(imag_izq, ddof=1)\n",
        "    n1, n2 = len(imag_der), len(imag_izq)\n",
        "    pooled_sd = np.sqrt(((n1 - 1) * sd1**2 + (n2 - 1) * sd2**2) / (n1 + n2 - 2))\n",
        "    cohens_d = (mean1 - mean2) / pooled_sd\n",
        "\n",
        "    print(f\"\\n Cohen's d: {cohens_d:.6f}\")\n",
        "    print(\"   Interpretación:\", end=\" \")\n",
        "    if abs(cohens_d) < 0.2:\n",
        "        print(\"Efecto pequeño\")\n",
        "    elif abs(cohens_d) < 0.5:\n",
        "        print(\"Efecto mediano\")\n",
        "    elif abs(cohens_d) < 0.8:\n",
        "        print(\"Efecto grande\")\n",
        "    else:\n",
        "        print(\"Efecto muy grande\")\n",
        "\n",
        "else:\n",
        "    # Cálculo del tamaño del efecto para Mann-Whitney (r = Z / √N)\n",
        "    n1, n2 = len(imag_der), len(imag_izq)\n",
        "    mean_U = n1 * n2 / 2\n",
        "    std_U = np.sqrt(n1 * n2 * (n1 + n2 + 1) / 12)\n",
        "    z = (stat_test - mean_U) / std_U\n",
        "    r = abs(z) / np.sqrt(n1 + n2)\n",
        "\n",
        "    print(f\"\\n r del efecto (Mann-Whitney): {r:.6f}\")\n",
        "    print(\"   Interpretación:\", end=\" \")\n",
        "    if r < 0.1:\n",
        "        print(\"Efecto pequeño\")\n",
        "    elif r < 0.3:\n",
        "        print(\"Efecto mediano\")\n",
        "    elif r < 0.5:\n",
        "        print(\"Efecto grande\")\n",
        "    else:\n",
        "        print(\"Efecto muy grande\")"
      ]
    },
    {
      "cell_type": "markdown",
      "source": [
        "<p align=\"justify\">\n",
        "El valor de Cohen’s indica un efecto pequeño a mediano, lo que sugiere que, aunque las diferencias entre la imaginación de movimiento derecha e izquierda no alcanzan significancia estadística, sí existe una leve tendencia hacia una mayor entropía durante la imaginación izquierda. Este resultado podría reflejar una asimetría funcional sutil en la actividad cortical central, posiblemente asociada con la dominancia hemisférica contralateral o con mecanismos compensatorios en la planificación mental del movimiento. En conjunto, los resultados apuntan a que la región motora central se activa de forma bilateral y equilibrada, manteniendo un patrón estable de complejidad neuronal durante ambas tareas imaginadas, aunque con ligeras variaciones que podrían tener relevancia funcional [8][9]."
      ],
      "metadata": {
        "id": "GLktLf__Zf32"
      },
      "id": "GLktLf__Zf32"
    },
    {
      "cell_type": "markdown",
      "id": "HNqIvijhibBT",
      "metadata": {
        "id": "HNqIvijhibBT"
      },
      "source": [
        "**Compara los grupos de sujetos (Control vs Paciente) dentro de cada tarea específica**"
      ]
    },
    {
      "cell_type": "code",
      "execution_count": null,
      "id": "FlSTjsE2h9HK",
      "metadata": {
        "id": "FlSTjsE2h9HK",
        "outputId": "3146cb79-87fc-4b7a-8db1-eb7f63738f5e"
      },
      "outputs": [
        {
          "name": "stdout",
          "output_type": "stream",
          "text": [
            "PRUEBA ESTADÍSTICA: Control vs Paciente - Movimiento_Der (Región Derecha)\n",
            "\n",
            "HIPÓTESIS:\n",
            "  H0: No hay diferencia significativa entre Control y Paciente (Movimiento_Der)\n",
            "  H1: Hay diferencia significativa entre Control y Paciente (Movimiento_Der)\n",
            "  α = 0.05\n",
            "\n",
            "PRUEBA DE NORMALIDAD (Shapiro-Wilk)\n",
            "\n",
            " Control:\n",
            "   - N: 10\n",
            "   - Estadístico W: 0.915331\n",
            "   - p-value: 0.319655\n",
            "   - Conclusión: NORMAL\n",
            "\n",
            " Paciente:\n",
            "   - N: 10\n",
            "   - Estadístico W: 0.865592\n",
            "   - p-value: 0.088781\n",
            "   - Conclusión: NORMAL\n",
            "\n",
            "Decisión: PRUEBA PARAMÉTRICA (t-test)\n",
            "\n",
            "PRUEBA DE COMPARACIÓN\n",
            "\n",
            " Levene (homogeneidad de varianzas): p = 0.883694\n",
            "   - Varianzas: IGUALES\n",
            "\n",
            " t-test de Student:\n",
            "   - Estadístico: 5.363610\n",
            "   - p-value: 0.000043\n",
            "\n",
            "ESTADÍSTICOS DESCRIPTIVOS\n",
            "\n",
            " Control:\n",
            "   - Media: 0.98160379\n",
            "   - Mediana: 0.98263004\n",
            "   - Desv. Est.: 0.00500040\n",
            "   - Min: 0.97470043\n",
            "   - Max: 0.98821930\n",
            "\n",
            " Paciente:\n",
            "   - Media: 0.96902359\n",
            "   - Mediana: 0.97064091\n",
            "   - Desv. Est.: 0.00547799\n",
            "   - Min: 0.95822000\n",
            "   - Max: 0.97430587\n",
            "\n",
            "CONCLUSIÓN\n",
            "RECHAZAMOS H0 (p=0.000043 < 0.05)\n",
            "HAY DIFERENCIA ESTADÍSTICAMENTE SIGNIFICATIVA\n",
            "CONTROL tiene MAYOR entropía que PACIENTE\n",
            "PRUEBA ESTADÍSTICA: Control vs Paciente - Movimiento_Izq (Región Izquierda)\n",
            "\n",
            "HIPÓTESIS:\n",
            "  H0: No hay diferencia significativa entre Control y Paciente (Movimiento_Izq)\n",
            "  H1: Hay diferencia significativa entre Control y Paciente (Movimiento_Izq)\n",
            "  α = 0.05\n",
            "\n",
            "PRUEBA DE NORMALIDAD (Shapiro-Wilk)\n",
            "\n",
            " Control:\n",
            "   - N: 11\n",
            "   - Estadístico W: 0.960180\n",
            "   - p-value: 0.773929\n",
            "   - Conclusión: NORMAL\n",
            "\n",
            " Paciente:\n",
            "   - N: 9\n",
            "   - Estadístico W: 0.891940\n",
            "   - p-value: 0.208879\n",
            "   - Conclusión: NORMAL\n",
            "\n",
            "Decisión: PRUEBA PARAMÉTRICA (t-test)\n",
            "\n",
            "PRUEBA DE COMPARACIÓN\n",
            "\n",
            " Levene (homogeneidad de varianzas): p = 0.441467\n",
            "   - Varianzas: IGUALES\n",
            "\n",
            " t-test de Student:\n",
            "   - Estadístico: 5.800050\n",
            "   - p-value: 0.000017\n",
            "\n",
            "ESTADÍSTICOS DESCRIPTIVOS\n",
            "\n",
            " Control:\n",
            "   - Media: 0.98116298\n",
            "   - Mediana: 0.98037703\n",
            "   - Desv. Est.: 0.00474823\n",
            "   - Min: 0.97493329\n",
            "   - Max: 0.99063751\n",
            "\n",
            " Paciente:\n",
            "   - Media: 0.96786362\n",
            "   - Mediana: 0.96727705\n",
            "   - Desv. Est.: 0.00551143\n",
            "   - Min: 0.96064172\n",
            "   - Max: 0.97443672\n",
            "\n",
            "CONCLUSIÓN\n",
            "RECHAZAMOS H0 (p=0.000017 < 0.05)\n",
            "HAY DIFERENCIA ESTADÍSTICAMENTE SIGNIFICATIVA\n",
            "CONTROL tiene MAYOR entropía que PACIENTE\n",
            "PRUEBA ESTADÍSTICA: Control vs Paciente - Imaginacion_Der (Región Derecha)\n",
            "\n",
            "HIPÓTESIS:\n",
            "  H0: No hay diferencia significativa entre Control y Paciente (Imaginacion_Der)\n",
            "  H1: Hay diferencia significativa entre Control y Paciente (Imaginacion_Der)\n",
            "  α = 0.05\n",
            "\n",
            "PRUEBA DE NORMALIDAD (Shapiro-Wilk)\n",
            "\n",
            " Control:\n",
            "   - N: 8\n",
            "   - Estadístico W: 0.912356\n",
            "   - p-value: 0.370955\n",
            "   - Conclusión: NORMAL\n",
            "\n",
            " Paciente:\n",
            "   - N: 12\n",
            "   - Estadístico W: 0.904764\n",
            "   - p-value: 0.182724\n",
            "   - Conclusión: NORMAL\n",
            "\n",
            "Decisión: PRUEBA PARAMÉTRICA (t-test)\n",
            "\n",
            "PRUEBA DE COMPARACIÓN\n",
            "\n",
            " Levene (homogeneidad de varianzas): p = 0.948221\n",
            "   - Varianzas: IGUALES\n",
            "\n",
            " t-test de Student:\n",
            "   - Estadístico: 5.808224\n",
            "   - p-value: 0.000017\n",
            "\n",
            "ESTADÍSTICOS DESCRIPTIVOS\n",
            "\n",
            " Control:\n",
            "   - Media: 0.98364346\n",
            "   - Mediana: 0.98223462\n",
            "   - Desv. Est.: 0.00695229\n",
            "   - Min: 0.97588065\n",
            "   - Max: 0.99625966\n",
            "\n",
            " Paciente:\n",
            "   - Media: 0.96510434\n",
            "   - Mediana: 0.96590573\n",
            "   - Desv. Est.: 0.00701886\n",
            "   - Min: 0.95079086\n",
            "   - Max: 0.97361293\n",
            "\n",
            "CONCLUSIÓN\n",
            "RECHAZAMOS H0 (p=0.000017 < 0.05)\n",
            "HAY DIFERENCIA ESTADÍSTICAMENTE SIGNIFICATIVA\n",
            "CONTROL tiene MAYOR entropía que PACIENTE\n",
            "PRUEBA ESTADÍSTICA: Control vs Paciente - Imaginacion_Izq (Región Izquierda)\n",
            "\n",
            "HIPÓTESIS:\n",
            "  H0: No hay diferencia significativa entre Control y Paciente (Imaginacion_Izq)\n",
            "  H1: Hay diferencia significativa entre Control y Paciente (Imaginacion_Izq)\n",
            "  α = 0.05\n",
            "\n",
            "PRUEBA DE NORMALIDAD (Shapiro-Wilk)\n",
            "\n",
            " Control:\n",
            "   - N: 11\n",
            "   - Estadístico W: 0.801546\n",
            "   - p-value: 0.009858\n",
            "   - Conclusión: NO NORMAL\n",
            "\n",
            " Paciente:\n",
            "   - N: 9\n",
            "   - Estadístico W: 0.928690\n",
            "   - p-value: 0.468970\n",
            "   - Conclusión: NORMAL\n",
            "\n",
            "Decisión: PRUEBA NO PARAMÉTRICA (Mann-Whitney)\n",
            "\n",
            "PRUEBA DE COMPARACIÓN\n",
            "\n",
            " Mann-Whitney U:\n",
            "   - Estadístico: 99.000000\n",
            "   - p-value: 0.000197\n",
            "\n",
            "ESTADÍSTICOS DESCRIPTIVOS\n",
            "\n",
            " Control:\n",
            "   - Media: 0.98206569\n",
            "   - Mediana: 0.98046593\n",
            "   - Desv. Est.: 0.00550113\n",
            "   - Min: 0.97577355\n",
            "   - Max: 0.99243855\n",
            "\n",
            " Paciente:\n",
            "   - Media: 0.96623878\n",
            "   - Mediana: 0.96662530\n",
            "   - Desv. Est.: 0.00668472\n",
            "   - Min: 0.95256409\n",
            "   - Max: 0.97461334\n",
            "\n",
            "CONCLUSIÓN\n",
            "RECHAZAMOS H0 (p=0.000197 < 0.05)\n",
            "HAY DIFERENCIA ESTADÍSTICAMENTE SIGNIFICATIVA\n",
            "CONTROL tiene MAYOR entropía que PACIENTE\n"
          ]
        }
      ],
      "source": [
        "from scipy import stats\n",
        "\n",
        "df_resultados = pd.read_csv('result_final_.csv')\n",
        "\n",
        "def prueba_control_vs_paciente(df, tarea, region_col, region_nombre):\n",
        "    print(f\"PRUEBA ESTADÍSTICA: Control vs Paciente - {tarea} ({region_nombre})\")\n",
        "\n",
        "    # Filtrar datos de la tarea específica\n",
        "    df_tarea = df[df['Tarea'] == tarea].copy()\n",
        "\n",
        "    control = df_tarea[df_tarea['Tipo_Calculado'] == 'Control'][region_col].values\n",
        "    paciente = df_tarea[df_tarea['Tipo_Calculado'] == 'Paciente'][region_col].values\n",
        "\n",
        "    # HIPÓTESIS\n",
        "    print(\"\\nHIPÓTESIS:\")\n",
        "    print(f\"  H0: No hay diferencia significativa entre Control y Paciente ({tarea})\")\n",
        "    print(f\"  H1: Hay diferencia significativa entre Control y Paciente ({tarea})\")\n",
        "    print(\"  α = 0.05\")\n",
        "\n",
        "    # PASO 1: Normalidad\n",
        "    print(\"\\nPRUEBA DE NORMALIDAD (Shapiro-Wilk)\")\n",
        "\n",
        "    stat_c, p_c = stats.shapiro(control)\n",
        "    stat_p, p_p = stats.shapiro(paciente)\n",
        "\n",
        "    print(f\"\\n Control:\")\n",
        "    print(f\"   - N: {len(control)}\")\n",
        "    print(f\"   - Estadístico W: {stat_c:.6f}\")\n",
        "    print(f\"   - p-value: {p_c:.6f}\")\n",
        "    print(f\"   - Conclusión: {'NORMAL' if p_c > 0.05 else 'NO NORMAL'}\")\n",
        "\n",
        "    print(f\"\\n Paciente:\")\n",
        "    print(f\"   - N: {len(paciente)}\")\n",
        "    print(f\"   - Estadístico W: {stat_p:.6f}\")\n",
        "    print(f\"   - p-value: {p_p:.6f}\")\n",
        "    print(f\"   - Conclusión: {'NORMAL' if p_p > 0.05 else 'NO NORMAL'}\")\n",
        "\n",
        "    # PASO 2: Decisión sobre tipo de prueba\n",
        "    usar_parametrica = (p_c > 0.05) and (p_p > 0.05)\n",
        "    print(f\"\\nDecisión: {'PRUEBA PARAMÉTRICA (t-test)' if usar_parametrica else 'PRUEBA NO PARAMÉTRICA (Mann-Whitney)'}\")\n",
        "\n",
        "    # PASO 3: Prueba de comparación\n",
        "    print(\"\\nPRUEBA DE COMPARACIÓN\")\n",
        "\n",
        "    if usar_parametrica:\n",
        "        stat_lev, p_lev = stats.levene(control, paciente)\n",
        "        print(f\"\\n Levene (homogeneidad de varianzas): p = {p_lev:.6f}\")\n",
        "        print(f\"   - Varianzas: {'IGUALES' if p_lev > 0.05 else 'DIFERENTES'}\")\n",
        "\n",
        "        stat_test, p_test = stats.ttest_ind(control, paciente, equal_var=(p_lev > 0.05))\n",
        "        prueba = \"t-test de Student\"\n",
        "        diff = np.mean(control) - np.mean(paciente)\n",
        "    else:\n",
        "        stat_test, p_test = stats.mannwhitneyu(control, paciente, alternative='two-sided')\n",
        "        prueba = \"Mann-Whitney U\"\n",
        "        diff = np.median(control) - np.median(paciente)\n",
        "\n",
        "    print(f\"\\n {prueba}:\")\n",
        "    print(f\"   - Estadístico: {stat_test:.6f}\")\n",
        "    print(f\"   - p-value: {p_test:.6f}\")\n",
        "\n",
        "    # PASO 4: Estadísticos descriptivos\n",
        "    print(\"\\nESTADÍSTICOS DESCRIPTIVOS\")\n",
        "\n",
        "    print(f\"\\n Control:\")\n",
        "    print(f\"   - Media: {np.mean(control):.8f}\")\n",
        "    print(f\"   - Mediana: {np.median(control):.8f}\")\n",
        "    print(f\"   - Desv. Est.: {np.std(control, ddof=1):.8f}\")\n",
        "    print(f\"   - Min: {np.min(control):.8f}\")\n",
        "    print(f\"   - Max: {np.max(control):.8f}\")\n",
        "\n",
        "    print(f\"\\n Paciente:\")\n",
        "    print(f\"   - Media: {np.mean(paciente):.8f}\")\n",
        "    print(f\"   - Mediana: {np.median(paciente):.8f}\")\n",
        "    print(f\"   - Desv. Est.: {np.std(paciente, ddof=1):.8f}\")\n",
        "    print(f\"   - Min: {np.min(paciente):.8f}\")\n",
        "    print(f\"   - Max: {np.max(paciente):.8f}\")\n",
        "\n",
        "    # PASO 5: Conclusión\n",
        "    print(\"\\nCONCLUSIÓN\")\n",
        "\n",
        "    if p_test < 0.05:\n",
        "        print(f\"RECHAZAMOS H0 (p={p_test:.6f} < 0.05)\")\n",
        "        print(\"HAY DIFERENCIA ESTADÍSTICAMENTE SIGNIFICATIVA\")\n",
        "        if diff > 0:\n",
        "            print(\"CONTROL tiene MAYOR entropía que PACIENTE\")\n",
        "        else:\n",
        "            print(\"PACIENTE tiene MAYOR entropía que CONTROL\")\n",
        "    else:\n",
        "        print(f\"NO RECHAZAMOS H0 (p={p_test:.6f} ≥ 0.05)\")\n",
        "        print(\"NO hay diferencia estadísticamente significativa\")\n",
        "\n",
        "# Ejecutar para cada tarea y región correspondiente\n",
        "prueba_control_vs_paciente(df_resultados, 'Movimiento_Der', 'Promedio_Entropia_Derecha', 'Región Derecha')\n",
        "prueba_control_vs_paciente(df_resultados, 'Movimiento_Izq', 'Promedio_Entropia_Izquierda', 'Región Izquierda')\n",
        "prueba_control_vs_paciente(df_resultados, 'Imaginacion_Der', 'Promedio_Entropia_Derecha', 'Región Derecha')\n",
        "prueba_control_vs_paciente(df_resultados, 'Imaginacion_Izq', 'Promedio_Entropia_Izquierda', 'Región Izquierda')\n"
      ]
    },
    {
      "cell_type": "markdown",
      "source": [
        "<p align=\"justify\">\n",
        "Los resultados de las pruebas estadísticas muestran diferencias significativas y consistentes entre los sujetos Control y los Pacientes en todas las condiciones analizadas (movimiento derecho, movimiento izquierdo, imaginación derecha e imaginación izquierda). En todos los casos, los valores de entropía promedio fueron mayores en el grupo Control, lo que sugiere una mayor complejidad y variabilidad en la actividad cortical de estos sujetos frente a los pacientes.\n",
        "<p align=\"justify\">\n",
        "En las tareas de movimiento real (derecha e izquierda), los controles presentaron valores de entropía significativamente más altos, con distribuciones normales y varianzas homogéneas, lo que confirma que las diferencias no se deben al azar. Este patrón indica que los controles mantienen una dinámica cerebral más rica y coordinada durante la ejecución motora, asociada con una mayor eficiencia y flexibilidad neuronal. En contraste, los pacientes muestran entropía reducida, lo cual puede reflejar disminución de la conectividad funcional o sincronización neural en las áreas motoras, consistente con posibles alteraciones en la transmisión o integración de la información motora.\n",
        "<p align=\"justify\">\n",
        "Durante las tareas de imaginación motora, se observa un patrón similar: los controles siguen mostrando mayores niveles de entropía, tanto en la región derecha como en la izquierda, con diferencias altamente significativas. Esto indica que los sujetos sanos logran activar de manera más estable y compleja las redes motoras durante la imaginación, mientras que los pacientes exhiben una actividad más limitada o menos coordinada, posiblemente producto de una menor capacidad para representar mentalmente el movimiento.\n",
        "<p align=\"justify\">\n",
        "En el caso particular de la imaginación izquierda, donde una de las distribuciones no fue normal, la prueba no paramétrica de Mann–Whitney confirmó igualmente una diferencia significativa, lo que refuerza la solidez del hallazgo.\n",
        "<p align=\"justify\">\n",
        "En conjunto, estos resultados respaldan la hipótesis de que la entropía EEG es un marcador sensible de la integridad funcional del sistema motor. Los valores mayores observados en el grupo Control reflejan un cerebro con mayor complejidad dinámica, capacidad adaptativa y organización eficiente, mientras que la reducción en los pacientes podría asociarse con procesos de disfunción cortical o pérdida de conectividad funcional. Este comportamiento se mantiene tanto en tareas ejecutadas como imaginadas, lo que sugiere que la imaginación motora comparte mecanismos neurales con la ejecución real, pero en los pacientes dicha red se encuentra menos activa o menos eficiente [8][9][10][11]."
      ],
      "metadata": {
        "id": "dSte5TIFZirw"
      },
      "id": "dSte5TIFZirw"
    },
    {
      "cell_type": "markdown",
      "id": "faa22d2b",
      "metadata": {
        "id": "faa22d2b"
      },
      "source": [
        "# **Conclusiones**"
      ]
    },
    {
      "cell_type": "markdown",
      "source": [
        "\n",
        "- Los sujetos Control presentan consistentemente valores de entropía más altos que los pacientes en todas las condiciones de movimiento e imaginación. Esto refleja una mayor complejidad y estabilidad neuronal en individuos sanos, mientras que la reducción de entropía en los pacientes sugiere alteraciones en la conectividad o eficiencia de las redes motoras.\n",
        "\n",
        "- En la comparación entre movimiento real e imaginación motora, no se encontraron diferencias estadísticamente significativas, aunque se observan tendencias leves de entropía ligeramente superior durante la ejecución real. Esto puede explicarse porque el movimiento involucra retroalimentación sensoriomotora, mientras que la imaginación activa las mismas redes de forma interna y con menor intensidad.\n",
        "\n",
        "- Las comparaciones entre hemisferio derecho e izquierdo en la región central muestran una activación equilibrada y simétrica, tanto en movimiento como en imaginación. Esto respalda la función de la corteza motora central como núcleo integrador bilateral, responsable de coordinar la planificación y ejecución de movimientos de ambos lados del cuerpo.\n",
        "\n",
        "- Finalmente, estos hallazgos destacan la utilidad de la entropía del EEG como biomarcador de la integridad funcional del sistema motor. Además, respaldan el desarrollo de BCI personalizados, capaces de aprovechar la activación de redes motoras durante la imaginación para el control de interfaces neuronales, especialmente en pacientes con limitaciones motoras."
      ],
      "metadata": {
        "id": "9TnwM4YBaGyC"
      },
      "id": "9TnwM4YBaGyC"
    },
    {
      "cell_type": "markdown",
      "id": "865b34de",
      "metadata": {
        "id": "865b34de"
      },
      "source": [
        "# **Referencias**"
      ]
    },
    {
      "cell_type": "markdown",
      "id": "30458c58",
      "metadata": {
        "id": "30458c58"
      },
      "source": [
        "[1]Chandrasekaran, S., Fifer, M., Bickel, S. et al. Perspectivas históricas, desafíos y futuras direcciones de las interfaces cerebro-computadora implantables para aplicaciones sensoriomotoras. Bioelectron Med 7 , 14 (2021). https://doi.org/10.1186/s42234-021-00076-6\n",
        "\n",
        "[2]Kawala-Sterniuk A, Browarska N, Al-Bakri A, Pelc M, Zygarlicki J, Sidikova M, Martinek R, Gorzelanczyk EJ. Summary of over Fifty Years with Brain-Computer Interfaces-A Review. Brain Sci. 2021 Jan 3;11(1):43. doi: 10.3390/brainsci11010043. PMID: 33401571; PMCID: PMC7824107.\n",
        "\n",
        "[3]Ding, Y., Udompanyawit, C., Zhang, Y. et al. EEG-based brain-computer interface enables real-time robotic hand control at individual finger level. Nat Commun 16, 5401 (2025). https://doi.org/10.1038/s41467-025-61064-x\n",
        "\n",
        "[4]F. Li, D. Zhang, J. Chen, K. Tang, X. Li, and Z. Hou, “Research hotspots and trends of brain-computer interface technology in stroke: a bibliometric study and visualization analysis,” Frontiers in Neuroscience, vol. 17, Aug. 2023, doi: 10.3389/fnins.2023.1243151.\n",
        "\n",
        "[5] Neuroba. (2025, junio 21). The future of brain-computer interfaces: AI and quantum tech leading the way. Neuroba. https://www.neuroba.com/post/the-future-of-brain-computer-interfaces-ai-and-quantum-tech-leading-the-way\n",
        "\n",
        "[6] Devlin, H. (2025, enero 20). Brain implant that could boost mood by using ultrasound to go under NHS trial. The Guardian. https://www.theguardian.com/science/2025/jan/20/brain-implant-boost-mood-ultrasound-nhs-trial\n",
        "\n",
        "[7]Lv, S., Ran, X., Xia, M. et al. Clasificación de imágenes motoras de la mano izquierda y derecha en pacientes con ictus agudo mediante microestados de EEG. J NeuroEngineering Rehabil 22 , 137 (2025). https://doi.org/10.1186/s12984-025-01668-y\n",
        "\n",
        "[8] Cacciotti A, Pappalettera C, Miraglia F, Rossini PM, Vecchio F. EEG entropy insights in the context of physiological aging and Alzheimer's and Parkinson's diseases: a comprehensive review. Geroscience. 2024 Dec;46(6):5537-5557. doi: 10.1007/s11357-024-01185-1. Epub 2024 May 22. PMID: 38776044; PMCID: PMC11493957.\n",
        "\n",
        "[9] Lau ZJ, Pham T, Chen SHA, Makowski D. Brain entropy, fractal dimensions and predictability: A review of complexity measures for EEG in healthy and neuropsychiatric populations. Eur J Neurosci. 2022 Oct;56(7):5047-5069. doi: 10.1111/ejn.15800. Epub 2022 Sep 2. PMID: 35985344; PMCID: PMC9826422.\n",
        "\n",
        "[10] Serrien DJ, Sovijärvi-Spapé MM. Hemispheric asymmetries and the control of motor sequences. Behav Brain Res. 2015 Apr 15;283:30-6. doi: 10.1016/j.bbr.2015.01.021. Epub 2015 Jan 21. PMID: 25617529.\n",
        "\n",
        "[11]Sun R, Wong WW, Wang J, Tong RK. Changes in Electroencephalography Complexity using a Brain Computer Interface-Motor Observation Training in Chronic Stroke Patients: A Fuzzy Approximate Entropy Analysis. Front Hum Neurosci. 2017 Sep 5;11:444. doi: 10.3389/fnhum.2017.00444. PMID: 28928649; PMCID: PMC5591875.\n",
        "\n"
      ]
    }
  ],
  "metadata": {
    "colab": {
      "provenance": [],
      "include_colab_link": true
    },
    "kernelspec": {
      "display_name": "Python 3",
      "language": "python",
      "name": "python3"
    },
    "language_info": {
      "codemirror_mode": {
        "name": "ipython",
        "version": 3
      },
      "file_extension": ".py",
      "mimetype": "text/x-python",
      "name": "python",
      "nbconvert_exporter": "python",
      "pygments_lexer": "ipython3",
      "version": "3.13.0"
    }
  },
  "nbformat": 4,
  "nbformat_minor": 5
}